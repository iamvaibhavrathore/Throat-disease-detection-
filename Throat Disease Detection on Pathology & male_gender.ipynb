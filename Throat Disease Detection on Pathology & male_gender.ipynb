{
 "cells": [
  {
   "cell_type": "code",
   "execution_count": 1,
   "id": "b66bf280",
   "metadata": {},
   "outputs": [],
   "source": [
    "import os\n",
    "import librosa\n",
    "import pandas as pd\n",
    "import numpy as np\n",
    "import matplotlib.pyplot as plt\n",
    "import seaborn as sns\n",
    "%matplotlib inline"
   ]
  },
  {
   "cell_type": "code",
   "execution_count": 2,
   "id": "de3e2d79",
   "metadata": {},
   "outputs": [],
   "source": [
    "import librosa.display\n",
    "import IPython.display as ipd"
   ]
  },
  {
   "cell_type": "markdown",
   "id": "7ad22bf2",
   "metadata": {},
   "source": [
    "## Reading Dataset"
   ]
  },
  {
   "cell_type": "code",
   "execution_count": 3,
   "id": "3758ffdb",
   "metadata": {
    "scrolled": true
   },
   "outputs": [
    {
     "data": {
      "text/html": [
       "<div>\n",
       "<style scoped>\n",
       "    .dataframe tbody tr th:only-of-type {\n",
       "        vertical-align: middle;\n",
       "    }\n",
       "\n",
       "    .dataframe tbody tr th {\n",
       "        vertical-align: top;\n",
       "    }\n",
       "\n",
       "    .dataframe thead th {\n",
       "        text-align: right;\n",
       "    }\n",
       "</style>\n",
       "<table border=\"1\" class=\"dataframe\">\n",
       "  <thead>\n",
       "    <tr style=\"text-align: right;\">\n",
       "      <th></th>\n",
       "      <th>Recording Id</th>\n",
       "      <th>Type</th>\n",
       "      <th>Gender</th>\n",
       "      <th>Age</th>\n",
       "      <th>Diagnosis Notes</th>\n",
       "      <th>Pathology</th>\n",
       "      <th>Audio</th>\n",
       "    </tr>\n",
       "  </thead>\n",
       "  <tbody>\n",
       "    <tr>\n",
       "      <th>3</th>\n",
       "      <td>4</td>\n",
       "      <td>n</td>\n",
       "      <td>m</td>\n",
       "      <td>22</td>\n",
       "      <td>Normal</td>\n",
       "      <td>Normal</td>\n",
       "      <td>4-a_n.wav</td>\n",
       "    </tr>\n",
       "    <tr>\n",
       "      <th>4</th>\n",
       "      <td>5</td>\n",
       "      <td>n</td>\n",
       "      <td>m</td>\n",
       "      <td>22</td>\n",
       "      <td>Normal</td>\n",
       "      <td>Normal</td>\n",
       "      <td>5-a_n.wav</td>\n",
       "    </tr>\n",
       "    <tr>\n",
       "      <th>10</th>\n",
       "      <td>9</td>\n",
       "      <td>n</td>\n",
       "      <td>m</td>\n",
       "      <td>25</td>\n",
       "      <td>Normal</td>\n",
       "      <td>Normal</td>\n",
       "      <td>9-a_n.wav</td>\n",
       "    </tr>\n",
       "    <tr>\n",
       "      <th>13</th>\n",
       "      <td>11</td>\n",
       "      <td>n</td>\n",
       "      <td>m</td>\n",
       "      <td>23</td>\n",
       "      <td>Normal</td>\n",
       "      <td>Normal</td>\n",
       "      <td>11-a_n.wav</td>\n",
       "    </tr>\n",
       "    <tr>\n",
       "      <th>17</th>\n",
       "      <td>15</td>\n",
       "      <td>n</td>\n",
       "      <td>m</td>\n",
       "      <td>24</td>\n",
       "      <td>Normal</td>\n",
       "      <td>Normal</td>\n",
       "      <td>15-a_n.wav</td>\n",
       "    </tr>\n",
       "    <tr>\n",
       "      <th>29</th>\n",
       "      <td>29</td>\n",
       "      <td>n</td>\n",
       "      <td>m</td>\n",
       "      <td>58</td>\n",
       "      <td>Normal</td>\n",
       "      <td>Normal</td>\n",
       "      <td>29-a_n.wav</td>\n",
       "    </tr>\n",
       "    <tr>\n",
       "      <th>32</th>\n",
       "      <td>32</td>\n",
       "      <td>n</td>\n",
       "      <td>m</td>\n",
       "      <td>45</td>\n",
       "      <td>Normal</td>\n",
       "      <td>Normal</td>\n",
       "      <td>32-a_n.wav</td>\n",
       "    </tr>\n",
       "    <tr>\n",
       "      <th>41</th>\n",
       "      <td>40</td>\n",
       "      <td>n</td>\n",
       "      <td>m</td>\n",
       "      <td>20</td>\n",
       "      <td>Normal</td>\n",
       "      <td>Normal</td>\n",
       "      <td>40-a_n.wav</td>\n",
       "    </tr>\n",
       "    <tr>\n",
       "      <th>42</th>\n",
       "      <td>41</td>\n",
       "      <td>n</td>\n",
       "      <td>m</td>\n",
       "      <td>20</td>\n",
       "      <td>Normal</td>\n",
       "      <td>Normal</td>\n",
       "      <td>41-a_n.wav</td>\n",
       "    </tr>\n",
       "    <tr>\n",
       "      <th>44</th>\n",
       "      <td>43</td>\n",
       "      <td>n</td>\n",
       "      <td>m</td>\n",
       "      <td>32</td>\n",
       "      <td>Normal</td>\n",
       "      <td>Normal</td>\n",
       "      <td>43-a_n.wav</td>\n",
       "    </tr>\n",
       "  </tbody>\n",
       "</table>\n",
       "</div>"
      ],
      "text/plain": [
       "    Recording Id Type Gender  Age Diagnosis Notes Pathology       Audio\n",
       "3              4    n      m   22          Normal    Normal   4-a_n.wav\n",
       "4              5    n      m   22          Normal    Normal   5-a_n.wav\n",
       "10             9    n      m   25          Normal    Normal   9-a_n.wav\n",
       "13            11    n      m   23          Normal    Normal  11-a_n.wav\n",
       "17            15    n      m   24          Normal    Normal  15-a_n.wav\n",
       "29            29    n      m   58          Normal    Normal  29-a_n.wav\n",
       "32            32    n      m   45          Normal    Normal  32-a_n.wav\n",
       "41            40    n      m   20          Normal    Normal  40-a_n.wav\n",
       "42            41    n      m   20          Normal    Normal  41-a_n.wav\n",
       "44            43    n      m   32          Normal    Normal  43-a_n.wav"
      ]
     },
     "execution_count": 3,
     "metadata": {},
     "output_type": "execute_result"
    }
   ],
   "source": [
    "import pandas as pd\n",
    "df1=pd.read_excel('Healthy_data.xlsx')\n",
    "df2=pd.read_excel('Pathological_data.xlsx')\n",
    "df=pd.concat([df1,df2], ignore_index=True)\n",
    "df=df[df.Gender=='m']\n",
    "df.head(10)"
   ]
  },
  {
   "cell_type": "code",
   "execution_count": 4,
   "id": "df5fe054",
   "metadata": {},
   "outputs": [
    {
     "data": {
      "text/plain": [
       "(561, 7)"
      ]
     },
     "execution_count": 4,
     "metadata": {},
     "output_type": "execute_result"
    }
   ],
   "source": [
    "df.shape"
   ]
  },
  {
   "cell_type": "code",
   "execution_count": 5,
   "id": "76cfc7ef",
   "metadata": {},
   "outputs": [
    {
     "name": "stdout",
     "output_type": "stream",
     "text": [
      "<class 'pandas.core.frame.DataFrame'>\n",
      "Index: 561 entries, 3 to 1358\n",
      "Data columns (total 7 columns):\n",
      " #   Column           Non-Null Count  Dtype \n",
      "---  ------           --------------  ----- \n",
      " 0   Recording Id     561 non-null    int64 \n",
      " 1   Type             561 non-null    object\n",
      " 2   Gender           561 non-null    object\n",
      " 3   Age              561 non-null    int64 \n",
      " 4   Diagnosis Notes  534 non-null    object\n",
      " 5   Pathology        561 non-null    object\n",
      " 6   Audio            561 non-null    object\n",
      "dtypes: int64(2), object(5)\n",
      "memory usage: 35.1+ KB\n"
     ]
    }
   ],
   "source": [
    "df.info()"
   ]
  },
  {
   "cell_type": "code",
   "execution_count": 6,
   "id": "db9c1b96",
   "metadata": {},
   "outputs": [
    {
     "data": {
      "text/html": [
       "<div>\n",
       "<style scoped>\n",
       "    .dataframe tbody tr th:only-of-type {\n",
       "        vertical-align: middle;\n",
       "    }\n",
       "\n",
       "    .dataframe tbody tr th {\n",
       "        vertical-align: top;\n",
       "    }\n",
       "\n",
       "    .dataframe thead th {\n",
       "        text-align: right;\n",
       "    }\n",
       "</style>\n",
       "<table border=\"1\" class=\"dataframe\">\n",
       "  <thead>\n",
       "    <tr style=\"text-align: right;\">\n",
       "      <th></th>\n",
       "      <th></th>\n",
       "      <th>Audio</th>\n",
       "    </tr>\n",
       "    <tr>\n",
       "      <th>Type</th>\n",
       "      <th>Gender</th>\n",
       "      <th></th>\n",
       "    </tr>\n",
       "  </thead>\n",
       "  <tbody>\n",
       "    <tr>\n",
       "      <th>n</th>\n",
       "      <th>m</th>\n",
       "      <td>259</td>\n",
       "    </tr>\n",
       "    <tr>\n",
       "      <th>p</th>\n",
       "      <th>m</th>\n",
       "      <td>302</td>\n",
       "    </tr>\n",
       "  </tbody>\n",
       "</table>\n",
       "</div>"
      ],
      "text/plain": [
       "             Audio\n",
       "Type Gender       \n",
       "n    m         259\n",
       "p    m         302"
      ]
     },
     "execution_count": 6,
     "metadata": {},
     "output_type": "execute_result"
    }
   ],
   "source": [
    "type_gender_count = df.groupby([\"Type\",\"Gender\"])[['Audio']].count()\n",
    "type_gender_count"
   ]
  },
  {
   "cell_type": "code",
   "execution_count": 7,
   "id": "8d9f69cb",
   "metadata": {},
   "outputs": [
    {
     "data": {
      "text/plain": [
       "<Axes: xlabel='Type,Gender'>"
      ]
     },
     "execution_count": 7,
     "metadata": {},
     "output_type": "execute_result"
    },
    {
     "data": {
      "image/png": "[encoded data removed]",
      "text/plain": [
       "<Figure size 640x480 with 1 Axes>"
      ]
     },
     "metadata": {},
     "output_type": "display_data"
    }
   ],
   "source": [
    "type_gender_count.plot.bar()"
   ]
  },
  {
   "cell_type": "code",
   "execution_count": 8,
   "id": "98636eac",
   "metadata": {},
   "outputs": [
    {
     "data": {
      "image/png": "[encoded data removed]",
      "text/plain": [
       "<Figure size 640x480 with 1 Axes>"
      ]
     },
     "metadata": {},
     "output_type": "display_data"
    }
   ],
   "source": [
    "sns.countplot(x=df[\"Pathology\"])\n",
    "plt.show()"
   ]
  },
  {
   "cell_type": "markdown",
   "id": "e59c7019",
   "metadata": {},
   "source": [
    "## Extract Features"
   ]
  },
  {
   "cell_type": "code",
   "execution_count": 10,
   "id": "ff680d18",
   "metadata": {},
   "outputs": [],
   "source": [
    "## Extracting MFCC's for every audio file\n",
    "import pandas as pd\n",
    "import os\n",
    "\n",
    "audio_dataset_path = 'Filtered_Audio_Dataset/'"
   ]
  },
  {
   "cell_type": "code",
   "execution_count": 11,
   "id": "aa9d6183",
   "metadata": {},
   "outputs": [],
   "source": [
    "def features_extraction(file):\n",
    "    audio, sample_rate = librosa.load(file_name)\n",
    "    mfccs_features = librosa.feature.mfcc(y=audio, sr= sample_rate, n_mfcc=80)\n",
    "    mfccs_scaled_features = np.mean(mfccs_features.T, axis=0)\n",
    "    \n",
    "    return mfccs_scaled_features"
   ]
  },
  {
   "cell_type": "code",
   "execution_count": 12,
   "id": "722e8c4d",
   "metadata": {},
   "outputs": [
    {
     "name": "stderr",
     "output_type": "stream",
     "text": [
      "561it [00:10, 52.29it/s]\n"
     ]
    }
   ],
   "source": [
    "import numpy as np\n",
    "from tqdm import tqdm\n",
    "\n",
    "extracted_features=[]\n",
    "for index_num,row in tqdm(df.iterrows()):\n",
    "    file_name = audio_dataset_path+row[\"Audio\"]\n",
    "    final_class_labels = row[\"Pathology\"]\n",
    "    data = features_extraction(file_name)\n",
    "    extracted_features.append([data,final_class_labels])"
   ]
  },
  {
   "cell_type": "code",
   "execution_count": 13,
   "id": "c814f35b",
   "metadata": {},
   "outputs": [
    {
     "data": {
      "text/html": [
       "<div>\n",
       "<style scoped>\n",
       "    .dataframe tbody tr th:only-of-type {\n",
       "        vertical-align: middle;\n",
       "    }\n",
       "\n",
       "    .dataframe tbody tr th {\n",
       "        vertical-align: top;\n",
       "    }\n",
       "\n",
       "    .dataframe thead th {\n",
       "        text-align: right;\n",
       "    }\n",
       "</style>\n",
       "<table border=\"1\" class=\"dataframe\">\n",
       "  <thead>\n",
       "    <tr style=\"text-align: right;\">\n",
       "      <th></th>\n",
       "      <th>feature</th>\n",
       "      <th>class</th>\n",
       "    </tr>\n",
       "  </thead>\n",
       "  <tbody>\n",
       "    <tr>\n",
       "      <th>0</th>\n",
       "      <td>[-279.40063, 208.5046, -43.03498, -5.360972, -...</td>\n",
       "      <td>Normal</td>\n",
       "    </tr>\n",
       "    <tr>\n",
       "      <th>1</th>\n",
       "      <td>[-172.24774, 175.08725, -75.93269, 8.99103, -6...</td>\n",
       "      <td>Normal</td>\n",
       "    </tr>\n",
       "    <tr>\n",
       "      <th>2</th>\n",
       "      <td>[-160.34767, 238.37305, -50.651237, -8.1686945...</td>\n",
       "      <td>Normal</td>\n",
       "    </tr>\n",
       "    <tr>\n",
       "      <th>3</th>\n",
       "      <td>[-174.26558, 202.43498, -48.88869, 26.138357, ...</td>\n",
       "      <td>Normal</td>\n",
       "    </tr>\n",
       "    <tr>\n",
       "      <th>4</th>\n",
       "      <td>[-178.27687, 191.5492, -72.10441, 7.839301, -4...</td>\n",
       "      <td>Normal</td>\n",
       "    </tr>\n",
       "    <tr>\n",
       "      <th>5</th>\n",
       "      <td>[-197.26646, 189.61101, -47.13572, 9.000772, -...</td>\n",
       "      <td>Normal</td>\n",
       "    </tr>\n",
       "    <tr>\n",
       "      <th>6</th>\n",
       "      <td>[-228.07176, 183.02597, -31.626911, -15.123821...</td>\n",
       "      <td>Normal</td>\n",
       "    </tr>\n",
       "    <tr>\n",
       "      <th>7</th>\n",
       "      <td>[-235.79805, 207.87103, -39.370472, -27.216578...</td>\n",
       "      <td>Normal</td>\n",
       "    </tr>\n",
       "    <tr>\n",
       "      <th>8</th>\n",
       "      <td>[-332.56256, 205.95406, -61.05219, 7.6796494, ...</td>\n",
       "      <td>Normal</td>\n",
       "    </tr>\n",
       "    <tr>\n",
       "      <th>9</th>\n",
       "      <td>[-147.25772, 178.20045, -82.12582, 1.9781523, ...</td>\n",
       "      <td>Normal</td>\n",
       "    </tr>\n",
       "  </tbody>\n",
       "</table>\n",
       "</div>"
      ],
      "text/plain": [
       "                                             feature   class\n",
       "0  [-279.40063, 208.5046, -43.03498, -5.360972, -...  Normal\n",
       "1  [-172.24774, 175.08725, -75.93269, 8.99103, -6...  Normal\n",
       "2  [-160.34767, 238.37305, -50.651237, -8.1686945...  Normal\n",
       "3  [-174.26558, 202.43498, -48.88869, 26.138357, ...  Normal\n",
       "4  [-178.27687, 191.5492, -72.10441, 7.839301, -4...  Normal\n",
       "5  [-197.26646, 189.61101, -47.13572, 9.000772, -...  Normal\n",
       "6  [-228.07176, 183.02597, -31.626911, -15.123821...  Normal\n",
       "7  [-235.79805, 207.87103, -39.370472, -27.216578...  Normal\n",
       "8  [-332.56256, 205.95406, -61.05219, 7.6796494, ...  Normal\n",
       "9  [-147.25772, 178.20045, -82.12582, 1.9781523, ...  Normal"
      ]
     },
     "execution_count": 13,
     "metadata": {},
     "output_type": "execute_result"
    }
   ],
   "source": [
    "extracted_features_df = pd.DataFrame(extracted_features, columns=['feature','class'])\n",
    "extracted_features_df.head(10)"
   ]
  },
  {
   "cell_type": "code",
   "execution_count": 14,
   "id": "c2827c0f",
   "metadata": {},
   "outputs": [
    {
     "data": {
      "text/plain": [
       "(561, 2)"
      ]
     },
     "execution_count": 14,
     "metadata": {},
     "output_type": "execute_result"
    }
   ],
   "source": [
    "extracted_features_df.shape"
   ]
  },
  {
   "cell_type": "code",
   "execution_count": 15,
   "id": "4bb09498",
   "metadata": {},
   "outputs": [
    {
     "data": {
      "text/plain": [
       "array([-2.7940063e+02,  2.0850459e+02, -4.3034981e+01, -5.3609719e+00,\n",
       "       -5.2530403e+01, -8.8619261e+00, -7.6732415e-01,  6.7943349e+00,\n",
       "        1.0799702e+01, -1.3331823e+00,  8.6732759e+00, -7.2678752e+00,\n",
       "        1.8010962e+01,  1.9159014e+01, -2.7179031e+01, -1.2447955e+01,\n",
       "        1.8915423e+00, -1.5298142e+01, -4.0988545e+00,  1.8953447e+00,\n",
       "        4.7810760e+00, -3.4840662e+00, -1.6979162e+01, -3.4267972e+00,\n",
       "        4.2249260e+00, -9.3542862e+00, -7.8552189e+00, -2.2184309e-01,\n",
       "       -7.5720377e+00, -6.0218911e+00, -9.1817122e+00,  6.1179090e+00,\n",
       "        4.7846541e+00, -8.6046515e+00,  1.2105453e+01, -1.6410214e+00,\n",
       "       -9.7464371e+00,  3.2591763e+00, -8.6933661e+00, -5.1998725e+00,\n",
       "        3.8980737e+00, -7.4412656e+00, -5.7363014e+00, -3.9971590e+00,\n",
       "       -6.7316098e+00, -3.1640453e+00, -6.6905761e+00, -3.9208169e+00,\n",
       "       -3.4986355e+00, -3.5767493e+00, -3.5865269e+00, -6.1424880e+00,\n",
       "       -8.7377186e+00, -6.3181624e+00, -2.7753470e+00, -4.7034574e+00,\n",
       "        1.1015921e-01, -5.1750245e+00, -5.6951485e+00, -1.7120453e+00,\n",
       "       -7.7000837e+00, -1.0622505e+01, -1.0383512e+01, -7.7237840e+00,\n",
       "        2.5946653e+00,  1.8232792e+01,  2.4936136e+01,  2.8669571e+01,\n",
       "        2.2835281e+01,  1.0904361e+01,  4.4246721e+00,  2.5350792e+00,\n",
       "        3.3170602e+00,  5.7518373e+00,  7.4122915e+00,  1.1257874e+00,\n",
       "       -1.8074751e+00, -2.9770665e+00,  1.7964569e+00,  3.8540685e+00],\n",
       "      dtype=float32)"
      ]
     },
     "execution_count": 15,
     "metadata": {},
     "output_type": "execute_result"
    }
   ],
   "source": [
    "extracted_features_df[\"feature\"][0]"
   ]
  },
  {
   "cell_type": "code",
   "execution_count": 16,
   "id": "85fff3b1",
   "metadata": {},
   "outputs": [],
   "source": [
    "## Label Encoding\n",
    "dummy_data = pd.get_dummies(extracted_features_df['class'])"
   ]
  },
  {
   "cell_type": "code",
   "execution_count": 17,
   "id": "4758d3a8",
   "metadata": {},
   "outputs": [
    {
     "data": {
      "text/html": [
       "<div>\n",
       "<style scoped>\n",
       "    .dataframe tbody tr th:only-of-type {\n",
       "        vertical-align: middle;\n",
       "    }\n",
       "\n",
       "    .dataframe tbody tr th {\n",
       "        vertical-align: top;\n",
       "    }\n",
       "\n",
       "    .dataframe thead th {\n",
       "        text-align: right;\n",
       "    }\n",
       "</style>\n",
       "<table border=\"1\" class=\"dataframe\">\n",
       "  <thead>\n",
       "    <tr style=\"text-align: right;\">\n",
       "      <th></th>\n",
       "      <th>Dysphonia</th>\n",
       "      <th>Laryngitis</th>\n",
       "      <th>Normal</th>\n",
       "      <th>Recurrent palsy</th>\n",
       "    </tr>\n",
       "  </thead>\n",
       "  <tbody>\n",
       "    <tr>\n",
       "      <th>0</th>\n",
       "      <td>False</td>\n",
       "      <td>False</td>\n",
       "      <td>True</td>\n",
       "      <td>False</td>\n",
       "    </tr>\n",
       "    <tr>\n",
       "      <th>1</th>\n",
       "      <td>False</td>\n",
       "      <td>False</td>\n",
       "      <td>True</td>\n",
       "      <td>False</td>\n",
       "    </tr>\n",
       "    <tr>\n",
       "      <th>2</th>\n",
       "      <td>False</td>\n",
       "      <td>False</td>\n",
       "      <td>True</td>\n",
       "      <td>False</td>\n",
       "    </tr>\n",
       "    <tr>\n",
       "      <th>3</th>\n",
       "      <td>False</td>\n",
       "      <td>False</td>\n",
       "      <td>True</td>\n",
       "      <td>False</td>\n",
       "    </tr>\n",
       "    <tr>\n",
       "      <th>4</th>\n",
       "      <td>False</td>\n",
       "      <td>False</td>\n",
       "      <td>True</td>\n",
       "      <td>False</td>\n",
       "    </tr>\n",
       "    <tr>\n",
       "      <th>...</th>\n",
       "      <td>...</td>\n",
       "      <td>...</td>\n",
       "      <td>...</td>\n",
       "      <td>...</td>\n",
       "    </tr>\n",
       "    <tr>\n",
       "      <th>556</th>\n",
       "      <td>False</td>\n",
       "      <td>False</td>\n",
       "      <td>False</td>\n",
       "      <td>True</td>\n",
       "    </tr>\n",
       "    <tr>\n",
       "      <th>557</th>\n",
       "      <td>False</td>\n",
       "      <td>False</td>\n",
       "      <td>False</td>\n",
       "      <td>True</td>\n",
       "    </tr>\n",
       "    <tr>\n",
       "      <th>558</th>\n",
       "      <td>False</td>\n",
       "      <td>False</td>\n",
       "      <td>False</td>\n",
       "      <td>True</td>\n",
       "    </tr>\n",
       "    <tr>\n",
       "      <th>559</th>\n",
       "      <td>False</td>\n",
       "      <td>False</td>\n",
       "      <td>False</td>\n",
       "      <td>True</td>\n",
       "    </tr>\n",
       "    <tr>\n",
       "      <th>560</th>\n",
       "      <td>False</td>\n",
       "      <td>False</td>\n",
       "      <td>False</td>\n",
       "      <td>True</td>\n",
       "    </tr>\n",
       "  </tbody>\n",
       "</table>\n",
       "<p>561 rows × 4 columns</p>\n",
       "</div>"
      ],
      "text/plain": [
       "     Dysphonia  Laryngitis  Normal  Recurrent palsy\n",
       "0        False       False    True            False\n",
       "1        False       False    True            False\n",
       "2        False       False    True            False\n",
       "3        False       False    True            False\n",
       "4        False       False    True            False\n",
       "..         ...         ...     ...              ...\n",
       "556      False       False   False             True\n",
       "557      False       False   False             True\n",
       "558      False       False   False             True\n",
       "559      False       False   False             True\n",
       "560      False       False   False             True\n",
       "\n",
       "[561 rows x 4 columns]"
      ]
     },
     "execution_count": 17,
     "metadata": {},
     "output_type": "execute_result"
    }
   ],
   "source": [
    "dummy_data"
   ]
  },
  {
   "cell_type": "code",
   "execution_count": 18,
   "id": "b543b91c",
   "metadata": {},
   "outputs": [],
   "source": [
    "x=np.array(extracted_features_df['feature'].values.tolist())\n",
    "y=dummy_data"
   ]
  },
  {
   "cell_type": "code",
   "execution_count": 19,
   "id": "302d1f82",
   "metadata": {},
   "outputs": [
    {
     "data": {
      "text/plain": [
       "(561, 80)"
      ]
     },
     "execution_count": 19,
     "metadata": {},
     "output_type": "execute_result"
    }
   ],
   "source": [
    "x.shape"
   ]
  },
  {
   "cell_type": "code",
   "execution_count": 20,
   "id": "faca9110",
   "metadata": {
    "scrolled": true
   },
   "outputs": [
    {
     "data": {
      "text/plain": [
       "(561, 4)"
      ]
     },
     "execution_count": 20,
     "metadata": {},
     "output_type": "execute_result"
    }
   ],
   "source": [
    "y.shape"
   ]
  },
  {
   "cell_type": "code",
   "execution_count": 21,
   "id": "7262660d",
   "metadata": {},
   "outputs": [],
   "source": [
    "### Train Test Split\n",
    "from sklearn.model_selection import train_test_split\n",
    "x_train,x_test,y_train,y_test=train_test_split(x,y,stratify= y, test_size=0.2,random_state=0)"
   ]
  },
  {
   "cell_type": "code",
   "execution_count": 22,
   "id": "8e1d6d1a",
   "metadata": {},
   "outputs": [
    {
     "data": {
      "text/plain": [
       "(448, 80)"
      ]
     },
     "execution_count": 22,
     "metadata": {},
     "output_type": "execute_result"
    }
   ],
   "source": [
    "x_train.shape"
   ]
  },
  {
   "cell_type": "code",
   "execution_count": 23,
   "id": "81e0a1ba",
   "metadata": {},
   "outputs": [
    {
     "data": {
      "text/plain": [
       "(113, 80)"
      ]
     },
     "execution_count": 23,
     "metadata": {},
     "output_type": "execute_result"
    }
   ],
   "source": [
    "x_test.shape"
   ]
  },
  {
   "cell_type": "code",
   "execution_count": 24,
   "id": "70ec852f",
   "metadata": {},
   "outputs": [
    {
     "data": {
      "text/plain": [
       "(448, 4)"
      ]
     },
     "execution_count": 24,
     "metadata": {},
     "output_type": "execute_result"
    }
   ],
   "source": [
    "y_train.shape"
   ]
  },
  {
   "cell_type": "code",
   "execution_count": 25,
   "id": "48321029",
   "metadata": {},
   "outputs": [
    {
     "data": {
      "text/plain": [
       "(113, 4)"
      ]
     },
     "execution_count": 25,
     "metadata": {},
     "output_type": "execute_result"
    }
   ],
   "source": [
    "y_test.shape"
   ]
  },
  {
   "cell_type": "markdown",
   "id": "5ff207eb",
   "metadata": {},
   "source": [
    "## Model Training"
   ]
  },
  {
   "cell_type": "code",
   "execution_count": 26,
   "id": "d59d97d4",
   "metadata": {},
   "outputs": [
    {
     "name": "stdout",
     "output_type": "stream",
     "text": [
      "2.13.0\n"
     ]
    }
   ],
   "source": [
    "import tensorflow as tf\n",
    "print(tf.__version__)"
   ]
  },
  {
   "cell_type": "code",
   "execution_count": 27,
   "id": "d3c49c7e",
   "metadata": {},
   "outputs": [],
   "source": [
    "from tensorflow.keras.models import Sequential\n",
    "from tensorflow.keras.layers import Dense,Dropout,Activation,Flatten\n",
    "from tensorflow.keras.optimizers import Adam\n",
    "from sklearn import metrics"
   ]
  },
  {
   "cell_type": "code",
   "execution_count": 28,
   "id": "b0586ea5",
   "metadata": {},
   "outputs": [
    {
     "data": {
      "text/plain": [
       "4"
      ]
     },
     "execution_count": 28,
     "metadata": {},
     "output_type": "execute_result"
    }
   ],
   "source": [
    "## No. of classes\n",
    "num_labels=y.shape[1]\n",
    "num_labels"
   ]
  },
  {
   "cell_type": "code",
   "execution_count": 29,
   "id": "06adc7ce",
   "metadata": {},
   "outputs": [],
   "source": [
    "model=Sequential()\n",
    "## first layer\n",
    "model.add(Dense(256,input_shape=(80,)))\n",
    "model.add(Activation('relu'))\n",
    "model.add(Dropout(0.5))\n",
    "## second layer\n",
    "model.add(Dense(256))\n",
    "model.add(Activation('relu'))\n",
    "model.add(Dropout(0.5))\n",
    "## third layer\n",
    "model.add(Dense(512))\n",
    "model.add(Activation('relu'))\n",
    "model.add(Dropout(0.5))\n",
    "## final Layer\n",
    "model.add(Dense(num_labels))\n",
    "model.add(Activation('softmax'))"
   ]
  },
  {
   "cell_type": "code",
   "execution_count": 30,
   "id": "1e79dd29",
   "metadata": {},
   "outputs": [],
   "source": [
    "model.compile(loss='categorical_crossentropy',metrics=['accuracy'],optimizer='adam')"
   ]
  },
  {
   "cell_type": "code",
   "execution_count": 31,
   "id": "94095501",
   "metadata": {
    "scrolled": true
   },
   "outputs": [
    {
     "name": "stdout",
     "output_type": "stream",
     "text": [
      "Model: \"sequential\"\n",
      "_________________________________________________________________\n",
      " Layer (type)                Output Shape              Param #   \n",
      "=================================================================\n",
      " dense (Dense)               (None, 256)               20736     \n",
      "                                                                 \n",
      " activation (Activation)     (None, 256)               0         \n",
      "                                                                 \n",
      " dropout (Dropout)           (None, 256)               0         \n",
      "                                                                 \n",
      " dense_1 (Dense)             (None, 256)               65792     \n",
      "                                                                 \n",
      " activation_1 (Activation)   (None, 256)               0         \n",
      "                                                                 \n",
      " dropout_1 (Dropout)         (None, 256)               0         \n",
      "                                                                 \n",
      " dense_2 (Dense)             (None, 512)               131584    \n",
      "                                                                 \n",
      " activation_2 (Activation)   (None, 512)               0         \n",
      "                                                                 \n",
      " dropout_2 (Dropout)         (None, 512)               0         \n",
      "                                                                 \n",
      " dense_3 (Dense)             (None, 4)                 2052      \n",
      "                                                                 \n",
      " activation_3 (Activation)   (None, 4)                 0         \n",
      "                                                                 \n",
      "=================================================================\n",
      "Total params: 220164 (860.02 KB)\n",
      "Trainable params: 220164 (860.02 KB)\n",
      "Non-trainable params: 0 (0.00 Byte)\n",
      "_________________________________________________________________\n"
     ]
    }
   ],
   "source": [
    "model.summary()"
   ]
  },
  {
   "cell_type": "code",
   "execution_count": 32,
   "id": "727a1c2e",
   "metadata": {},
   "outputs": [
    {
     "name": "stdout",
     "output_type": "stream",
     "text": [
      "Epoch 1/150\n",
      "13/14 [==========================>...] - ETA: 0s - loss: 20.0869 - accuracy: 0.2933 \n",
      "Epoch 1: val_loss improved from inf to 5.09273, saving model to /audio_classification.hdf5\n",
      "14/14 [==============================] - 2s 67ms/step - loss: 19.7239 - accuracy: 0.2969 - val_loss: 5.0927 - val_accuracy: 0.4336\n",
      "Epoch 2/150\n",
      "11/14 [======================>.......] - ETA: 0s - loss: 13.0326 - accuracy: 0.3665\n",
      "Epoch 2: val_loss improved from 5.09273 to 1.79745, saving model to /audio_classification.hdf5\n"
     ]
    },
    {
     "name": "stderr",
     "output_type": "stream",
     "text": [
      "C:\\Anaconda\\lib\\site-packages\\keras\\src\\engine\\training.py:3000: UserWarning: You are saving your model as an HDF5 file via `model.save()`. This file format is considered legacy. We recommend using instead the native Keras format, e.g. `model.save('my_model.keras')`.\n",
      "  saving_api.save_model(\n"
     ]
    },
    {
     "name": "stdout",
     "output_type": "stream",
     "text": [
      "14/14 [==============================] - 0s 35ms/step - loss: 12.4268 - accuracy: 0.3616 - val_loss: 1.7975 - val_accuracy: 0.4425\n",
      "Epoch 3/150\n",
      "14/14 [==============================] - ETA: 0s - loss: 9.9930 - accuracy: 0.3259\n",
      "Epoch 3: val_loss did not improve from 1.79745\n",
      "14/14 [==============================] - 0s 7ms/step - loss: 9.9930 - accuracy: 0.3259 - val_loss: 2.1115 - val_accuracy: 0.4602\n",
      "Epoch 4/150\n",
      "13/14 [==========================>...] - ETA: 0s - loss: 6.6889 - accuracy: 0.3438\n",
      "Epoch 4: val_loss improved from 1.79745 to 1.69407, saving model to /audio_classification.hdf5\n",
      "14/14 [==============================] - 0s 11ms/step - loss: 6.8001 - accuracy: 0.3438 - val_loss: 1.6941 - val_accuracy: 0.4425\n",
      "Epoch 5/150\n",
      "11/14 [======================>.......] - ETA: 0s - loss: 5.0778 - accuracy: 0.3381\n",
      "Epoch 5: val_loss improved from 1.69407 to 1.38886, saving model to /audio_classification.hdf5\n",
      "14/14 [==============================] - 0s 12ms/step - loss: 4.7961 - accuracy: 0.3527 - val_loss: 1.3889 - val_accuracy: 0.4336\n",
      "Epoch 6/150\n",
      "11/14 [======================>.......] - ETA: 0s - loss: 3.9589 - accuracy: 0.3409\n",
      "Epoch 6: val_loss improved from 1.38886 to 1.34251, saving model to /audio_classification.hdf5\n",
      "14/14 [==============================] - 0s 13ms/step - loss: 3.8803 - accuracy: 0.3594 - val_loss: 1.3425 - val_accuracy: 0.4336\n",
      "Epoch 7/150\n",
      "13/14 [==========================>...] - ETA: 0s - loss: 3.6004 - accuracy: 0.3558\n",
      "Epoch 7: val_loss improved from 1.34251 to 1.29592, saving model to /audio_classification.hdf5\n",
      "14/14 [==============================] - 0s 10ms/step - loss: 3.6036 - accuracy: 0.3527 - val_loss: 1.2959 - val_accuracy: 0.4602\n",
      "Epoch 8/150\n",
      "12/14 [========================>.....] - ETA: 0s - loss: 3.3548 - accuracy: 0.3229\n",
      "Epoch 8: val_loss improved from 1.29592 to 1.27128, saving model to /audio_classification.hdf5\n",
      "14/14 [==============================] - 0s 11ms/step - loss: 3.2908 - accuracy: 0.3259 - val_loss: 1.2713 - val_accuracy: 0.4425\n",
      "Epoch 9/150\n",
      "11/14 [======================>.......] - ETA: 0s - loss: 2.6719 - accuracy: 0.4375\n",
      "Epoch 9: val_loss did not improve from 1.27128\n",
      "14/14 [==============================] - 0s 9ms/step - loss: 2.6958 - accuracy: 0.4196 - val_loss: 1.2795 - val_accuracy: 0.4248\n",
      "Epoch 10/150\n",
      "11/14 [======================>.......] - ETA: 0s - loss: 2.2752 - accuracy: 0.4148\n",
      "Epoch 10: val_loss did not improve from 1.27128\n",
      "14/14 [==============================] - 0s 9ms/step - loss: 2.3388 - accuracy: 0.4085 - val_loss: 1.3521 - val_accuracy: 0.3540\n",
      "Epoch 11/150\n",
      "14/14 [==============================] - ETA: 0s - loss: 2.3939 - accuracy: 0.3527\n",
      "Epoch 11: val_loss did not improve from 1.27128\n",
      "14/14 [==============================] - 0s 9ms/step - loss: 2.3939 - accuracy: 0.3527 - val_loss: 1.3511 - val_accuracy: 0.3186\n",
      "Epoch 12/150\n",
      "12/14 [========================>.....] - ETA: 0s - loss: 2.0913 - accuracy: 0.3620\n",
      "Epoch 12: val_loss did not improve from 1.27128\n",
      "14/14 [==============================] - 0s 9ms/step - loss: 2.0923 - accuracy: 0.3683 - val_loss: 1.3368 - val_accuracy: 0.3805\n",
      "Epoch 13/150\n",
      "12/14 [========================>.....] - ETA: 0s - loss: 1.9819 - accuracy: 0.4036\n",
      "Epoch 13: val_loss did not improve from 1.27128\n",
      "14/14 [==============================] - 0s 9ms/step - loss: 1.9972 - accuracy: 0.4040 - val_loss: 1.3232 - val_accuracy: 0.3805\n",
      "Epoch 14/150\n",
      "11/14 [======================>.......] - ETA: 0s - loss: 1.9921 - accuracy: 0.3949\n",
      "Epoch 14: val_loss did not improve from 1.27128\n",
      "14/14 [==============================] - 0s 10ms/step - loss: 1.9166 - accuracy: 0.3973 - val_loss: 1.3143 - val_accuracy: 0.4071\n",
      "Epoch 15/150\n",
      "12/14 [========================>.....] - ETA: 0s - loss: 1.9546 - accuracy: 0.3438\n",
      "Epoch 15: val_loss did not improve from 1.27128\n",
      "14/14 [==============================] - 0s 8ms/step - loss: 1.8840 - accuracy: 0.3594 - val_loss: 1.3196 - val_accuracy: 0.4071\n",
      "Epoch 16/150\n",
      " 8/14 [================>.............] - ETA: 0s - loss: 1.6955 - accuracy: 0.3633\n",
      "Epoch 16: val_loss did not improve from 1.27128\n",
      "14/14 [==============================] - 0s 9ms/step - loss: 1.8072 - accuracy: 0.3705 - val_loss: 1.3319 - val_accuracy: 0.4690\n",
      "Epoch 17/150\n",
      "13/14 [==========================>...] - ETA: 0s - loss: 1.8207 - accuracy: 0.3510\n",
      "Epoch 17: val_loss did not improve from 1.27128\n",
      "14/14 [==============================] - 0s 7ms/step - loss: 1.8170 - accuracy: 0.3549 - val_loss: 1.3293 - val_accuracy: 0.4071\n",
      "Epoch 18/150\n",
      "13/14 [==========================>...] - ETA: 0s - loss: 1.6270 - accuracy: 0.3486\n",
      "Epoch 18: val_loss did not improve from 1.27128\n",
      "14/14 [==============================] - 0s 8ms/step - loss: 1.6356 - accuracy: 0.3504 - val_loss: 1.3381 - val_accuracy: 0.3894\n",
      "Epoch 19/150\n",
      "13/14 [==========================>...] - ETA: 0s - loss: 1.5433 - accuracy: 0.4207\n",
      "Epoch 19: val_loss did not improve from 1.27128\n",
      "14/14 [==============================] - 0s 8ms/step - loss: 1.5411 - accuracy: 0.4196 - val_loss: 1.3435 - val_accuracy: 0.4336\n",
      "Epoch 20/150\n",
      "11/14 [======================>.......] - ETA: 0s - loss: 1.5814 - accuracy: 0.3750\n",
      "Epoch 20: val_loss did not improve from 1.27128\n",
      "14/14 [==============================] - 0s 9ms/step - loss: 1.5361 - accuracy: 0.3862 - val_loss: 1.3439 - val_accuracy: 0.4159\n",
      "Epoch 21/150\n",
      "14/14 [==============================] - ETA: 0s - loss: 1.5071 - accuracy: 0.4085\n",
      "Epoch 21: val_loss did not improve from 1.27128\n",
      "14/14 [==============================] - 0s 7ms/step - loss: 1.5071 - accuracy: 0.4085 - val_loss: 1.3476 - val_accuracy: 0.4248\n",
      "Epoch 22/150\n",
      "13/14 [==========================>...] - ETA: 0s - loss: 1.4394 - accuracy: 0.3894\n",
      "Epoch 22: val_loss did not improve from 1.27128\n",
      "14/14 [==============================] - 0s 10ms/step - loss: 1.4610 - accuracy: 0.3795 - val_loss: 1.3494 - val_accuracy: 0.4513\n",
      "Epoch 23/150\n",
      "10/14 [====================>.........] - ETA: 0s - loss: 1.4440 - accuracy: 0.4187\n",
      "Epoch 23: val_loss did not improve from 1.27128\n",
      "14/14 [==============================] - 0s 10ms/step - loss: 1.4478 - accuracy: 0.4062 - val_loss: 1.3501 - val_accuracy: 0.4602\n",
      "Epoch 24/150\n",
      "11/14 [======================>.......] - ETA: 0s - loss: 1.5039 - accuracy: 0.4091\n",
      "Epoch 24: val_loss did not improve from 1.27128\n",
      "14/14 [==============================] - 0s 8ms/step - loss: 1.4669 - accuracy: 0.4018 - val_loss: 1.3430 - val_accuracy: 0.4513\n",
      "Epoch 25/150\n",
      "12/14 [========================>.....] - ETA: 0s - loss: 1.4272 - accuracy: 0.3880\n",
      "Epoch 25: val_loss did not improve from 1.27128\n",
      "14/14 [==============================] - 0s 8ms/step - loss: 1.4165 - accuracy: 0.3884 - val_loss: 1.3397 - val_accuracy: 0.4513\n",
      "Epoch 26/150\n",
      "12/14 [========================>.....] - ETA: 0s - loss: 1.4029 - accuracy: 0.4036\n",
      "Epoch 26: val_loss did not improve from 1.27128\n",
      "14/14 [==============================] - 0s 8ms/step - loss: 1.4043 - accuracy: 0.3996 - val_loss: 1.3313 - val_accuracy: 0.4336\n",
      "Epoch 27/150\n",
      "12/14 [========================>.....] - ETA: 0s - loss: 1.3402 - accuracy: 0.4297\n",
      "Epoch 27: val_loss did not improve from 1.27128\n",
      "14/14 [==============================] - 0s 9ms/step - loss: 1.3302 - accuracy: 0.4397 - val_loss: 1.3300 - val_accuracy: 0.3805\n",
      "Epoch 28/150\n",
      "13/14 [==========================>...] - ETA: 0s - loss: 1.3869 - accuracy: 0.4255\n",
      "Epoch 28: val_loss did not improve from 1.27128\n",
      "14/14 [==============================] - 0s 8ms/step - loss: 1.3883 - accuracy: 0.4241 - val_loss: 1.3213 - val_accuracy: 0.4513\n",
      "Epoch 29/150\n",
      " 1/14 [=>............................] - ETA: 0s - loss: 1.2534 - accuracy: 0.5312\n",
      "Epoch 29: val_loss did not improve from 1.27128\n",
      "14/14 [==============================] - 0s 8ms/step - loss: 1.3161 - accuracy: 0.4241 - val_loss: 1.3256 - val_accuracy: 0.4602\n",
      "Epoch 30/150\n",
      "12/14 [========================>.....] - ETA: 0s - loss: 1.3123 - accuracy: 0.4089\n",
      "Epoch 30: val_loss did not improve from 1.27128\n",
      "14/14 [==============================] - 0s 10ms/step - loss: 1.3135 - accuracy: 0.4129 - val_loss: 1.3204 - val_accuracy: 0.4867\n",
      "Epoch 31/150\n",
      "14/14 [==============================] - ETA: 0s - loss: 1.4240 - accuracy: 0.4397\n",
      "Epoch 31: val_loss did not improve from 1.27128\n",
      "14/14 [==============================] - 0s 8ms/step - loss: 1.4240 - accuracy: 0.4397 - val_loss: 1.3268 - val_accuracy: 0.4779\n"
     ]
    },
    {
     "name": "stdout",
     "output_type": "stream",
     "text": [
      "Epoch 32/150\n",
      "12/14 [========================>.....] - ETA: 0s - loss: 1.2908 - accuracy: 0.4505\n",
      "Epoch 32: val_loss did not improve from 1.27128\n",
      "14/14 [==============================] - 0s 9ms/step - loss: 1.3063 - accuracy: 0.4487 - val_loss: 1.3322 - val_accuracy: 0.4425\n",
      "Epoch 33/150\n",
      "12/14 [========================>.....] - ETA: 0s - loss: 1.3468 - accuracy: 0.3880\n",
      "Epoch 33: val_loss did not improve from 1.27128\n",
      "14/14 [==============================] - 0s 10ms/step - loss: 1.3236 - accuracy: 0.4152 - val_loss: 1.3210 - val_accuracy: 0.4602\n",
      "Epoch 34/150\n",
      "13/14 [==========================>...] - ETA: 0s - loss: 1.2565 - accuracy: 0.4471\n",
      "Epoch 34: val_loss did not improve from 1.27128\n",
      "14/14 [==============================] - 0s 8ms/step - loss: 1.2706 - accuracy: 0.4375 - val_loss: 1.3176 - val_accuracy: 0.4867\n",
      "Epoch 35/150\n",
      "13/14 [==========================>...] - ETA: 0s - loss: 1.2890 - accuracy: 0.4423\n",
      "Epoch 35: val_loss did not improve from 1.27128\n",
      "14/14 [==============================] - 0s 9ms/step - loss: 1.2737 - accuracy: 0.4531 - val_loss: 1.3063 - val_accuracy: 0.4956\n",
      "Epoch 36/150\n",
      "11/14 [======================>.......] - ETA: 0s - loss: 1.3460 - accuracy: 0.4659\n",
      "Epoch 36: val_loss did not improve from 1.27128\n",
      "14/14 [==============================] - 0s 10ms/step - loss: 1.3319 - accuracy: 0.4509 - val_loss: 1.3078 - val_accuracy: 0.4779\n",
      "Epoch 37/150\n",
      "10/14 [====================>.........] - ETA: 0s - loss: 1.3340 - accuracy: 0.4094\n",
      "Epoch 37: val_loss did not improve from 1.27128\n",
      "14/14 [==============================] - 0s 10ms/step - loss: 1.3122 - accuracy: 0.4062 - val_loss: 1.3156 - val_accuracy: 0.4602\n",
      "Epoch 38/150\n",
      "13/14 [==========================>...] - ETA: 0s - loss: 1.2588 - accuracy: 0.4423\n",
      "Epoch 38: val_loss did not improve from 1.27128\n",
      "14/14 [==============================] - 0s 8ms/step - loss: 1.2600 - accuracy: 0.4442 - val_loss: 1.2999 - val_accuracy: 0.4690\n",
      "Epoch 39/150\n",
      "12/14 [========================>.....] - ETA: 0s - loss: 1.2205 - accuracy: 0.4349\n",
      "Epoch 39: val_loss did not improve from 1.27128\n",
      "14/14 [==============================] - 0s 9ms/step - loss: 1.2448 - accuracy: 0.4308 - val_loss: 1.2772 - val_accuracy: 0.4690\n",
      "Epoch 40/150\n",
      "11/14 [======================>.......] - ETA: 0s - loss: 1.2606 - accuracy: 0.4403\n",
      "Epoch 40: val_loss improved from 1.27128 to 1.26454, saving model to /audio_classification.hdf5\n",
      "14/14 [==============================] - 0s 21ms/step - loss: 1.2619 - accuracy: 0.4487 - val_loss: 1.2645 - val_accuracy: 0.4779\n",
      "Epoch 41/150\n",
      "12/14 [========================>.....] - ETA: 0s - loss: 1.3162 - accuracy: 0.4167\n",
      "Epoch 41: val_loss improved from 1.26454 to 1.26356, saving model to /audio_classification.hdf5\n",
      "14/14 [==============================] - 0s 11ms/step - loss: 1.2858 - accuracy: 0.4241 - val_loss: 1.2636 - val_accuracy: 0.4867\n",
      "Epoch 42/150\n",
      "12/14 [========================>.....] - ETA: 0s - loss: 1.3030 - accuracy: 0.4427\n",
      "Epoch 42: val_loss did not improve from 1.26356\n",
      "14/14 [==============================] - 0s 9ms/step - loss: 1.2870 - accuracy: 0.4487 - val_loss: 1.2649 - val_accuracy: 0.4867\n",
      "Epoch 43/150\n",
      "13/14 [==========================>...] - ETA: 0s - loss: 1.3262 - accuracy: 0.4231\n",
      "Epoch 43: val_loss improved from 1.26356 to 1.25286, saving model to /audio_classification.hdf5\n",
      "14/14 [==============================] - 0s 18ms/step - loss: 1.3038 - accuracy: 0.4353 - val_loss: 1.2529 - val_accuracy: 0.4779\n",
      "Epoch 44/150\n",
      "13/14 [==========================>...] - ETA: 0s - loss: 1.2471 - accuracy: 0.4736\n",
      "Epoch 44: val_loss did not improve from 1.25286\n",
      "14/14 [==============================] - 0s 15ms/step - loss: 1.2635 - accuracy: 0.4688 - val_loss: 1.2768 - val_accuracy: 0.4513\n",
      "Epoch 45/150\n",
      "11/14 [======================>.......] - ETA: 0s - loss: 1.2571 - accuracy: 0.4460\n",
      "Epoch 45: val_loss did not improve from 1.25286\n",
      "14/14 [==============================] - 0s 8ms/step - loss: 1.2591 - accuracy: 0.4353 - val_loss: 1.2866 - val_accuracy: 0.4602\n",
      "Epoch 46/150\n",
      "13/14 [==========================>...] - ETA: 0s - loss: 1.1952 - accuracy: 0.4712\n",
      "Epoch 46: val_loss did not improve from 1.25286\n",
      "14/14 [==============================] - 0s 8ms/step - loss: 1.2020 - accuracy: 0.4665 - val_loss: 1.2706 - val_accuracy: 0.4513\n",
      "Epoch 47/150\n",
      "14/14 [==============================] - ETA: 0s - loss: 1.2116 - accuracy: 0.4554\n",
      "Epoch 47: val_loss improved from 1.25286 to 1.24865, saving model to /audio_classification.hdf5\n",
      "14/14 [==============================] - 0s 11ms/step - loss: 1.2116 - accuracy: 0.4554 - val_loss: 1.2486 - val_accuracy: 0.4602\n",
      "Epoch 48/150\n",
      "11/14 [======================>.......] - ETA: 0s - loss: 1.2088 - accuracy: 0.4631\n",
      "Epoch 48: val_loss improved from 1.24865 to 1.23998, saving model to /audio_classification.hdf5\n",
      "14/14 [==============================] - 0s 11ms/step - loss: 1.1913 - accuracy: 0.4665 - val_loss: 1.2400 - val_accuracy: 0.4867\n",
      "Epoch 49/150\n",
      "11/14 [======================>.......] - ETA: 0s - loss: 1.2978 - accuracy: 0.4176\n",
      "Epoch 49: val_loss did not improve from 1.23998\n",
      "14/14 [==============================] - 0s 10ms/step - loss: 1.2654 - accuracy: 0.4263 - val_loss: 1.2594 - val_accuracy: 0.4779\n",
      "Epoch 50/150\n",
      "11/14 [======================>.......] - ETA: 0s - loss: 1.2146 - accuracy: 0.4545\n",
      "Epoch 50: val_loss did not improve from 1.23998\n",
      "14/14 [==============================] - 0s 8ms/step - loss: 1.1989 - accuracy: 0.4554 - val_loss: 1.2587 - val_accuracy: 0.4867\n",
      "Epoch 51/150\n",
      "12/14 [========================>.....] - ETA: 0s - loss: 1.2354 - accuracy: 0.4583\n",
      "Epoch 51: val_loss did not improve from 1.23998\n",
      "14/14 [==============================] - 0s 8ms/step - loss: 1.2234 - accuracy: 0.4531 - val_loss: 1.2441 - val_accuracy: 0.4779\n",
      "Epoch 52/150\n",
      "14/14 [==============================] - ETA: 0s - loss: 1.2365 - accuracy: 0.4754\n",
      "Epoch 52: val_loss improved from 1.23998 to 1.22806, saving model to /audio_classification.hdf5\n",
      "14/14 [==============================] - 0s 13ms/step - loss: 1.2365 - accuracy: 0.4754 - val_loss: 1.2281 - val_accuracy: 0.4867\n",
      "Epoch 53/150\n",
      "11/14 [======================>.......] - ETA: 0s - loss: 1.2227 - accuracy: 0.4602\n",
      "Epoch 53: val_loss improved from 1.22806 to 1.21496, saving model to /audio_classification.hdf5\n",
      "14/14 [==============================] - 0s 11ms/step - loss: 1.2324 - accuracy: 0.4531 - val_loss: 1.2150 - val_accuracy: 0.5398\n",
      "Epoch 54/150\n",
      "14/14 [==============================] - ETA: 0s - loss: 1.1857 - accuracy: 0.4643\n",
      "Epoch 54: val_loss improved from 1.21496 to 1.20587, saving model to /audio_classification.hdf5\n",
      "14/14 [==============================] - 0s 11ms/step - loss: 1.1857 - accuracy: 0.4643 - val_loss: 1.2059 - val_accuracy: 0.5133\n",
      "Epoch 55/150\n",
      " 1/14 [=>............................] - ETA: 0s - loss: 1.0717 - accuracy: 0.5000\n",
      "Epoch 55: val_loss did not improve from 1.20587\n",
      "14/14 [==============================] - 0s 7ms/step - loss: 1.1858 - accuracy: 0.4754 - val_loss: 1.2157 - val_accuracy: 0.4867\n",
      "Epoch 56/150\n",
      "12/14 [========================>.....] - ETA: 0s - loss: 1.1682 - accuracy: 0.4922\n",
      "Epoch 56: val_loss did not improve from 1.20587\n",
      "14/14 [==============================] - 0s 8ms/step - loss: 1.1804 - accuracy: 0.4888 - val_loss: 1.2124 - val_accuracy: 0.5044\n",
      "Epoch 57/150\n",
      "11/14 [======================>.......] - ETA: 0s - loss: 1.2359 - accuracy: 0.4744\n",
      "Epoch 57: val_loss improved from 1.20587 to 1.18552, saving model to /audio_classification.hdf5\n",
      "14/14 [==============================] - 0s 16ms/step - loss: 1.2378 - accuracy: 0.4777 - val_loss: 1.1855 - val_accuracy: 0.4956\n",
      "Epoch 58/150\n",
      "11/14 [======================>.......] - ETA: 0s - loss: 1.1863 - accuracy: 0.4716\n",
      "Epoch 58: val_loss did not improve from 1.18552\n",
      "14/14 [==============================] - 0s 9ms/step - loss: 1.1553 - accuracy: 0.4911 - val_loss: 1.2049 - val_accuracy: 0.4867\n",
      "Epoch 59/150\n",
      "12/14 [========================>.....] - ETA: 0s - loss: 1.2229 - accuracy: 0.4557\n",
      "Epoch 59: val_loss did not improve from 1.18552\n",
      "14/14 [==============================] - 0s 10ms/step - loss: 1.2119 - accuracy: 0.4576 - val_loss: 1.2045 - val_accuracy: 0.4956\n",
      "Epoch 60/150\n",
      "12/14 [========================>.....] - ETA: 0s - loss: 1.1591 - accuracy: 0.5052\n",
      "Epoch 60: val_loss did not improve from 1.18552\n"
     ]
    },
    {
     "name": "stdout",
     "output_type": "stream",
     "text": [
      "14/14 [==============================] - 0s 12ms/step - loss: 1.1732 - accuracy: 0.4955 - val_loss: 1.2222 - val_accuracy: 0.4513\n",
      "Epoch 61/150\n",
      "13/14 [==========================>...] - ETA: 0s - loss: 1.1754 - accuracy: 0.5192\n",
      "Epoch 61: val_loss did not improve from 1.18552\n",
      "14/14 [==============================] - 0s 7ms/step - loss: 1.1686 - accuracy: 0.5201 - val_loss: 1.2128 - val_accuracy: 0.4956\n",
      "Epoch 62/150\n",
      "13/14 [==========================>...] - ETA: 0s - loss: 1.1341 - accuracy: 0.4808\n",
      "Epoch 62: val_loss did not improve from 1.18552\n",
      "14/14 [==============================] - 0s 8ms/step - loss: 1.1591 - accuracy: 0.4710 - val_loss: 1.1973 - val_accuracy: 0.4956\n",
      "Epoch 63/150\n",
      "14/14 [==============================] - ETA: 0s - loss: 1.1627 - accuracy: 0.5156\n",
      "Epoch 63: val_loss did not improve from 1.18552\n",
      "14/14 [==============================] - 0s 8ms/step - loss: 1.1627 - accuracy: 0.5156 - val_loss: 1.2002 - val_accuracy: 0.4867\n",
      "Epoch 64/150\n",
      "11/14 [======================>.......] - ETA: 0s - loss: 1.1751 - accuracy: 0.4858\n",
      "Epoch 64: val_loss did not improve from 1.18552\n",
      "14/14 [==============================] - 0s 10ms/step - loss: 1.1794 - accuracy: 0.5000 - val_loss: 1.2120 - val_accuracy: 0.5133\n",
      "Epoch 65/150\n",
      "11/14 [======================>.......] - ETA: 0s - loss: 1.1662 - accuracy: 0.5142\n",
      "Epoch 65: val_loss did not improve from 1.18552\n",
      "14/14 [==============================] - 0s 10ms/step - loss: 1.1558 - accuracy: 0.5246 - val_loss: 1.1969 - val_accuracy: 0.5133\n",
      "Epoch 66/150\n",
      "12/14 [========================>.....] - ETA: 0s - loss: 1.1313 - accuracy: 0.5052\n",
      "Epoch 66: val_loss improved from 1.18552 to 1.18437, saving model to /audio_classification.hdf5\n",
      "14/14 [==============================] - 0s 12ms/step - loss: 1.1330 - accuracy: 0.5000 - val_loss: 1.1844 - val_accuracy: 0.5044\n",
      "Epoch 67/150\n",
      "10/14 [====================>.........] - ETA: 0s - loss: 1.0877 - accuracy: 0.5500\n",
      "Epoch 67: val_loss improved from 1.18437 to 1.17601, saving model to /audio_classification.hdf5\n",
      "14/14 [==============================] - 0s 12ms/step - loss: 1.1401 - accuracy: 0.5223 - val_loss: 1.1760 - val_accuracy: 0.5044\n",
      "Epoch 68/150\n",
      "11/14 [======================>.......] - ETA: 0s - loss: 1.1084 - accuracy: 0.4773\n",
      "Epoch 68: val_loss improved from 1.17601 to 1.17349, saving model to /audio_classification.hdf5\n",
      "14/14 [==============================] - 0s 14ms/step - loss: 1.1094 - accuracy: 0.4888 - val_loss: 1.1735 - val_accuracy: 0.5044\n",
      "Epoch 69/150\n",
      "10/14 [====================>.........] - ETA: 0s - loss: 1.1339 - accuracy: 0.5219\n",
      "Epoch 69: val_loss improved from 1.17349 to 1.16899, saving model to /audio_classification.hdf5\n",
      "14/14 [==============================] - 0s 20ms/step - loss: 1.1268 - accuracy: 0.5179 - val_loss: 1.1690 - val_accuracy: 0.5221\n",
      "Epoch 70/150\n",
      "11/14 [======================>.......] - ETA: 0s - loss: 1.2068 - accuracy: 0.5028\n",
      "Epoch 70: val_loss did not improve from 1.16899\n",
      "14/14 [==============================] - 0s 8ms/step - loss: 1.1708 - accuracy: 0.5268 - val_loss: 1.1765 - val_accuracy: 0.5575\n",
      "Epoch 71/150\n",
      "14/14 [==============================] - ETA: 0s - loss: 1.1052 - accuracy: 0.5000\n",
      "Epoch 71: val_loss did not improve from 1.16899\n",
      "14/14 [==============================] - 0s 8ms/step - loss: 1.1052 - accuracy: 0.5000 - val_loss: 1.1703 - val_accuracy: 0.5664\n",
      "Epoch 72/150\n",
      "14/14 [==============================] - ETA: 0s - loss: 1.0970 - accuracy: 0.5067\n",
      "Epoch 72: val_loss improved from 1.16899 to 1.13776, saving model to /audio_classification.hdf5\n",
      "14/14 [==============================] - 0s 12ms/step - loss: 1.0970 - accuracy: 0.5067 - val_loss: 1.1378 - val_accuracy: 0.5310\n",
      "Epoch 73/150\n",
      "11/14 [======================>.......] - ETA: 0s - loss: 1.1412 - accuracy: 0.5085\n",
      "Epoch 73: val_loss improved from 1.13776 to 1.11464, saving model to /audio_classification.hdf5\n",
      "14/14 [==============================] - 0s 14ms/step - loss: 1.1179 - accuracy: 0.5156 - val_loss: 1.1146 - val_accuracy: 0.5487\n",
      "Epoch 74/150\n",
      "12/14 [========================>.....] - ETA: 0s - loss: 1.1034 - accuracy: 0.5495\n",
      "Epoch 74: val_loss did not improve from 1.11464\n",
      "14/14 [==============================] - 0s 9ms/step - loss: 1.0823 - accuracy: 0.5536 - val_loss: 1.1315 - val_accuracy: 0.5221\n",
      "Epoch 75/150\n",
      "12/14 [========================>.....] - ETA: 0s - loss: 1.1469 - accuracy: 0.4922\n",
      "Epoch 75: val_loss did not improve from 1.11464\n",
      "14/14 [==============================] - 0s 9ms/step - loss: 1.1118 - accuracy: 0.4933 - val_loss: 1.1370 - val_accuracy: 0.5398\n",
      "Epoch 76/150\n",
      "11/14 [======================>.......] - ETA: 0s - loss: 1.1431 - accuracy: 0.5000\n",
      "Epoch 76: val_loss did not improve from 1.11464\n",
      "14/14 [==============================] - 0s 10ms/step - loss: 1.1221 - accuracy: 0.5067 - val_loss: 1.1569 - val_accuracy: 0.5133\n",
      "Epoch 77/150\n",
      "12/14 [========================>.....] - ETA: 0s - loss: 1.0464 - accuracy: 0.5417\n",
      "Epoch 77: val_loss did not improve from 1.11464\n",
      "14/14 [==============================] - 0s 9ms/step - loss: 1.0608 - accuracy: 0.5424 - val_loss: 1.1560 - val_accuracy: 0.4867\n",
      "Epoch 78/150\n",
      "12/14 [========================>.....] - ETA: 0s - loss: 1.0264 - accuracy: 0.5417\n",
      "Epoch 78: val_loss did not improve from 1.11464\n",
      "14/14 [==============================] - 0s 8ms/step - loss: 1.0557 - accuracy: 0.5469 - val_loss: 1.1345 - val_accuracy: 0.5221\n",
      "Epoch 79/150\n",
      "13/14 [==========================>...] - ETA: 0s - loss: 1.1372 - accuracy: 0.5096\n",
      "Epoch 79: val_loss did not improve from 1.11464\n",
      "14/14 [==============================] - 0s 7ms/step - loss: 1.1169 - accuracy: 0.5223 - val_loss: 1.1443 - val_accuracy: 0.5310\n",
      "Epoch 80/150\n",
      "12/14 [========================>.....] - ETA: 0s - loss: 1.0460 - accuracy: 0.5469\n",
      "Epoch 80: val_loss did not improve from 1.11464\n",
      "14/14 [==============================] - 0s 8ms/step - loss: 1.0683 - accuracy: 0.5312 - val_loss: 1.1578 - val_accuracy: 0.5221\n",
      "Epoch 81/150\n",
      "14/14 [==============================] - ETA: 0s - loss: 1.0897 - accuracy: 0.5290\n",
      "Epoch 81: val_loss did not improve from 1.11464\n",
      "14/14 [==============================] - 0s 8ms/step - loss: 1.0897 - accuracy: 0.5290 - val_loss: 1.1555 - val_accuracy: 0.5221\n",
      "Epoch 82/150\n",
      "11/14 [======================>.......] - ETA: 0s - loss: 1.0544 - accuracy: 0.5312\n",
      "Epoch 82: val_loss did not improve from 1.11464\n",
      "14/14 [==============================] - 0s 10ms/step - loss: 1.0914 - accuracy: 0.5223 - val_loss: 1.1360 - val_accuracy: 0.5398\n",
      "Epoch 83/150\n",
      "11/14 [======================>.......] - ETA: 0s - loss: 1.0242 - accuracy: 0.5483\n",
      "Epoch 83: val_loss did not improve from 1.11464\n",
      "14/14 [==============================] - 0s 9ms/step - loss: 1.0384 - accuracy: 0.5536 - val_loss: 1.1240 - val_accuracy: 0.5398\n",
      "Epoch 84/150\n",
      "13/14 [==========================>...] - ETA: 0s - loss: 1.0462 - accuracy: 0.5457\n",
      "Epoch 84: val_loss did not improve from 1.11464\n",
      "14/14 [==============================] - 0s 8ms/step - loss: 1.0392 - accuracy: 0.5491 - val_loss: 1.1179 - val_accuracy: 0.5310\n",
      "Epoch 85/150\n",
      "11/14 [======================>.......] - ETA: 0s - loss: 1.0539 - accuracy: 0.5369\n",
      "Epoch 85: val_loss improved from 1.11464 to 1.10800, saving model to /audio_classification.hdf5\n",
      "14/14 [==============================] - 0s 12ms/step - loss: 1.0378 - accuracy: 0.5513 - val_loss: 1.1080 - val_accuracy: 0.5398\n",
      "Epoch 86/150\n",
      "12/14 [========================>.....] - ETA: 0s - loss: 1.0123 - accuracy: 0.5677\n",
      "Epoch 86: val_loss improved from 1.10800 to 1.09889, saving model to /audio_classification.hdf5\n",
      "14/14 [==============================] - 0s 11ms/step - loss: 1.0030 - accuracy: 0.5670 - val_loss: 1.0989 - val_accuracy: 0.5752\n",
      "Epoch 87/150\n",
      "11/14 [======================>.......] - ETA: 0s - loss: 1.0144 - accuracy: 0.5653\n",
      "Epoch 87: val_loss did not improve from 1.09889\n",
      "14/14 [==============================] - 0s 7ms/step - loss: 1.0231 - accuracy: 0.5558 - val_loss: 1.1045 - val_accuracy: 0.5310\n",
      "Epoch 88/150\n",
      "11/14 [======================>.......] - ETA: 0s - loss: 1.0302 - accuracy: 0.5909\n",
      "Epoch 88: val_loss did not improve from 1.09889\n",
      "14/14 [==============================] - 0s 9ms/step - loss: 1.0067 - accuracy: 0.5893 - val_loss: 1.1016 - val_accuracy: 0.5752\n",
      "Epoch 89/150\n",
      "13/14 [==========================>...] - ETA: 0s - loss: 0.9791 - accuracy: 0.5697\n",
      "Epoch 89: val_loss improved from 1.09889 to 1.07695, saving model to /audio_classification.hdf5\n",
      "14/14 [==============================] - 0s 13ms/step - loss: 0.9789 - accuracy: 0.5737 - val_loss: 1.0770 - val_accuracy: 0.5752\n",
      "Epoch 90/150\n",
      "14/14 [==============================] - ETA: 0s - loss: 0.9401 - accuracy: 0.5737\n",
      "Epoch 90: val_loss improved from 1.07695 to 1.07012, saving model to /audio_classification.hdf5\n",
      "14/14 [==============================] - 0s 10ms/step - loss: 0.9401 - accuracy: 0.5737 - val_loss: 1.0701 - val_accuracy: 0.5487\n",
      "Epoch 91/150\n",
      "11/14 [======================>.......] - ETA: 0s - loss: 0.9964 - accuracy: 0.5511\n",
      "Epoch 91: val_loss did not improve from 1.07012\n",
      "14/14 [==============================] - 0s 10ms/step - loss: 0.9645 - accuracy: 0.5692 - val_loss: 1.0866 - val_accuracy: 0.5398\n",
      "Epoch 92/150\n",
      "12/14 [========================>.....] - ETA: 0s - loss: 0.9603 - accuracy: 0.5755\n",
      "Epoch 92: val_loss did not improve from 1.07012\n",
      "14/14 [==============================] - 0s 8ms/step - loss: 0.9601 - accuracy: 0.5804 - val_loss: 1.0982 - val_accuracy: 0.5133\n",
      "Epoch 93/150\n",
      "12/14 [========================>.....] - ETA: 0s - loss: 0.9137 - accuracy: 0.6406\n",
      "Epoch 93: val_loss did not improve from 1.07012\n",
      "14/14 [==============================] - 0s 9ms/step - loss: 0.9255 - accuracy: 0.6339 - val_loss: 1.0991 - val_accuracy: 0.5575\n",
      "Epoch 94/150\n",
      " 6/14 [===========>..................] - ETA: 0s - loss: 0.9891 - accuracy: 0.5729\n",
      "Epoch 94: val_loss did not improve from 1.07012\n",
      "14/14 [==============================] - 0s 10ms/step - loss: 0.9332 - accuracy: 0.6049 - val_loss: 1.0874 - val_accuracy: 0.5398\n",
      "Epoch 95/150\n",
      "10/14 [====================>.........] - ETA: 0s - loss: 0.8574 - accuracy: 0.6219\n",
      "Epoch 95: val_loss did not improve from 1.07012\n",
      "14/14 [==============================] - 0s 10ms/step - loss: 0.8623 - accuracy: 0.6161 - val_loss: 1.0890 - val_accuracy: 0.5398\n",
      "Epoch 96/150\n",
      "11/14 [======================>.......] - ETA: 0s - loss: 0.9231 - accuracy: 0.6023\n",
      "Epoch 96: val_loss did not improve from 1.07012\n",
      "14/14 [==============================] - 0s 9ms/step - loss: 0.9570 - accuracy: 0.5781 - val_loss: 1.0837 - val_accuracy: 0.5398\n",
      "Epoch 97/150\n",
      "14/14 [==============================] - ETA: 0s - loss: 0.9043 - accuracy: 0.5915\n",
      "Epoch 97: val_loss did not improve from 1.07012\n",
      "14/14 [==============================] - 0s 7ms/step - loss: 0.9043 - accuracy: 0.5915 - val_loss: 1.0701 - val_accuracy: 0.5398\n",
      "Epoch 98/150\n",
      " 1/14 [=>............................] - ETA: 0s - loss: 0.8767 - accuracy: 0.6250\n",
      "Epoch 98: val_loss did not improve from 1.07012\n",
      "14/14 [==============================] - 0s 8ms/step - loss: 0.9216 - accuracy: 0.6138 - val_loss: 1.0752 - val_accuracy: 0.5487\n",
      "Epoch 99/150\n",
      "13/14 [==========================>...] - ETA: 0s - loss: 0.8736 - accuracy: 0.6322\n",
      "Epoch 99: val_loss improved from 1.07012 to 1.06939, saving model to /audio_classification.hdf5\n",
      "14/14 [==============================] - 0s 12ms/step - loss: 0.8917 - accuracy: 0.6272 - val_loss: 1.0694 - val_accuracy: 0.5575\n",
      "Epoch 100/150\n",
      "12/14 [========================>.....] - ETA: 0s - loss: 0.8673 - accuracy: 0.6380\n",
      "Epoch 100: val_loss did not improve from 1.06939\n",
      "14/14 [==============================] - 0s 10ms/step - loss: 0.8680 - accuracy: 0.6339 - val_loss: 1.0864 - val_accuracy: 0.5310\n",
      "Epoch 101/150\n",
      "11/14 [======================>.......] - ETA: 0s - loss: 0.8174 - accuracy: 0.6562\n",
      "Epoch 101: val_loss did not improve from 1.06939\n",
      "14/14 [==============================] - 0s 9ms/step - loss: 0.8320 - accuracy: 0.6384 - val_loss: 1.0897 - val_accuracy: 0.5398\n",
      "Epoch 102/150\n",
      "10/14 [====================>.........] - ETA: 0s - loss: 0.8181 - accuracy: 0.6687\n",
      "Epoch 102: val_loss did not improve from 1.06939\n",
      "14/14 [==============================] - 0s 9ms/step - loss: 0.8192 - accuracy: 0.6629 - val_loss: 1.0990 - val_accuracy: 0.5310\n",
      "Epoch 103/150\n",
      "11/14 [======================>.......] - ETA: 0s - loss: 0.8647 - accuracy: 0.6278\n",
      "Epoch 103: val_loss did not improve from 1.06939\n",
      "14/14 [==============================] - 0s 9ms/step - loss: 0.8619 - accuracy: 0.6205 - val_loss: 1.1107 - val_accuracy: 0.5221\n",
      "Epoch 104/150\n",
      " 1/14 [=>............................] - ETA: 0s - loss: 0.9323 - accuracy: 0.6250\n",
      "Epoch 104: val_loss did not improve from 1.06939\n",
      "14/14 [==============================] - 0s 8ms/step - loss: 0.8393 - accuracy: 0.6496 - val_loss: 1.1187 - val_accuracy: 0.5487\n",
      "Epoch 105/150\n",
      "14/14 [==============================] - ETA: 0s - loss: 0.8394 - accuracy: 0.6607\n",
      "Epoch 105: val_loss did not improve from 1.06939\n",
      "14/14 [==============================] - 0s 8ms/step - loss: 0.8394 - accuracy: 0.6607 - val_loss: 1.1002 - val_accuracy: 0.5310\n",
      "Epoch 106/150\n",
      "12/14 [========================>.....] - ETA: 0s - loss: 0.8484 - accuracy: 0.6380\n",
      "Epoch 106: val_loss did not improve from 1.06939\n",
      "14/14 [==============================] - 0s 9ms/step - loss: 0.8435 - accuracy: 0.6429 - val_loss: 1.1017 - val_accuracy: 0.5487\n",
      "Epoch 107/150\n",
      "13/14 [==========================>...] - ETA: 0s - loss: 0.8397 - accuracy: 0.6779\n",
      "Epoch 107: val_loss did not improve from 1.06939\n",
      "14/14 [==============================] - 0s 8ms/step - loss: 0.8378 - accuracy: 0.6786 - val_loss: 1.1153 - val_accuracy: 0.5575\n",
      "Epoch 108/150\n",
      "12/14 [========================>.....] - ETA: 0s - loss: 0.8192 - accuracy: 0.6484\n",
      "Epoch 108: val_loss did not improve from 1.06939\n",
      "14/14 [==============================] - 0s 8ms/step - loss: 0.8048 - accuracy: 0.6473 - val_loss: 1.1003 - val_accuracy: 0.5310\n",
      "Epoch 109/150\n",
      " 1/14 [=>............................] - ETA: 0s - loss: 0.7097 - accuracy: 0.6875\n",
      "Epoch 109: val_loss did not improve from 1.06939\n",
      "14/14 [==============================] - 0s 7ms/step - loss: 0.7697 - accuracy: 0.6897 - val_loss: 1.1189 - val_accuracy: 0.5841\n",
      "Epoch 110/150\n",
      "14/14 [==============================] - ETA: 0s - loss: 0.8340 - accuracy: 0.6473\n",
      "Epoch 110: val_loss did not improve from 1.06939\n",
      "14/14 [==============================] - 0s 8ms/step - loss: 0.8340 - accuracy: 0.6473 - val_loss: 1.1014 - val_accuracy: 0.5841\n",
      "Epoch 111/150\n",
      "14/14 [==============================] - ETA: 0s - loss: 0.7943 - accuracy: 0.6562\n",
      "Epoch 111: val_loss did not improve from 1.06939\n",
      "14/14 [==============================] - 0s 8ms/step - loss: 0.7943 - accuracy: 0.6562 - val_loss: 1.1260 - val_accuracy: 0.5752\n",
      "Epoch 112/150\n",
      "11/14 [======================>.......] - ETA: 0s - loss: 0.7985 - accuracy: 0.6449\n",
      "Epoch 112: val_loss did not improve from 1.06939\n",
      "14/14 [==============================] - 0s 9ms/step - loss: 0.7818 - accuracy: 0.6629 - val_loss: 1.1143 - val_accuracy: 0.5487\n",
      "Epoch 113/150\n",
      "12/14 [========================>.....] - ETA: 0s - loss: 0.7301 - accuracy: 0.6797\n",
      "Epoch 113: val_loss did not improve from 1.06939\n",
      "14/14 [==============================] - 0s 8ms/step - loss: 0.7459 - accuracy: 0.6763 - val_loss: 1.1587 - val_accuracy: 0.5398\n",
      "Epoch 114/150\n",
      "13/14 [==========================>...] - ETA: 0s - loss: 0.7363 - accuracy: 0.6875\n",
      "Epoch 114: val_loss did not improve from 1.06939\n",
      "14/14 [==============================] - 0s 8ms/step - loss: 0.7354 - accuracy: 0.6875 - val_loss: 1.1404 - val_accuracy: 0.5487\n",
      "Epoch 115/150\n",
      "13/14 [==========================>...] - ETA: 0s - loss: 0.7420 - accuracy: 0.6731\n",
      "Epoch 115: val_loss did not improve from 1.06939\n",
      "14/14 [==============================] - 0s 7ms/step - loss: 0.7555 - accuracy: 0.6652 - val_loss: 1.1549 - val_accuracy: 0.5398\n",
      "Epoch 116/150\n",
      "14/14 [==============================] - ETA: 0s - loss: 0.7503 - accuracy: 0.6942\n",
      "Epoch 116: val_loss did not improve from 1.06939\n",
      "14/14 [==============================] - 0s 8ms/step - loss: 0.7503 - accuracy: 0.6942 - val_loss: 1.1195 - val_accuracy: 0.5664\n",
      "Epoch 117/150\n",
      "13/14 [==========================>...] - ETA: 0s - loss: 0.7456 - accuracy: 0.6947\n",
      "Epoch 117: val_loss did not improve from 1.06939\n",
      "14/14 [==============================] - 0s 8ms/step - loss: 0.7491 - accuracy: 0.6920 - val_loss: 1.1191 - val_accuracy: 0.5398\n",
      "Epoch 118/150\n",
      "12/14 [========================>.....] - ETA: 0s - loss: 0.7017 - accuracy: 0.7188\n",
      "Epoch 118: val_loss did not improve from 1.06939\n"
     ]
    },
    {
     "name": "stdout",
     "output_type": "stream",
     "text": [
      "14/14 [==============================] - 0s 8ms/step - loss: 0.7266 - accuracy: 0.7098 - val_loss: 1.1553 - val_accuracy: 0.5664\n",
      "Epoch 119/150\n",
      "13/14 [==========================>...] - ETA: 0s - loss: 0.7202 - accuracy: 0.6899\n",
      "Epoch 119: val_loss did not improve from 1.06939\n",
      "14/14 [==============================] - 0s 9ms/step - loss: 0.7103 - accuracy: 0.6942 - val_loss: 1.1720 - val_accuracy: 0.5487\n",
      "Epoch 120/150\n",
      "12/14 [========================>.....] - ETA: 0s - loss: 0.7201 - accuracy: 0.6667\n",
      "Epoch 120: val_loss did not improve from 1.06939\n",
      "14/14 [==============================] - 0s 9ms/step - loss: 0.7383 - accuracy: 0.6562 - val_loss: 1.2020 - val_accuracy: 0.5487\n",
      "Epoch 121/150\n",
      "10/14 [====================>.........] - ETA: 0s - loss: 0.6719 - accuracy: 0.7219\n",
      "Epoch 121: val_loss did not improve from 1.06939\n",
      "14/14 [==============================] - 0s 11ms/step - loss: 0.6883 - accuracy: 0.7210 - val_loss: 1.1548 - val_accuracy: 0.5664\n",
      "Epoch 122/150\n",
      " 9/14 [==================>...........] - ETA: 0s - loss: 0.6824 - accuracy: 0.7118\n",
      "Epoch 122: val_loss did not improve from 1.06939\n",
      "14/14 [==============================] - 0s 9ms/step - loss: 0.7166 - accuracy: 0.6808 - val_loss: 1.1805 - val_accuracy: 0.5752\n",
      "Epoch 123/150\n",
      " 1/14 [=>............................] - ETA: 0s - loss: 0.6159 - accuracy: 0.7188\n",
      "Epoch 123: val_loss did not improve from 1.06939\n",
      "14/14 [==============================] - 0s 7ms/step - loss: 0.6116 - accuracy: 0.7433 - val_loss: 1.2113 - val_accuracy: 0.5841\n",
      "Epoch 124/150\n",
      "14/14 [==============================] - ETA: 0s - loss: 0.6943 - accuracy: 0.7455\n",
      "Epoch 124: val_loss did not improve from 1.06939\n",
      "14/14 [==============================] - 0s 8ms/step - loss: 0.6943 - accuracy: 0.7455 - val_loss: 1.2576 - val_accuracy: 0.5398\n",
      "Epoch 125/150\n",
      "13/14 [==========================>...] - ETA: 0s - loss: 0.6348 - accuracy: 0.7524\n",
      "Epoch 125: val_loss did not improve from 1.06939\n",
      "14/14 [==============================] - 0s 8ms/step - loss: 0.6397 - accuracy: 0.7455 - val_loss: 1.2363 - val_accuracy: 0.5664\n",
      "Epoch 126/150\n",
      "13/14 [==========================>...] - ETA: 0s - loss: 0.6606 - accuracy: 0.7428\n",
      "Epoch 126: val_loss did not improve from 1.06939\n",
      "14/14 [==============================] - 0s 8ms/step - loss: 0.6619 - accuracy: 0.7366 - val_loss: 1.1831 - val_accuracy: 0.5575\n",
      "Epoch 127/150\n",
      "12/14 [========================>.....] - ETA: 0s - loss: 0.7073 - accuracy: 0.7188\n",
      "Epoch 127: val_loss did not improve from 1.06939\n",
      "14/14 [==============================] - 0s 9ms/step - loss: 0.6754 - accuracy: 0.7366 - val_loss: 1.1803 - val_accuracy: 0.5664\n",
      "Epoch 128/150\n",
      "12/14 [========================>.....] - ETA: 0s - loss: 0.5653 - accuracy: 0.7865\n",
      "Epoch 128: val_loss did not improve from 1.06939\n",
      "14/14 [==============================] - 0s 9ms/step - loss: 0.5592 - accuracy: 0.7835 - val_loss: 1.2658 - val_accuracy: 0.5221\n",
      "Epoch 129/150\n",
      "11/14 [======================>.......] - ETA: 0s - loss: 0.5902 - accuracy: 0.7500\n",
      "Epoch 129: val_loss did not improve from 1.06939\n",
      "14/14 [==============================] - 0s 9ms/step - loss: 0.5880 - accuracy: 0.7545 - val_loss: 1.2863 - val_accuracy: 0.5929\n",
      "Epoch 130/150\n",
      " 9/14 [==================>...........] - ETA: 0s - loss: 0.6383 - accuracy: 0.7361\n",
      "Epoch 130: val_loss did not improve from 1.06939\n",
      "14/14 [==============================] - 0s 10ms/step - loss: 0.6115 - accuracy: 0.7500 - val_loss: 1.2827 - val_accuracy: 0.5575\n",
      "Epoch 131/150\n",
      "11/14 [======================>.......] - ETA: 0s - loss: 0.5881 - accuracy: 0.7784\n",
      "Epoch 131: val_loss did not improve from 1.06939\n",
      "14/14 [==============================] - 0s 10ms/step - loss: 0.6285 - accuracy: 0.7567 - val_loss: 1.3347 - val_accuracy: 0.5575\n",
      "Epoch 132/150\n",
      "11/14 [======================>.......] - ETA: 0s - loss: 0.5402 - accuracy: 0.7955\n",
      "Epoch 132: val_loss did not improve from 1.06939\n",
      "14/14 [==============================] - 0s 9ms/step - loss: 0.5486 - accuracy: 0.7879 - val_loss: 1.3618 - val_accuracy: 0.5929\n",
      "Epoch 133/150\n",
      "12/14 [========================>.....] - ETA: 0s - loss: 0.5053 - accuracy: 0.8151\n",
      "Epoch 133: val_loss did not improve from 1.06939\n",
      "14/14 [==============================] - 0s 9ms/step - loss: 0.5403 - accuracy: 0.7991 - val_loss: 1.3829 - val_accuracy: 0.5575\n",
      "Epoch 134/150\n",
      "12/14 [========================>.....] - ETA: 0s - loss: 0.5470 - accuracy: 0.7656\n",
      "Epoch 134: val_loss did not improve from 1.06939\n",
      "14/14 [==============================] - 0s 8ms/step - loss: 0.5467 - accuracy: 0.7701 - val_loss: 1.4322 - val_accuracy: 0.5752\n",
      "Epoch 135/150\n",
      " 1/14 [=>............................] - ETA: 0s - loss: 0.5312 - accuracy: 0.7812\n",
      "Epoch 135: val_loss did not improve from 1.06939\n",
      "14/14 [==============================] - 0s 7ms/step - loss: 0.6120 - accuracy: 0.7545 - val_loss: 1.3868 - val_accuracy: 0.5752\n",
      "Epoch 136/150\n",
      "13/14 [==========================>...] - ETA: 0s - loss: 0.5709 - accuracy: 0.7620\n",
      "Epoch 136: val_loss did not improve from 1.06939\n",
      "14/14 [==============================] - 0s 8ms/step - loss: 0.5610 - accuracy: 0.7701 - val_loss: 1.5291 - val_accuracy: 0.5487\n",
      "Epoch 137/150\n",
      "13/14 [==========================>...] - ETA: 0s - loss: 0.5593 - accuracy: 0.7764\n",
      "Epoch 137: val_loss did not improve from 1.06939\n",
      "14/14 [==============================] - 0s 9ms/step - loss: 0.5532 - accuracy: 0.7790 - val_loss: 1.4580 - val_accuracy: 0.5752\n",
      "Epoch 138/150\n",
      "11/14 [======================>.......] - ETA: 0s - loss: 0.5551 - accuracy: 0.7699\n",
      "Epoch 138: val_loss did not improve from 1.06939\n",
      "14/14 [==============================] - 0s 10ms/step - loss: 0.5516 - accuracy: 0.7723 - val_loss: 1.4837 - val_accuracy: 0.5752\n",
      "Epoch 139/150\n",
      "14/14 [==============================] - ETA: 0s - loss: 0.5017 - accuracy: 0.7969\n",
      "Epoch 139: val_loss did not improve from 1.06939\n",
      "14/14 [==============================] - 0s 8ms/step - loss: 0.5017 - accuracy: 0.7969 - val_loss: 1.4832 - val_accuracy: 0.5664\n",
      "Epoch 140/150\n",
      "12/14 [========================>.....] - ETA: 0s - loss: 0.5541 - accuracy: 0.7839\n",
      "Epoch 140: val_loss did not improve from 1.06939\n",
      "14/14 [==============================] - 0s 9ms/step - loss: 0.5478 - accuracy: 0.7812 - val_loss: 1.5289 - val_accuracy: 0.5664\n",
      "Epoch 141/150\n",
      "11/14 [======================>.......] - ETA: 0s - loss: 0.4509 - accuracy: 0.8295\n",
      "Epoch 141: val_loss did not improve from 1.06939\n",
      "14/14 [==============================] - 0s 9ms/step - loss: 0.4526 - accuracy: 0.8259 - val_loss: 1.4796 - val_accuracy: 0.5664\n",
      "Epoch 142/150\n",
      "13/14 [==========================>...] - ETA: 0s - loss: 0.4996 - accuracy: 0.7933\n",
      "Epoch 142: val_loss did not improve from 1.06939\n",
      "14/14 [==============================] - 0s 9ms/step - loss: 0.5054 - accuracy: 0.7924 - val_loss: 1.5032 - val_accuracy: 0.5752\n",
      "Epoch 143/150\n",
      "13/14 [==========================>...] - ETA: 0s - loss: 0.5010 - accuracy: 0.8077\n",
      "Epoch 143: val_loss did not improve from 1.06939\n",
      "14/14 [==============================] - 0s 7ms/step - loss: 0.4982 - accuracy: 0.8058 - val_loss: 1.5122 - val_accuracy: 0.5664\n",
      "Epoch 144/150\n",
      "13/14 [==========================>...] - ETA: 0s - loss: 0.4494 - accuracy: 0.8197\n",
      "Epoch 144: val_loss did not improve from 1.06939\n",
      "14/14 [==============================] - 0s 9ms/step - loss: 0.4474 - accuracy: 0.8192 - val_loss: 1.4837 - val_accuracy: 0.5752\n",
      "Epoch 145/150\n",
      " 8/14 [================>.............] - ETA: 0s - loss: 0.5048 - accuracy: 0.8125\n",
      "Epoch 145: val_loss did not improve from 1.06939\n",
      "14/14 [==============================] - 0s 9ms/step - loss: 0.4883 - accuracy: 0.8058 - val_loss: 1.4996 - val_accuracy: 0.5664\n",
      "Epoch 146/150\n",
      "13/14 [==========================>...] - ETA: 0s - loss: 0.5175 - accuracy: 0.7861\n",
      "Epoch 146: val_loss did not improve from 1.06939\n",
      "14/14 [==============================] - 0s 24ms/step - loss: 0.5153 - accuracy: 0.7857 - val_loss: 1.5493 - val_accuracy: 0.5487\n",
      "Epoch 147/150\n",
      " 1/14 [=>............................] - ETA: 0s - loss: 0.4157 - accuracy: 0.8750\n",
      "Epoch 147: val_loss did not improve from 1.06939\n",
      "14/14 [==============================] - 0s 7ms/step - loss: 0.4590 - accuracy: 0.8304 - val_loss: 1.6345 - val_accuracy: 0.5487\n",
      "Epoch 148/150\n",
      "13/14 [==========================>...] - ETA: 0s - loss: 0.4162 - accuracy: 0.8341\n",
      "Epoch 148: val_loss did not improve from 1.06939\n",
      "14/14 [==============================] - 0s 8ms/step - loss: 0.4289 - accuracy: 0.8304 - val_loss: 1.6042 - val_accuracy: 0.5487\n",
      "Epoch 149/150\n",
      "13/14 [==========================>...] - ETA: 0s - loss: 0.4941 - accuracy: 0.8101\n",
      "Epoch 149: val_loss did not improve from 1.06939\n",
      "14/14 [==============================] - 0s 8ms/step - loss: 0.4890 - accuracy: 0.8125 - val_loss: 1.7375 - val_accuracy: 0.5487\n",
      "Epoch 150/150\n",
      "11/14 [======================>.......] - ETA: 0s - loss: 0.4186 - accuracy: 0.8438\n",
      "Epoch 150: val_loss did not improve from 1.06939\n",
      "14/14 [==============================] - 0s 10ms/step - loss: 0.4271 - accuracy: 0.8371 - val_loss: 1.7312 - val_accuracy: 0.5664\n",
      "Training completed in time:  0:00:22.263095\n"
     ]
    }
   ],
   "source": [
    "## Training my model\n",
    "from tensorflow.keras.callbacks import ModelCheckpoint\n",
    "from datetime import datetime\n",
    "\n",
    "num_epochs=150\n",
    "num_batch_size=32\n",
    "\n",
    "checkpointer=ModelCheckpoint(filepath='/audio_classification.hdf5', verbose=1, save_best_only=True)\n",
    "start=datetime.now()\n",
    "\n",
    "model.fit(x_train,y_train, batch_size=num_batch_size, epochs=num_epochs, validation_data=(x_test,y_test), callbacks=[checkpointer])\n",
    "duration=datetime.now()-start\n",
    "\n",
    "print(\"Training completed in time: \",duration)"
   ]
  },
  {
   "cell_type": "code",
   "execution_count": 33,
   "id": "dcc371d8",
   "metadata": {},
   "outputs": [
    {
     "name": "stdout",
     "output_type": "stream",
     "text": [
      "0.5663716793060303\n"
     ]
    }
   ],
   "source": [
    "test_accuracy=model.evaluate(x_test,y_test,verbose=0)\n",
    "print(test_accuracy[1])"
   ]
  },
  {
   "cell_type": "code",
   "execution_count": 34,
   "id": "105b6ab9",
   "metadata": {},
   "outputs": [
    {
     "name": "stdout",
     "output_type": "stream",
     "text": [
      "4/4 [==============================] - 0s 5ms/step\n"
     ]
    }
   ],
   "source": [
    "y_pred = model.predict(x_test)"
   ]
  },
  {
   "cell_type": "code",
   "execution_count": 35,
   "id": "a327cebb",
   "metadata": {},
   "outputs": [
    {
     "data": {
      "text/plain": [
       "array([[5.21335721e-01, 6.03344887e-02, 3.78312707e-01, 4.00171168e-02],\n",
       "       [4.38383162e-01, 7.76297227e-02, 4.10677373e-01, 7.33098313e-02],\n",
       "       [4.79756109e-03, 3.38966562e-03, 9.83638763e-01, 8.17399565e-03],\n",
       "       [9.88633454e-01, 4.65298508e-04, 4.73802822e-04, 1.04274806e-02],\n",
       "       [3.66762398e-10, 1.67155392e-08, 1.00000000e+00, 1.74657213e-08],\n",
       "       [2.88848337e-02, 1.48647465e-03, 9.64680314e-01, 4.94836131e-03],\n",
       "       [9.99979019e-01, 4.51676300e-07, 1.26792220e-05, 7.87444151e-06],\n",
       "       [5.36922598e-03, 6.35337308e-02, 8.70429158e-01, 6.06677979e-02],\n",
       "       [9.98053193e-01, 6.88087748e-05, 1.57658372e-03, 3.01391672e-04],\n",
       "       [3.98994714e-01, 1.95482150e-01, 1.92756817e-01, 2.12766305e-01],\n",
       "       [3.78517121e-01, 4.16290283e-01, 4.88174334e-03, 2.00310856e-01],\n",
       "       [4.76295408e-03, 4.52310815e-05, 9.94987607e-01, 2.04267242e-04],\n",
       "       [6.58991194e-05, 2.01910012e-03, 9.97558355e-01, 3.56639561e-04],\n",
       "       [6.39223913e-03, 7.97156394e-02, 7.75253296e-01, 1.38638869e-01],\n",
       "       [1.67436636e-04, 7.17151579e-06, 9.99815643e-01, 9.78726166e-06],\n",
       "       [8.95451844e-01, 3.89966033e-02, 2.04157531e-02, 4.51357774e-02],\n",
       "       [3.96741927e-02, 2.06950954e-05, 9.60283041e-01, 2.20890979e-05],\n",
       "       [7.71390200e-01, 2.60278545e-02, 1.38808250e-01, 6.37736544e-02],\n",
       "       [1.56470493e-03, 7.59041402e-04, 9.95639086e-01, 2.03712308e-03],\n",
       "       [8.88632371e-07, 4.70394407e-05, 9.99939084e-01, 1.29886939e-05],\n",
       "       [1.60439149e-01, 3.71011853e-01, 1.33694867e-02, 4.55179513e-01],\n",
       "       [3.64202315e-05, 3.09649040e-04, 9.99620914e-01, 3.29958239e-05],\n",
       "       [7.22296417e-01, 1.74011346e-02, 2.47469872e-01, 1.28326155e-02],\n",
       "       [1.14985123e-01, 2.02768971e-03, 8.79763305e-01, 3.22388113e-03],\n",
       "       [1.37355961e-02, 1.21920384e-01, 3.30365117e-04, 8.64013612e-01],\n",
       "       [7.81134097e-03, 4.66727465e-02, 9.41381991e-01, 4.13395930e-03],\n",
       "       [1.81322694e-02, 6.50770636e-03, 1.28837966e-03, 9.74071562e-01],\n",
       "       [2.74982918e-02, 2.24487580e-04, 9.71709311e-01, 5.67966606e-04],\n",
       "       [4.64618839e-02, 1.56978599e-03, 9.45165873e-01, 6.80241361e-03],\n",
       "       [2.65029696e-04, 4.89559257e-03, 9.93836820e-01, 1.00258435e-03],\n",
       "       [1.01128519e-01, 2.68077731e-01, 4.07522112e-01, 2.23271683e-01],\n",
       "       [2.71305279e-03, 1.18627748e-03, 9.90633845e-01, 5.46684349e-03],\n",
       "       [4.23046440e-01, 1.71878219e-01, 1.54483737e-02, 3.89627010e-01],\n",
       "       [8.81161690e-02, 7.20834434e-02, 1.87422112e-02, 8.21058154e-01],\n",
       "       [1.70413041e-05, 3.31215997e-04, 9.99401569e-01, 2.50132056e-04],\n",
       "       [9.76938248e-01, 2.25393829e-04, 2.20495556e-02, 7.86893826e-04],\n",
       "       [9.42588866e-01, 1.85883660e-02, 5.28023811e-03, 3.35424803e-02],\n",
       "       [3.97277717e-03, 1.97613350e-04, 9.95637357e-01, 1.92231179e-04],\n",
       "       [5.15254617e-01, 6.72573596e-02, 3.67307156e-01, 5.01808748e-02],\n",
       "       [2.99105395e-05, 3.38598882e-04, 9.99247432e-01, 3.84086976e-04],\n",
       "       [4.52944450e-03, 6.63768500e-03, 1.03191275e-03, 9.87800956e-01],\n",
       "       [4.79992188e-04, 5.66476141e-04, 9.98894393e-01, 5.91528478e-05],\n",
       "       [1.37900099e-01, 2.41234124e-01, 3.36016268e-01, 2.84849495e-01],\n",
       "       [2.05799207e-01, 1.08365901e-02, 7.42093027e-01, 4.12711352e-02],\n",
       "       [1.43412948e-01, 7.06351013e-04, 8.55470538e-01, 4.10206820e-04],\n",
       "       [8.67705387e-12, 2.05832265e-07, 9.99999762e-01, 2.49820409e-09],\n",
       "       [6.14816844e-02, 5.18786801e-05, 9.38348651e-01, 1.17840158e-04],\n",
       "       [9.91806854e-04, 2.80538388e-05, 9.98941123e-01, 3.90143978e-05],\n",
       "       [2.29209468e-01, 1.28044868e-02, 7.29570746e-01, 2.84152701e-02],\n",
       "       [1.27157241e-01, 7.18147635e-01, 1.22099973e-01, 3.25951204e-02],\n",
       "       [2.65559644e-01, 4.70510483e-01, 1.13310516e-01, 1.50619343e-01],\n",
       "       [1.15941735e-02, 4.98755127e-02, 9.08305168e-01, 3.02252192e-02],\n",
       "       [9.20821801e-02, 3.18254781e-04, 9.07393873e-01, 2.05658551e-04],\n",
       "       [1.20889805e-01, 4.07598093e-02, 6.96895719e-01, 1.41454652e-01],\n",
       "       [2.60399848e-01, 3.06261718e-01, 2.01679841e-01, 2.31658608e-01],\n",
       "       [7.41670607e-04, 1.23035284e-06, 9.99235511e-01, 2.16899061e-05],\n",
       "       [9.84469533e-01, 1.11021363e-04, 1.52757503e-02, 1.43654775e-04],\n",
       "       [4.49617207e-01, 8.15573260e-02, 3.44310284e-01, 1.24515131e-01],\n",
       "       [8.44342411e-01, 1.79815236e-02, 1.08184464e-01, 2.94915289e-02],\n",
       "       [7.35118389e-02, 5.11228479e-02, 8.60887527e-01, 1.44777279e-02],\n",
       "       [1.64432097e-02, 1.58592500e-03, 9.81816411e-01, 1.54532987e-04],\n",
       "       [9.17138278e-01, 4.44631502e-02, 2.60762665e-02, 1.23222619e-02],\n",
       "       [5.70144355e-01, 3.00302580e-02, 1.07628763e-01, 2.92196661e-01],\n",
       "       [3.26624215e-02, 9.68169246e-04, 9.65099931e-01, 1.26952934e-03],\n",
       "       [2.68726826e-01, 1.75949901e-01, 4.47059274e-02, 5.10617375e-01],\n",
       "       [1.66361138e-01, 4.33174409e-02, 2.00794011e-01, 5.89527428e-01],\n",
       "       [4.11274970e-01, 2.14591287e-02, 5.24231434e-01, 4.30344492e-02],\n",
       "       [2.66654372e-01, 6.34326339e-02, 6.05761468e-01, 6.41515031e-02],\n",
       "       [1.95730943e-03, 6.58621173e-03, 9.87958670e-01, 3.49778379e-03],\n",
       "       [3.57622862e-01, 2.21563920e-01, 2.09017932e-01, 2.11795226e-01],\n",
       "       [1.48711354e-01, 3.68923575e-01, 3.98150086e-01, 8.42149481e-02],\n",
       "       [9.98514354e-01, 1.30944914e-04, 1.19423738e-03, 1.60407682e-04],\n",
       "       [3.42457950e-01, 7.65309483e-02, 3.97559077e-01, 1.83452010e-01],\n",
       "       [1.21237490e-05, 3.47707169e-06, 9.99983430e-01, 9.72263706e-07],\n",
       "       [6.65513158e-01, 5.84675511e-03, 3.17602366e-01, 1.10377893e-02],\n",
       "       [1.24809004e-01, 4.16635305e-01, 2.47010007e-03, 4.56085652e-01],\n",
       "       [6.95262134e-01, 2.26835292e-02, 2.70160645e-01, 1.18937101e-02],\n",
       "       [7.65143777e-04, 2.21057475e-04, 9.98345494e-01, 6.68298570e-04],\n",
       "       [1.03271250e-05, 2.34882669e-10, 9.99989629e-01, 4.17423068e-10],\n",
       "       [2.56174773e-01, 1.44643057e-02, 6.79830551e-01, 4.95303907e-02],\n",
       "       [1.21624023e-01, 1.15846016e-01, 7.57211983e-01, 5.31800650e-03],\n",
       "       [2.83237278e-01, 2.51899034e-01, 3.31882507e-01, 1.32981136e-01],\n",
       "       [5.08437395e-01, 9.26556066e-02, 3.62819195e-01, 3.60878557e-02],\n",
       "       [4.06754702e-01, 2.01197565e-01, 1.87459007e-01, 2.04588756e-01],\n",
       "       [8.68784904e-01, 6.01076037e-02, 4.93315868e-02, 2.17760112e-02],\n",
       "       [8.89406204e-02, 1.26264858e-04, 9.10531342e-01, 4.01835860e-04],\n",
       "       [9.20441747e-01, 1.71195362e-02, 4.29809913e-02, 1.94577388e-02],\n",
       "       [1.28839642e-01, 1.42052546e-01, 2.11461615e-02, 7.07961619e-01],\n",
       "       [9.32104230e-01, 1.23781804e-02, 3.52231152e-02, 2.02944223e-02],\n",
       "       [9.99579132e-01, 3.40803740e-06, 4.71180510e-06, 4.12681227e-04],\n",
       "       [9.54767037e-03, 1.30429203e-02, 9.64277327e-01, 1.31320534e-02],\n",
       "       [2.45285816e-02, 2.50945777e-01, 5.47904372e-01, 1.76621288e-01],\n",
       "       [8.13780308e-01, 2.48901304e-02, 1.18489899e-01, 4.28396724e-02],\n",
       "       [6.68394327e-01, 3.24833915e-02, 2.41065040e-01, 5.80572039e-02],\n",
       "       [4.22749072e-01, 1.58438161e-01, 2.49473825e-01, 1.69338956e-01],\n",
       "       [3.04883756e-02, 9.83706675e-03, 9.45953846e-01, 1.37207368e-02],\n",
       "       [3.09911720e-03, 5.33100124e-03, 9.88685727e-01, 2.88408133e-03],\n",
       "       [6.10211432e-01, 5.22381067e-02, 2.87980407e-01, 4.95699942e-02],\n",
       "       [6.98832050e-02, 9.26861763e-01, 9.58096876e-04, 2.29687127e-03],\n",
       "       [1.42971560e-01, 2.65858978e-01, 3.72763574e-01, 2.18405873e-01],\n",
       "       [2.63679796e-03, 1.78978485e-06, 9.97357547e-01, 3.83194902e-06],\n",
       "       [5.70265285e-04, 7.03433203e-03, 9.86643732e-01, 5.75174391e-03],\n",
       "       [2.76239142e-02, 1.23002239e-01, 3.87909919e-01, 4.61463898e-01],\n",
       "       [7.79466450e-01, 1.00776680e-01, 3.51258330e-02, 8.46310183e-02],\n",
       "       [5.08809946e-02, 1.98694086e-03, 9.39615488e-01, 7.51664350e-03],\n",
       "       [8.24501395e-01, 4.81321067e-02, 9.33795199e-02, 3.39870453e-02],\n",
       "       [6.27109110e-02, 1.53974444e-01, 7.33423650e-01, 4.98910248e-02],\n",
       "       [4.77191300e-08, 3.34161654e-04, 9.99663949e-01, 1.91123809e-06],\n",
       "       [2.03893498e-01, 2.39459172e-01, 2.86170334e-01, 2.70477086e-01],\n",
       "       [1.25505519e-03, 9.58201213e-07, 9.98740613e-01, 3.43386296e-06],\n",
       "       [2.33441323e-01, 4.79062125e-02, 6.78419471e-01, 4.02329527e-02],\n",
       "       [1.70842670e-02, 2.56226193e-02, 1.07054110e-03, 9.56222594e-01],\n",
       "       [1.23808291e-02, 2.15476647e-01, 7.43834436e-01, 2.83080712e-02]],\n",
       "      dtype=float32)"
      ]
     },
     "execution_count": 35,
     "metadata": {},
     "output_type": "execute_result"
    }
   ],
   "source": [
    "y_pred"
   ]
  },
  {
   "cell_type": "code",
   "execution_count": 36,
   "id": "650c4aeb",
   "metadata": {},
   "outputs": [
    {
     "data": {
      "text/plain": [
       "array([[ True, False, False, False],\n",
       "       [False, False,  True, False],\n",
       "       [False, False,  True, False],\n",
       "       [False,  True, False, False],\n",
       "       [False, False,  True, False],\n",
       "       [ True, False, False, False],\n",
       "       [False, False,  True, False],\n",
       "       [ True, False, False, False],\n",
       "       [ True, False, False, False],\n",
       "       [ True, False, False, False],\n",
       "       [ True, False, False, False],\n",
       "       [ True, False, False, False],\n",
       "       [False, False,  True, False],\n",
       "       [False, False,  True, False],\n",
       "       [False, False,  True, False],\n",
       "       [ True, False, False, False],\n",
       "       [False, False,  True, False],\n",
       "       [ True, False, False, False],\n",
       "       [False, False,  True, False],\n",
       "       [False, False,  True, False],\n",
       "       [False, False, False,  True],\n",
       "       [ True, False, False, False],\n",
       "       [False, False, False,  True],\n",
       "       [False, False,  True, False],\n",
       "       [False, False, False,  True],\n",
       "       [False, False,  True, False],\n",
       "       [ True, False, False, False],\n",
       "       [False, False,  True, False],\n",
       "       [False, False,  True, False],\n",
       "       [False, False,  True, False],\n",
       "       [ True, False, False, False],\n",
       "       [False, False,  True, False],\n",
       "       [ True, False, False, False],\n",
       "       [False, False, False,  True],\n",
       "       [False, False,  True, False],\n",
       "       [False, False,  True, False],\n",
       "       [False, False, False,  True],\n",
       "       [False, False,  True, False],\n",
       "       [False, False,  True, False],\n",
       "       [False, False,  True, False],\n",
       "       [False, False, False,  True],\n",
       "       [False,  True, False, False],\n",
       "       [False, False,  True, False],\n",
       "       [False, False,  True, False],\n",
       "       [False, False,  True, False],\n",
       "       [False, False,  True, False],\n",
       "       [False, False,  True, False],\n",
       "       [False, False,  True, False],\n",
       "       [False, False,  True, False],\n",
       "       [False,  True, False, False],\n",
       "       [False,  True, False, False],\n",
       "       [False, False,  True, False],\n",
       "       [False, False,  True, False],\n",
       "       [False, False,  True, False],\n",
       "       [ True, False, False, False],\n",
       "       [False, False,  True, False],\n",
       "       [False, False,  True, False],\n",
       "       [False,  True, False, False],\n",
       "       [False, False, False,  True],\n",
       "       [False,  True, False, False],\n",
       "       [False, False,  True, False],\n",
       "       [False, False, False,  True],\n",
       "       [False, False,  True, False],\n",
       "       [False, False,  True, False],\n",
       "       [False,  True, False, False],\n",
       "       [ True, False, False, False],\n",
       "       [ True, False, False, False],\n",
       "       [ True, False, False, False],\n",
       "       [ True, False, False, False],\n",
       "       [False,  True, False, False],\n",
       "       [False, False, False,  True],\n",
       "       [False, False,  True, False],\n",
       "       [False, False,  True, False],\n",
       "       [False, False,  True, False],\n",
       "       [False, False,  True, False],\n",
       "       [False, False, False,  True],\n",
       "       [False, False,  True, False],\n",
       "       [False, False,  True, False],\n",
       "       [False, False,  True, False],\n",
       "       [False, False,  True, False],\n",
       "       [ True, False, False, False],\n",
       "       [False,  True, False, False],\n",
       "       [ True, False, False, False],\n",
       "       [ True, False, False, False],\n",
       "       [ True, False, False, False],\n",
       "       [ True, False, False, False],\n",
       "       [False, False,  True, False],\n",
       "       [False, False, False,  True],\n",
       "       [ True, False, False, False],\n",
       "       [ True, False, False, False],\n",
       "       [ True, False, False, False],\n",
       "       [False, False,  True, False],\n",
       "       [ True, False, False, False],\n",
       "       [False,  True, False, False],\n",
       "       [ True, False, False, False],\n",
       "       [ True, False, False, False],\n",
       "       [False,  True, False, False],\n",
       "       [False,  True, False, False],\n",
       "       [False, False, False,  True],\n",
       "       [False, False,  True, False],\n",
       "       [False, False,  True, False],\n",
       "       [ True, False, False, False],\n",
       "       [ True, False, False, False],\n",
       "       [False, False,  True, False],\n",
       "       [False, False, False,  True],\n",
       "       [ True, False, False, False],\n",
       "       [False, False,  True, False],\n",
       "       [False, False,  True, False],\n",
       "       [False,  True, False, False],\n",
       "       [False, False,  True, False],\n",
       "       [False,  True, False, False],\n",
       "       [False, False, False,  True],\n",
       "       [False, False, False,  True]])"
      ]
     },
     "execution_count": 36,
     "metadata": {},
     "output_type": "execute_result"
    }
   ],
   "source": [
    "y_test.values"
   ]
  },
  {
   "cell_type": "code",
   "execution_count": 43,
   "id": "67d472d5",
   "metadata": {},
   "outputs": [
    {
     "name": "stdout",
     "output_type": "stream",
     "text": [
      "4/4 [==============================] - 0s 7ms/step\n"
     ]
    },
    {
     "data": {
      "image/png": "[encoded data removed]",
      "text/plain": [
       "<Figure size 640x480 with 2 Axes>"
      ]
     },
     "metadata": {},
     "output_type": "display_data"
    }
   ],
   "source": [
    "from sklearn.metrics import confusion_matrix\n",
    "import seaborn as sns\n",
    "\n",
    "# Get predictions\n",
    "y_pred = model.predict(x_test)\n",
    "y_pred_classes = np.argmax(y_pred, axis=1)\n",
    "\n",
    "#compute confusion matrix\n",
    "conf_matrix = confusion_matrix(np.argmax(y_test, axis=1), y_pred_classes)\n",
    "\n",
    "#Plot confusion matrix\n",
    "sns.heatmap( conf_matrix, annot=True, fmt='d', cmap= 'Blues')\n",
    "plt.xlabel('Prediction')\n",
    "plt.ylabel('True')\n",
    "plt.title('Confusion Matrix')\n",
    "plt.show()"
   ]
  },
  {
   "cell_type": "markdown",
   "id": "25d00d66",
   "metadata": {},
   "source": [
    "## Model Evaluation"
   ]
  },
  {
   "cell_type": "code",
   "execution_count": 37,
   "id": "6a87feeb",
   "metadata": {},
   "outputs": [],
   "source": [
    "filename = 'Male_Female_Healthy_Dataset/1004-a_n.wav'"
   ]
  },
  {
   "cell_type": "code",
   "execution_count": 38,
   "id": "334d7154",
   "metadata": {},
   "outputs": [],
   "source": [
    "feature_df = pd.DataFrame(features_extraction(filename)).transpose()"
   ]
  },
  {
   "cell_type": "code",
   "execution_count": 39,
   "id": "fe4b49fa",
   "metadata": {},
   "outputs": [
    {
     "data": {
      "text/html": [
       "<div>\n",
       "<style scoped>\n",
       "    .dataframe tbody tr th:only-of-type {\n",
       "        vertical-align: middle;\n",
       "    }\n",
       "\n",
       "    .dataframe tbody tr th {\n",
       "        vertical-align: top;\n",
       "    }\n",
       "\n",
       "    .dataframe thead th {\n",
       "        text-align: right;\n",
       "    }\n",
       "</style>\n",
       "<table border=\"1\" class=\"dataframe\">\n",
       "  <thead>\n",
       "    <tr style=\"text-align: right;\">\n",
       "      <th></th>\n",
       "      <th>0</th>\n",
       "      <th>1</th>\n",
       "      <th>2</th>\n",
       "      <th>3</th>\n",
       "      <th>4</th>\n",
       "      <th>5</th>\n",
       "      <th>6</th>\n",
       "      <th>7</th>\n",
       "      <th>8</th>\n",
       "      <th>9</th>\n",
       "      <th>...</th>\n",
       "      <th>70</th>\n",
       "      <th>71</th>\n",
       "      <th>72</th>\n",
       "      <th>73</th>\n",
       "      <th>74</th>\n",
       "      <th>75</th>\n",
       "      <th>76</th>\n",
       "      <th>77</th>\n",
       "      <th>78</th>\n",
       "      <th>79</th>\n",
       "    </tr>\n",
       "  </thead>\n",
       "  <tbody>\n",
       "    <tr>\n",
       "      <th>0</th>\n",
       "      <td>-149.225266</td>\n",
       "      <td>174.276077</td>\n",
       "      <td>-18.307064</td>\n",
       "      <td>10.403212</td>\n",
       "      <td>-66.140961</td>\n",
       "      <td>-11.231764</td>\n",
       "      <td>-8.218404</td>\n",
       "      <td>-4.863341</td>\n",
       "      <td>-25.08256</td>\n",
       "      <td>-1.205913</td>\n",
       "      <td>...</td>\n",
       "      <td>0.736559</td>\n",
       "      <td>-0.999705</td>\n",
       "      <td>-1.608087</td>\n",
       "      <td>-2.276558</td>\n",
       "      <td>0.696951</td>\n",
       "      <td>-0.647705</td>\n",
       "      <td>0.926778</td>\n",
       "      <td>-2.020046</td>\n",
       "      <td>-1.749156</td>\n",
       "      <td>-0.680004</td>\n",
       "    </tr>\n",
       "  </tbody>\n",
       "</table>\n",
       "<p>1 rows × 80 columns</p>\n",
       "</div>"
      ],
      "text/plain": [
       "           0           1          2          3          4          5   \\\n",
       "0 -149.225266  174.276077 -18.307064  10.403212 -66.140961 -11.231764   \n",
       "\n",
       "         6         7         8         9   ...        70        71        72  \\\n",
       "0 -8.218404 -4.863341 -25.08256 -1.205913  ...  0.736559 -0.999705 -1.608087   \n",
       "\n",
       "         73        74        75        76        77        78        79  \n",
       "0 -2.276558  0.696951 -0.647705  0.926778 -2.020046 -1.749156 -0.680004  \n",
       "\n",
       "[1 rows x 80 columns]"
      ]
     },
     "execution_count": 39,
     "metadata": {},
     "output_type": "execute_result"
    }
   ],
   "source": [
    "feature_df"
   ]
  },
  {
   "cell_type": "code",
   "execution_count": 40,
   "id": "e7cc1950",
   "metadata": {},
   "outputs": [],
   "source": [
    "features = np.array(feature_df.values.tolist())"
   ]
  },
  {
   "cell_type": "code",
   "execution_count": 41,
   "id": "e27f65b2",
   "metadata": {
    "scrolled": true
   },
   "outputs": [
    {
     "data": {
      "text/plain": [
       "(1, 80)"
      ]
     },
     "execution_count": 41,
     "metadata": {},
     "output_type": "execute_result"
    }
   ],
   "source": [
    "features.shape"
   ]
  },
  {
   "cell_type": "code",
   "execution_count": 42,
   "id": "516b73f2",
   "metadata": {},
   "outputs": [
    {
     "name": "stdout",
     "output_type": "stream",
     "text": [
      "1/1 [==============================] - 0s 23ms/step\n"
     ]
    },
    {
     "data": {
      "text/plain": [
       "array([[0.0403503 , 0.05112532, 0.00324971, 0.9052746 ]], dtype=float32)"
      ]
     },
     "execution_count": 42,
     "metadata": {},
     "output_type": "execute_result"
    }
   ],
   "source": [
    "model.predict(features)"
   ]
  }
 ],
 "metadata": {
  "kernelspec": {
   "display_name": "Python 3 (ipykernel)",
   "language": "python",
   "name": "python3"
  },
  "language_info": {
   "codemirror_mode": {
    "name": "ipython",
    "version": 3
   },
   "file_extension": ".py",
   "mimetype": "text/x-python",
   "name": "python",
   "nbconvert_exporter": "python",
   "pygments_lexer": "ipython3",
   "version": "3.8.13"
  }
 },
 "nbformat": 4,
 "nbformat_minor": 5
}

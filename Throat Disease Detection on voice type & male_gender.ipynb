{
 "cells": [
  {
   "cell_type": "code",
   "execution_count": 1,
   "id": "b66bf280",
   "metadata": {},
   "outputs": [],
   "source": [
    "import os\n",
    "import librosa\n",
    "import pandas as pd\n",
    "import numpy as np\n",
    "import matplotlib.pyplot as plt\n",
    "import seaborn as sns\n",
    "%matplotlib inline"
   ]
  },
  {
   "cell_type": "code",
   "execution_count": 2,
   "id": "de3e2d79",
   "metadata": {},
   "outputs": [],
   "source": [
    "import librosa.display\n",
    "import IPython.display as ipd"
   ]
  },
  {
   "cell_type": "markdown",
   "id": "7902e90f",
   "metadata": {},
   "source": [
    "## Reading Dataset"
   ]
  },
  {
   "cell_type": "code",
   "execution_count": 3,
   "id": "3758ffdb",
   "metadata": {
    "scrolled": true
   },
   "outputs": [
    {
     "data": {
      "text/html": [
       "<div>\n",
       "<style scoped>\n",
       "    .dataframe tbody tr th:only-of-type {\n",
       "        vertical-align: middle;\n",
       "    }\n",
       "\n",
       "    .dataframe tbody tr th {\n",
       "        vertical-align: top;\n",
       "    }\n",
       "\n",
       "    .dataframe thead th {\n",
       "        text-align: right;\n",
       "    }\n",
       "</style>\n",
       "<table border=\"1\" class=\"dataframe\">\n",
       "  <thead>\n",
       "    <tr style=\"text-align: right;\">\n",
       "      <th></th>\n",
       "      <th>Recording Id</th>\n",
       "      <th>Type</th>\n",
       "      <th>Gender</th>\n",
       "      <th>Age</th>\n",
       "      <th>Diagnosis Notes</th>\n",
       "      <th>Pathology</th>\n",
       "      <th>Audio</th>\n",
       "    </tr>\n",
       "  </thead>\n",
       "  <tbody>\n",
       "    <tr>\n",
       "      <th>3</th>\n",
       "      <td>4</td>\n",
       "      <td>n</td>\n",
       "      <td>m</td>\n",
       "      <td>22</td>\n",
       "      <td>Normal</td>\n",
       "      <td>Normal</td>\n",
       "      <td>4-a_n.wav</td>\n",
       "    </tr>\n",
       "    <tr>\n",
       "      <th>4</th>\n",
       "      <td>5</td>\n",
       "      <td>n</td>\n",
       "      <td>m</td>\n",
       "      <td>22</td>\n",
       "      <td>Normal</td>\n",
       "      <td>Normal</td>\n",
       "      <td>5-a_n.wav</td>\n",
       "    </tr>\n",
       "    <tr>\n",
       "      <th>10</th>\n",
       "      <td>9</td>\n",
       "      <td>n</td>\n",
       "      <td>m</td>\n",
       "      <td>25</td>\n",
       "      <td>Normal</td>\n",
       "      <td>Normal</td>\n",
       "      <td>9-a_n.wav</td>\n",
       "    </tr>\n",
       "    <tr>\n",
       "      <th>13</th>\n",
       "      <td>11</td>\n",
       "      <td>n</td>\n",
       "      <td>m</td>\n",
       "      <td>23</td>\n",
       "      <td>Normal</td>\n",
       "      <td>Normal</td>\n",
       "      <td>11-a_n.wav</td>\n",
       "    </tr>\n",
       "    <tr>\n",
       "      <th>17</th>\n",
       "      <td>15</td>\n",
       "      <td>n</td>\n",
       "      <td>m</td>\n",
       "      <td>24</td>\n",
       "      <td>Normal</td>\n",
       "      <td>Normal</td>\n",
       "      <td>15-a_n.wav</td>\n",
       "    </tr>\n",
       "    <tr>\n",
       "      <th>29</th>\n",
       "      <td>29</td>\n",
       "      <td>n</td>\n",
       "      <td>m</td>\n",
       "      <td>58</td>\n",
       "      <td>Normal</td>\n",
       "      <td>Normal</td>\n",
       "      <td>29-a_n.wav</td>\n",
       "    </tr>\n",
       "    <tr>\n",
       "      <th>32</th>\n",
       "      <td>32</td>\n",
       "      <td>n</td>\n",
       "      <td>m</td>\n",
       "      <td>45</td>\n",
       "      <td>Normal</td>\n",
       "      <td>Normal</td>\n",
       "      <td>32-a_n.wav</td>\n",
       "    </tr>\n",
       "    <tr>\n",
       "      <th>41</th>\n",
       "      <td>40</td>\n",
       "      <td>n</td>\n",
       "      <td>m</td>\n",
       "      <td>20</td>\n",
       "      <td>Normal</td>\n",
       "      <td>Normal</td>\n",
       "      <td>40-a_n.wav</td>\n",
       "    </tr>\n",
       "    <tr>\n",
       "      <th>42</th>\n",
       "      <td>41</td>\n",
       "      <td>n</td>\n",
       "      <td>m</td>\n",
       "      <td>20</td>\n",
       "      <td>Normal</td>\n",
       "      <td>Normal</td>\n",
       "      <td>41-a_n.wav</td>\n",
       "    </tr>\n",
       "    <tr>\n",
       "      <th>44</th>\n",
       "      <td>43</td>\n",
       "      <td>n</td>\n",
       "      <td>m</td>\n",
       "      <td>32</td>\n",
       "      <td>Normal</td>\n",
       "      <td>Normal</td>\n",
       "      <td>43-a_n.wav</td>\n",
       "    </tr>\n",
       "  </tbody>\n",
       "</table>\n",
       "</div>"
      ],
      "text/plain": [
       "    Recording Id Type Gender  Age Diagnosis Notes Pathology       Audio\n",
       "3              4    n      m   22          Normal    Normal   4-a_n.wav\n",
       "4              5    n      m   22          Normal    Normal   5-a_n.wav\n",
       "10             9    n      m   25          Normal    Normal   9-a_n.wav\n",
       "13            11    n      m   23          Normal    Normal  11-a_n.wav\n",
       "17            15    n      m   24          Normal    Normal  15-a_n.wav\n",
       "29            29    n      m   58          Normal    Normal  29-a_n.wav\n",
       "32            32    n      m   45          Normal    Normal  32-a_n.wav\n",
       "41            40    n      m   20          Normal    Normal  40-a_n.wav\n",
       "42            41    n      m   20          Normal    Normal  41-a_n.wav\n",
       "44            43    n      m   32          Normal    Normal  43-a_n.wav"
      ]
     },
     "execution_count": 3,
     "metadata": {},
     "output_type": "execute_result"
    }
   ],
   "source": [
    "import pandas as pd\n",
    "df1=pd.read_excel('Healthy_data.xlsx')\n",
    "df2=pd.read_excel('Pathological_data.xlsx')\n",
    "df=pd.concat([df1,df2], ignore_index=True)\n",
    "\n",
    "df.head(10)"
   ]
  },
  {
   "cell_type": "code",
   "execution_count": 4,
   "id": "df5fe054",
   "metadata": {},
   "outputs": [
    {
     "data": {
      "text/plain": [
       "(561, 7)"
      ]
     },
     "execution_count": 4,
     "metadata": {},
     "output_type": "execute_result"
    }
   ],
   "source": [
    "df.shape"
   ]
  },
  {
   "cell_type": "code",
   "execution_count": 5,
   "id": "76cfc7ef",
   "metadata": {},
   "outputs": [
    {
     "name": "stdout",
     "output_type": "stream",
     "text": [
      "<class 'pandas.core.frame.DataFrame'>\n",
      "Index: 561 entries, 3 to 1358\n",
      "Data columns (total 7 columns):\n",
      " #   Column           Non-Null Count  Dtype \n",
      "---  ------           --------------  ----- \n",
      " 0   Recording Id     561 non-null    int64 \n",
      " 1   Type             561 non-null    object\n",
      " 2   Gender           561 non-null    object\n",
      " 3   Age              561 non-null    int64 \n",
      " 4   Diagnosis Notes  534 non-null    object\n",
      " 5   Pathology        561 non-null    object\n",
      " 6   Audio            561 non-null    object\n",
      "dtypes: int64(2), object(5)\n",
      "memory usage: 35.1+ KB\n"
     ]
    }
   ],
   "source": [
    "df.info()"
   ]
  },
  {
   "cell_type": "code",
   "execution_count": 6,
   "id": "1020f8bb",
   "metadata": {},
   "outputs": [
    {
     "data": {
      "text/html": [
       "<div>\n",
       "<style scoped>\n",
       "    .dataframe tbody tr th:only-of-type {\n",
       "        vertical-align: middle;\n",
       "    }\n",
       "\n",
       "    .dataframe tbody tr th {\n",
       "        vertical-align: top;\n",
       "    }\n",
       "\n",
       "    .dataframe thead th {\n",
       "        text-align: right;\n",
       "    }\n",
       "</style>\n",
       "<table border=\"1\" class=\"dataframe\">\n",
       "  <thead>\n",
       "    <tr style=\"text-align: right;\">\n",
       "      <th></th>\n",
       "      <th></th>\n",
       "      <th>Audio</th>\n",
       "    </tr>\n",
       "    <tr>\n",
       "      <th>Type</th>\n",
       "      <th>Gender</th>\n",
       "      <th></th>\n",
       "    </tr>\n",
       "  </thead>\n",
       "  <tbody>\n",
       "    <tr>\n",
       "      <th>n</th>\n",
       "      <th>m</th>\n",
       "      <td>259</td>\n",
       "    </tr>\n",
       "    <tr>\n",
       "      <th>p</th>\n",
       "      <th>m</th>\n",
       "      <td>302</td>\n",
       "    </tr>\n",
       "  </tbody>\n",
       "</table>\n",
       "</div>"
      ],
      "text/plain": [
       "             Audio\n",
       "Type Gender       \n",
       "n    m         259\n",
       "p    m         302"
      ]
     },
     "execution_count": 6,
     "metadata": {},
     "output_type": "execute_result"
    }
   ],
   "source": [
    "type_gender_count = df.groupby([\"Type\",\"Gender\"])[['Audio']].count()\n",
    "type_gender_count"
   ]
  },
  {
   "cell_type": "code",
   "execution_count": 7,
   "id": "8d9f69cb",
   "metadata": {},
   "outputs": [
    {
     "data": {
      "text/plain": [
       "<Axes: xlabel='Type,Gender'>"
      ]
     },
     "execution_count": 7,
     "metadata": {},
     "output_type": "execute_result"
    },
    {
     "data": {
      "image/png": "[encoded data removed]",
      "text/plain": [
       "<Figure size 640x480 with 1 Axes>"
      ]
     },
     "metadata": {},
     "output_type": "display_data"
    }
   ],
   "source": [
    "type_gender_count.plot.bar()"
   ]
  },
  {
   "cell_type": "code",
   "execution_count": 8,
   "id": "b1a14c59",
   "metadata": {},
   "outputs": [
    {
     "name": "stdout",
     "output_type": "stream",
     "text": [
      "['m']\n",
      "['Normal' 'Dysphonia' 'Laryngitis' 'Recurrent palsy']\n"
     ]
    }
   ],
   "source": [
    "gender = df.Gender.unique()\n",
    "pathology = df.Pathology.unique()\n",
    "print(gender)\n",
    "print(pathology)"
   ]
  },
  {
   "cell_type": "code",
   "execution_count": 9,
   "id": "98636eac",
   "metadata": {},
   "outputs": [
    {
     "data": {
      "image/png": "[encoded data removed]",
      "text/plain": [
       "<Figure size 640x480 with 1 Axes>"
      ]
     },
     "metadata": {},
     "output_type": "display_data"
    }
   ],
   "source": [
    "sns.countplot(x=df[\"Pathology\"])\n",
    "plt.show()"
   ]
  },
  {
   "cell_type": "markdown",
   "id": "e59c7019",
   "metadata": {},
   "source": [
    "## Extract Features"
   ]
  },
  {
   "cell_type": "code",
   "execution_count": 10,
   "id": "ff680d18",
   "metadata": {},
   "outputs": [],
   "source": [
    "## Extracting MFCC's for every audio file\n",
    "import pandas as pd\n",
    "import os\n",
    "\n",
    "audio_dataset_path = 'Filtered_Audio_Dataset/'"
   ]
  },
  {
   "cell_type": "code",
   "execution_count": 11,
   "id": "aa9d6183",
   "metadata": {},
   "outputs": [],
   "source": [
    "def features_extraction(file):\n",
    "    audio, sample_rate = librosa.load(file_name)\n",
    "    mfccs_features = librosa.feature.mfcc(y=audio, n_mfcc=80)\n",
    "    mfccs_scaled_features = np.mean(mfccs_features.T, axis=0)\n",
    "    \n",
    "    return mfccs_scaled_features"
   ]
  },
  {
   "cell_type": "code",
   "execution_count": 12,
   "id": "722e8c4d",
   "metadata": {},
   "outputs": [
    {
     "name": "stderr",
     "output_type": "stream",
     "text": [
      "561it [00:05, 106.67it/s]\n"
     ]
    }
   ],
   "source": [
    "import numpy as np\n",
    "from tqdm import tqdm\n",
    "\n",
    "extracted_features=[]\n",
    "for index_num,row in tqdm(df.iterrows()):\n",
    "    file_name = audio_dataset_path+row[\"Audio\"]\n",
    "    final_class_labels = row[\"Type\"]\n",
    "    data = features_extraction(file_name)\n",
    "    extracted_features.append([data,final_class_labels])"
   ]
  },
  {
   "cell_type": "code",
   "execution_count": 13,
   "id": "c814f35b",
   "metadata": {},
   "outputs": [
    {
     "data": {
      "text/html": [
       "<div>\n",
       "<style scoped>\n",
       "    .dataframe tbody tr th:only-of-type {\n",
       "        vertical-align: middle;\n",
       "    }\n",
       "\n",
       "    .dataframe tbody tr th {\n",
       "        vertical-align: top;\n",
       "    }\n",
       "\n",
       "    .dataframe thead th {\n",
       "        text-align: right;\n",
       "    }\n",
       "</style>\n",
       "<table border=\"1\" class=\"dataframe\">\n",
       "  <thead>\n",
       "    <tr style=\"text-align: right;\">\n",
       "      <th></th>\n",
       "      <th>feature</th>\n",
       "      <th>class</th>\n",
       "    </tr>\n",
       "  </thead>\n",
       "  <tbody>\n",
       "    <tr>\n",
       "      <th>0</th>\n",
       "      <td>[-279.40063, 208.5046, -43.03498, -5.360972, -...</td>\n",
       "      <td>n</td>\n",
       "    </tr>\n",
       "    <tr>\n",
       "      <th>1</th>\n",
       "      <td>[-172.24774, 175.08725, -75.93269, 8.99103, -6...</td>\n",
       "      <td>n</td>\n",
       "    </tr>\n",
       "    <tr>\n",
       "      <th>2</th>\n",
       "      <td>[-160.34767, 238.37305, -50.651237, -8.1686945...</td>\n",
       "      <td>n</td>\n",
       "    </tr>\n",
       "    <tr>\n",
       "      <th>3</th>\n",
       "      <td>[-174.26558, 202.43498, -48.88869, 26.138357, ...</td>\n",
       "      <td>n</td>\n",
       "    </tr>\n",
       "    <tr>\n",
       "      <th>4</th>\n",
       "      <td>[-178.27687, 191.5492, -72.10441, 7.839301, -4...</td>\n",
       "      <td>n</td>\n",
       "    </tr>\n",
       "    <tr>\n",
       "      <th>5</th>\n",
       "      <td>[-197.26646, 189.61101, -47.13572, 9.000772, -...</td>\n",
       "      <td>n</td>\n",
       "    </tr>\n",
       "    <tr>\n",
       "      <th>6</th>\n",
       "      <td>[-228.07176, 183.02597, -31.626911, -15.123821...</td>\n",
       "      <td>n</td>\n",
       "    </tr>\n",
       "    <tr>\n",
       "      <th>7</th>\n",
       "      <td>[-235.79805, 207.87103, -39.370472, -27.216578...</td>\n",
       "      <td>n</td>\n",
       "    </tr>\n",
       "    <tr>\n",
       "      <th>8</th>\n",
       "      <td>[-332.56256, 205.95406, -61.05219, 7.6796494, ...</td>\n",
       "      <td>n</td>\n",
       "    </tr>\n",
       "    <tr>\n",
       "      <th>9</th>\n",
       "      <td>[-147.25772, 178.20045, -82.12582, 1.9781523, ...</td>\n",
       "      <td>n</td>\n",
       "    </tr>\n",
       "  </tbody>\n",
       "</table>\n",
       "</div>"
      ],
      "text/plain": [
       "                                             feature class\n",
       "0  [-279.40063, 208.5046, -43.03498, -5.360972, -...     n\n",
       "1  [-172.24774, 175.08725, -75.93269, 8.99103, -6...     n\n",
       "2  [-160.34767, 238.37305, -50.651237, -8.1686945...     n\n",
       "3  [-174.26558, 202.43498, -48.88869, 26.138357, ...     n\n",
       "4  [-178.27687, 191.5492, -72.10441, 7.839301, -4...     n\n",
       "5  [-197.26646, 189.61101, -47.13572, 9.000772, -...     n\n",
       "6  [-228.07176, 183.02597, -31.626911, -15.123821...     n\n",
       "7  [-235.79805, 207.87103, -39.370472, -27.216578...     n\n",
       "8  [-332.56256, 205.95406, -61.05219, 7.6796494, ...     n\n",
       "9  [-147.25772, 178.20045, -82.12582, 1.9781523, ...     n"
      ]
     },
     "execution_count": 13,
     "metadata": {},
     "output_type": "execute_result"
    }
   ],
   "source": [
    "extracted_features_df = pd.DataFrame(extracted_features, columns=['feature','class'])\n",
    "extracted_features_df.head(10)"
   ]
  },
  {
   "cell_type": "code",
   "execution_count": 14,
   "id": "c2827c0f",
   "metadata": {},
   "outputs": [
    {
     "data": {
      "text/plain": [
       "(561, 2)"
      ]
     },
     "execution_count": 14,
     "metadata": {},
     "output_type": "execute_result"
    }
   ],
   "source": [
    "extracted_features_df.shape"
   ]
  },
  {
   "cell_type": "code",
   "execution_count": 15,
   "id": "4bb09498",
   "metadata": {},
   "outputs": [
    {
     "data": {
      "text/plain": [
       "array([-2.7940063e+02,  2.0850459e+02, -4.3034981e+01, -5.3609719e+00,\n",
       "       -5.2530403e+01, -8.8619261e+00, -7.6732415e-01,  6.7943349e+00,\n",
       "        1.0799702e+01, -1.3331823e+00,  8.6732759e+00, -7.2678752e+00,\n",
       "        1.8010962e+01,  1.9159014e+01, -2.7179031e+01, -1.2447955e+01,\n",
       "        1.8915423e+00, -1.5298142e+01, -4.0988545e+00,  1.8953447e+00,\n",
       "        4.7810760e+00, -3.4840662e+00, -1.6979162e+01, -3.4267972e+00,\n",
       "        4.2249260e+00, -9.3542862e+00, -7.8552189e+00, -2.2184309e-01,\n",
       "       -7.5720377e+00, -6.0218911e+00, -9.1817122e+00,  6.1179090e+00,\n",
       "        4.7846541e+00, -8.6046515e+00,  1.2105453e+01, -1.6410214e+00,\n",
       "       -9.7464371e+00,  3.2591763e+00, -8.6933661e+00, -5.1998725e+00,\n",
       "        3.8980737e+00, -7.4412656e+00, -5.7363014e+00, -3.9971590e+00,\n",
       "       -6.7316098e+00, -3.1640453e+00, -6.6905761e+00, -3.9208169e+00,\n",
       "       -3.4986355e+00, -3.5767493e+00, -3.5865269e+00, -6.1424880e+00,\n",
       "       -8.7377186e+00, -6.3181624e+00, -2.7753470e+00, -4.7034574e+00,\n",
       "        1.1015921e-01, -5.1750245e+00, -5.6951485e+00, -1.7120453e+00,\n",
       "       -7.7000837e+00, -1.0622505e+01, -1.0383512e+01, -7.7237840e+00,\n",
       "        2.5946653e+00,  1.8232792e+01,  2.4936136e+01,  2.8669571e+01,\n",
       "        2.2835281e+01,  1.0904361e+01,  4.4246721e+00,  2.5350792e+00,\n",
       "        3.3170602e+00,  5.7518373e+00,  7.4122915e+00,  1.1257874e+00,\n",
       "       -1.8074751e+00, -2.9770665e+00,  1.7964569e+00,  3.8540685e+00],\n",
       "      dtype=float32)"
      ]
     },
     "execution_count": 15,
     "metadata": {},
     "output_type": "execute_result"
    }
   ],
   "source": [
    "extracted_features_df[\"feature\"][0]"
   ]
  },
  {
   "cell_type": "code",
   "execution_count": 16,
   "id": "85fff3b1",
   "metadata": {},
   "outputs": [],
   "source": [
    "## Label Encoding\n",
    "dummy_data = pd.get_dummies(extracted_features_df['class'])"
   ]
  },
  {
   "cell_type": "code",
   "execution_count": 17,
   "id": "4758d3a8",
   "metadata": {},
   "outputs": [
    {
     "data": {
      "text/html": [
       "<div>\n",
       "<style scoped>\n",
       "    .dataframe tbody tr th:only-of-type {\n",
       "        vertical-align: middle;\n",
       "    }\n",
       "\n",
       "    .dataframe tbody tr th {\n",
       "        vertical-align: top;\n",
       "    }\n",
       "\n",
       "    .dataframe thead th {\n",
       "        text-align: right;\n",
       "    }\n",
       "</style>\n",
       "<table border=\"1\" class=\"dataframe\">\n",
       "  <thead>\n",
       "    <tr style=\"text-align: right;\">\n",
       "      <th></th>\n",
       "      <th>n</th>\n",
       "      <th>p</th>\n",
       "    </tr>\n",
       "  </thead>\n",
       "  <tbody>\n",
       "    <tr>\n",
       "      <th>0</th>\n",
       "      <td>True</td>\n",
       "      <td>False</td>\n",
       "    </tr>\n",
       "    <tr>\n",
       "      <th>1</th>\n",
       "      <td>True</td>\n",
       "      <td>False</td>\n",
       "    </tr>\n",
       "    <tr>\n",
       "      <th>2</th>\n",
       "      <td>True</td>\n",
       "      <td>False</td>\n",
       "    </tr>\n",
       "    <tr>\n",
       "      <th>3</th>\n",
       "      <td>True</td>\n",
       "      <td>False</td>\n",
       "    </tr>\n",
       "    <tr>\n",
       "      <th>4</th>\n",
       "      <td>True</td>\n",
       "      <td>False</td>\n",
       "    </tr>\n",
       "    <tr>\n",
       "      <th>...</th>\n",
       "      <td>...</td>\n",
       "      <td>...</td>\n",
       "    </tr>\n",
       "    <tr>\n",
       "      <th>556</th>\n",
       "      <td>False</td>\n",
       "      <td>True</td>\n",
       "    </tr>\n",
       "    <tr>\n",
       "      <th>557</th>\n",
       "      <td>False</td>\n",
       "      <td>True</td>\n",
       "    </tr>\n",
       "    <tr>\n",
       "      <th>558</th>\n",
       "      <td>False</td>\n",
       "      <td>True</td>\n",
       "    </tr>\n",
       "    <tr>\n",
       "      <th>559</th>\n",
       "      <td>False</td>\n",
       "      <td>True</td>\n",
       "    </tr>\n",
       "    <tr>\n",
       "      <th>560</th>\n",
       "      <td>False</td>\n",
       "      <td>True</td>\n",
       "    </tr>\n",
       "  </tbody>\n",
       "</table>\n",
       "<p>561 rows × 2 columns</p>\n",
       "</div>"
      ],
      "text/plain": [
       "         n      p\n",
       "0     True  False\n",
       "1     True  False\n",
       "2     True  False\n",
       "3     True  False\n",
       "4     True  False\n",
       "..     ...    ...\n",
       "556  False   True\n",
       "557  False   True\n",
       "558  False   True\n",
       "559  False   True\n",
       "560  False   True\n",
       "\n",
       "[561 rows x 2 columns]"
      ]
     },
     "execution_count": 17,
     "metadata": {},
     "output_type": "execute_result"
    }
   ],
   "source": [
    "dummy_data"
   ]
  },
  {
   "cell_type": "code",
   "execution_count": 18,
   "id": "b543b91c",
   "metadata": {},
   "outputs": [],
   "source": [
    "x=np.array(extracted_features_df['feature'].values.tolist())\n",
    "y=dummy_data"
   ]
  },
  {
   "cell_type": "code",
   "execution_count": 19,
   "id": "302d1f82",
   "metadata": {},
   "outputs": [
    {
     "data": {
      "text/plain": [
       "(561, 80)"
      ]
     },
     "execution_count": 19,
     "metadata": {},
     "output_type": "execute_result"
    }
   ],
   "source": [
    "x.shape"
   ]
  },
  {
   "cell_type": "code",
   "execution_count": 20,
   "id": "faca9110",
   "metadata": {
    "scrolled": true
   },
   "outputs": [
    {
     "data": {
      "text/plain": [
       "(561, 2)"
      ]
     },
     "execution_count": 20,
     "metadata": {},
     "output_type": "execute_result"
    }
   ],
   "source": [
    "y.shape"
   ]
  },
  {
   "cell_type": "code",
   "execution_count": 21,
   "id": "7262660d",
   "metadata": {},
   "outputs": [],
   "source": [
    "### Train Test Split\n",
    "from sklearn.model_selection import train_test_split\n",
    "x_train,x_test,y_train,y_test=train_test_split(x,y,stratify= y, test_size=0.2,random_state=0)"
   ]
  },
  {
   "cell_type": "code",
   "execution_count": 22,
   "id": "8e1d6d1a",
   "metadata": {},
   "outputs": [
    {
     "data": {
      "text/plain": [
       "(448, 80)"
      ]
     },
     "execution_count": 22,
     "metadata": {},
     "output_type": "execute_result"
    }
   ],
   "source": [
    "x_train.shape"
   ]
  },
  {
   "cell_type": "code",
   "execution_count": 23,
   "id": "81e0a1ba",
   "metadata": {},
   "outputs": [
    {
     "data": {
      "text/plain": [
       "(113, 80)"
      ]
     },
     "execution_count": 23,
     "metadata": {},
     "output_type": "execute_result"
    }
   ],
   "source": [
    "x_test.shape"
   ]
  },
  {
   "cell_type": "code",
   "execution_count": 24,
   "id": "70ec852f",
   "metadata": {},
   "outputs": [
    {
     "data": {
      "text/plain": [
       "(448, 2)"
      ]
     },
     "execution_count": 24,
     "metadata": {},
     "output_type": "execute_result"
    }
   ],
   "source": [
    "y_train.shape"
   ]
  },
  {
   "cell_type": "code",
   "execution_count": 25,
   "id": "48321029",
   "metadata": {},
   "outputs": [
    {
     "data": {
      "text/plain": [
       "(113, 2)"
      ]
     },
     "execution_count": 25,
     "metadata": {},
     "output_type": "execute_result"
    }
   ],
   "source": [
    "y_test.shape"
   ]
  },
  {
   "cell_type": "markdown",
   "id": "5ff207eb",
   "metadata": {},
   "source": [
    "## Model Training"
   ]
  },
  {
   "cell_type": "code",
   "execution_count": 26,
   "id": "d59d97d4",
   "metadata": {},
   "outputs": [
    {
     "name": "stdout",
     "output_type": "stream",
     "text": [
      "2.13.0\n"
     ]
    }
   ],
   "source": [
    "import tensorflow as tf\n",
    "print(tf.__version__)"
   ]
  },
  {
   "cell_type": "code",
   "execution_count": 27,
   "id": "d3c49c7e",
   "metadata": {},
   "outputs": [],
   "source": [
    "from tensorflow.keras.models import Sequential\n",
    "from tensorflow.keras.layers import Dense,Dropout,Activation,Flatten\n",
    "from tensorflow.keras.optimizers import Adam\n",
    "from sklearn import metrics\n",
    "from sklearn.metrics import classification_report,confusion_matrix"
   ]
  },
  {
   "cell_type": "code",
   "execution_count": 28,
   "id": "b0586ea5",
   "metadata": {},
   "outputs": [
    {
     "data": {
      "text/plain": [
       "2"
      ]
     },
     "execution_count": 28,
     "metadata": {},
     "output_type": "execute_result"
    }
   ],
   "source": [
    "## No. of classes\n",
    "num_labels=y.shape[1]\n",
    "num_labels"
   ]
  },
  {
   "cell_type": "code",
   "execution_count": 29,
   "id": "06adc7ce",
   "metadata": {},
   "outputs": [],
   "source": [
    "model=Sequential()\n",
    "## first layer\n",
    "model.add(Dense(256,input_shape=(80,)))\n",
    "model.add(Activation('relu'))\n",
    "model.add(Dropout(0.5))\n",
    "## second layer\n",
    "model.add(Dense(256))\n",
    "model.add(Activation('relu'))\n",
    "model.add(Dropout(0.5))\n",
    "## third layer\n",
    "model.add(Dense(512))\n",
    "model.add(Activation('relu'))\n",
    "model.add(Dropout(0.5))\n",
    "## final Layer\n",
    "model.add(Dense(num_labels))\n",
    "model.add(Activation('softmax'))"
   ]
  },
  {
   "cell_type": "code",
   "execution_count": 30,
   "id": "1e79dd29",
   "metadata": {},
   "outputs": [],
   "source": [
    "model.compile(loss='categorical_crossentropy',metrics=['accuracy'],optimizer='adam')"
   ]
  },
  {
   "cell_type": "code",
   "execution_count": 31,
   "id": "94095501",
   "metadata": {
    "scrolled": true
   },
   "outputs": [
    {
     "name": "stdout",
     "output_type": "stream",
     "text": [
      "Model: \"sequential\"\n",
      "_________________________________________________________________\n",
      " Layer (type)                Output Shape              Param #   \n",
      "=================================================================\n",
      " dense (Dense)               (None, 256)               20736     \n",
      "                                                                 \n",
      " activation (Activation)     (None, 256)               0         \n",
      "                                                                 \n",
      " dropout (Dropout)           (None, 256)               0         \n",
      "                                                                 \n",
      " dense_1 (Dense)             (None, 256)               65792     \n",
      "                                                                 \n",
      " activation_1 (Activation)   (None, 256)               0         \n",
      "                                                                 \n",
      " dropout_1 (Dropout)         (None, 256)               0         \n",
      "                                                                 \n",
      " dense_2 (Dense)             (None, 512)               131584    \n",
      "                                                                 \n",
      " activation_2 (Activation)   (None, 512)               0         \n",
      "                                                                 \n",
      " dropout_2 (Dropout)         (None, 512)               0         \n",
      "                                                                 \n",
      " dense_3 (Dense)             (None, 2)                 1026      \n",
      "                                                                 \n",
      " activation_3 (Activation)   (None, 2)                 0         \n",
      "                                                                 \n",
      "=================================================================\n",
      "Total params: 219138 (856.01 KB)\n",
      "Trainable params: 219138 (856.01 KB)\n",
      "Non-trainable params: 0 (0.00 Byte)\n",
      "_________________________________________________________________\n"
     ]
    }
   ],
   "source": [
    "model.summary()"
   ]
  },
  {
   "cell_type": "code",
   "execution_count": 32,
   "id": "727a1c2e",
   "metadata": {},
   "outputs": [
    {
     "name": "stdout",
     "output_type": "stream",
     "text": [
      "Epoch 1/150\n",
      "12/14 [========================>.....] - ETA: 0s - loss: 13.7816 - accuracy: 0.4974 \n",
      "Epoch 1: val_loss improved from inf to 1.87221, saving model to /audio_classification.hdf5\n",
      "14/14 [==============================] - 2s 76ms/step - loss: 13.1477 - accuracy: 0.5022 - val_loss: 1.8722 - val_accuracy: 0.5575\n",
      "Epoch 2/150\n",
      "14/14 [==============================] - ETA: 0s - loss: 7.7492 - accuracy: 0.5357\n",
      "Epoch 2: val_loss did not improve from 1.87221\n",
      "14/14 [==============================] - 0s 7ms/step - loss: 7.7492 - accuracy: 0.5357 - val_loss: 2.6637 - val_accuracy: 0.4602\n",
      "Epoch 3/150\n",
      "13/14 [==========================>...] - ETA: 0s - loss: 5.7355 - accuracy: 0.5168"
     ]
    },
    {
     "name": "stderr",
     "output_type": "stream",
     "text": [
      "C:\\Anaconda\\lib\\site-packages\\keras\\src\\engine\\training.py:3000: UserWarning: You are saving your model as an HDF5 file via `model.save()`. This file format is considered legacy. We recommend using instead the native Keras format, e.g. `model.save('my_model.keras')`.\n",
      "  saving_api.save_model(\n"
     ]
    },
    {
     "name": "stdout",
     "output_type": "stream",
     "text": [
      "\n",
      "Epoch 3: val_loss improved from 1.87221 to 0.97935, saving model to /audio_classification.hdf5\n",
      "14/14 [==============================] - 0s 11ms/step - loss: 5.7299 - accuracy: 0.5134 - val_loss: 0.9793 - val_accuracy: 0.6018\n",
      "Epoch 4/150\n",
      " 5/14 [=========>....................] - ETA: 0s - loss: 4.9261 - accuracy: 0.5750\n",
      "Epoch 4: val_loss did not improve from 0.97935\n",
      "14/14 [==============================] - 0s 10ms/step - loss: 4.9483 - accuracy: 0.5848 - val_loss: 1.4213 - val_accuracy: 0.5841\n",
      "Epoch 5/150\n",
      " 1/14 [=>............................] - ETA: 0s - loss: 5.4313 - accuracy: 0.5312\n",
      "Epoch 5: val_loss improved from 0.97935 to 0.78608, saving model to /audio_classification.hdf5\n",
      "14/14 [==============================] - 0s 9ms/step - loss: 4.4024 - accuracy: 0.5022 - val_loss: 0.7861 - val_accuracy: 0.5752\n",
      "Epoch 6/150\n",
      " 1/14 [=>............................] - ETA: 0s - loss: 3.5916 - accuracy: 0.5625\n",
      "Epoch 6: val_loss improved from 0.78608 to 0.66937, saving model to /audio_classification.hdf5\n",
      "14/14 [==============================] - 0s 10ms/step - loss: 3.2654 - accuracy: 0.5045 - val_loss: 0.6694 - val_accuracy: 0.6372\n",
      "Epoch 7/150\n",
      " 1/14 [=>............................] - ETA: 0s - loss: 3.2070 - accuracy: 0.4375\n",
      "Epoch 7: val_loss improved from 0.66937 to 0.62850, saving model to /audio_classification.hdf5\n",
      "14/14 [==============================] - 0s 9ms/step - loss: 2.2829 - accuracy: 0.5603 - val_loss: 0.6285 - val_accuracy: 0.6903\n",
      "Epoch 8/150\n",
      "12/14 [========================>.....] - ETA: 0s - loss: 2.4528 - accuracy: 0.5417\n",
      "Epoch 8: val_loss did not improve from 0.62850\n",
      "14/14 [==============================] - 0s 7ms/step - loss: 2.5597 - accuracy: 0.5290 - val_loss: 0.6299 - val_accuracy: 0.6460\n",
      "Epoch 9/150\n",
      "14/14 [==============================] - ETA: 0s - loss: 2.0798 - accuracy: 0.5558\n",
      "Epoch 9: val_loss did not improve from 0.62850\n",
      "14/14 [==============================] - 0s 7ms/step - loss: 2.0798 - accuracy: 0.5558 - val_loss: 0.6312 - val_accuracy: 0.6195\n",
      "Epoch 10/150\n",
      "13/14 [==========================>...] - ETA: 0s - loss: 1.5278 - accuracy: 0.5697\n",
      "Epoch 10: val_loss did not improve from 0.62850\n",
      "14/14 [==============================] - 0s 7ms/step - loss: 1.5399 - accuracy: 0.5692 - val_loss: 0.6687 - val_accuracy: 0.6018\n",
      "Epoch 11/150\n",
      " 1/14 [=>............................] - ETA: 0s - loss: 2.1613 - accuracy: 0.5625\n",
      "Epoch 11: val_loss did not improve from 0.62850\n",
      "14/14 [==============================] - 0s 7ms/step - loss: 1.5673 - accuracy: 0.5826 - val_loss: 0.6434 - val_accuracy: 0.6372\n",
      "Epoch 12/150\n",
      "14/14 [==============================] - ETA: 0s - loss: 1.4277 - accuracy: 0.5536\n",
      "Epoch 12: val_loss did not improve from 0.62850\n",
      "14/14 [==============================] - 0s 7ms/step - loss: 1.4277 - accuracy: 0.5536 - val_loss: 0.6357 - val_accuracy: 0.6283\n",
      "Epoch 13/150\n",
      "12/14 [========================>.....] - ETA: 0s - loss: 1.3432 - accuracy: 0.5885\n",
      "Epoch 13: val_loss did not improve from 0.62850\n",
      "14/14 [==============================] - 0s 7ms/step - loss: 1.4234 - accuracy: 0.5781 - val_loss: 0.6453 - val_accuracy: 0.6283\n",
      "Epoch 14/150\n",
      " 1/14 [=>............................] - ETA: 0s - loss: 1.1024 - accuracy: 0.7188\n",
      "Epoch 14: val_loss did not improve from 0.62850\n",
      "14/14 [==============================] - 0s 6ms/step - loss: 1.3185 - accuracy: 0.5826 - val_loss: 0.6733 - val_accuracy: 0.5841\n",
      "Epoch 15/150\n",
      " 1/14 [=>............................] - ETA: 0s - loss: 0.7943 - accuracy: 0.6562\n",
      "Epoch 15: val_loss did not improve from 0.62850\n",
      "14/14 [==============================] - 0s 6ms/step - loss: 1.1939 - accuracy: 0.5625 - val_loss: 0.6668 - val_accuracy: 0.5487\n",
      "Epoch 16/150\n",
      " 1/14 [=>............................] - ETA: 0s - loss: 1.2100 - accuracy: 0.5938\n",
      "Epoch 16: val_loss did not improve from 0.62850\n",
      "14/14 [==============================] - 0s 6ms/step - loss: 1.1504 - accuracy: 0.6138 - val_loss: 0.6691 - val_accuracy: 0.5221\n",
      "Epoch 17/150\n",
      " 1/14 [=>............................] - ETA: 0s - loss: 1.0251 - accuracy: 0.5312\n",
      "Epoch 17: val_loss did not improve from 0.62850\n",
      "14/14 [==============================] - 0s 6ms/step - loss: 1.1458 - accuracy: 0.5625 - val_loss: 0.6676 - val_accuracy: 0.6018\n",
      "Epoch 18/150\n",
      "14/14 [==============================] - ETA: 0s - loss: 1.1854 - accuracy: 0.5625\n",
      "Epoch 18: val_loss did not improve from 0.62850\n",
      "14/14 [==============================] - 0s 7ms/step - loss: 1.1854 - accuracy: 0.5625 - val_loss: 0.6627 - val_accuracy: 0.6018\n",
      "Epoch 19/150\n",
      " 1/14 [=>............................] - ETA: 0s - loss: 1.4199 - accuracy: 0.5000\n",
      "Epoch 19: val_loss did not improve from 0.62850\n",
      "14/14 [==============================] - 0s 6ms/step - loss: 1.0907 - accuracy: 0.5625 - val_loss: 0.6635 - val_accuracy: 0.5752\n",
      "Epoch 20/150\n",
      "14/14 [==============================] - ETA: 0s - loss: 1.0241 - accuracy: 0.5402\n",
      "Epoch 20: val_loss did not improve from 0.62850\n",
      "14/14 [==============================] - 0s 7ms/step - loss: 1.0241 - accuracy: 0.5402 - val_loss: 0.6638 - val_accuracy: 0.5575\n",
      "Epoch 21/150\n",
      " 1/14 [=>............................] - ETA: 0s - loss: 0.9550 - accuracy: 0.5312\n",
      "Epoch 21: val_loss did not improve from 0.62850\n",
      "14/14 [==============================] - 0s 6ms/step - loss: 0.9546 - accuracy: 0.5871 - val_loss: 0.6657 - val_accuracy: 0.5487\n",
      "Epoch 22/150\n",
      " 1/14 [=>............................] - ETA: 0s - loss: 1.0894 - accuracy: 0.5625\n",
      "Epoch 22: val_loss did not improve from 0.62850\n",
      "14/14 [==============================] - 0s 5ms/step - loss: 0.9021 - accuracy: 0.5938 - val_loss: 0.6619 - val_accuracy: 0.6106\n",
      "Epoch 23/150\n",
      " 1/14 [=>............................] - ETA: 0s - loss: 0.8727 - accuracy: 0.6562\n",
      "Epoch 23: val_loss did not improve from 0.62850\n",
      "14/14 [==============================] - 0s 6ms/step - loss: 0.8242 - accuracy: 0.6317 - val_loss: 0.6603 - val_accuracy: 0.5841\n",
      "Epoch 24/150\n",
      " 1/14 [=>............................] - ETA: 0s - loss: 0.8095 - accuracy: 0.5938\n",
      "Epoch 24: val_loss did not improve from 0.62850\n",
      "14/14 [==============================] - 0s 6ms/step - loss: 0.9144 - accuracy: 0.5848 - val_loss: 0.6577 - val_accuracy: 0.5929\n",
      "Epoch 25/150\n",
      " 9/14 [==================>...........] - ETA: 0s - loss: 0.8924 - accuracy: 0.6007\n",
      "Epoch 25: val_loss did not improve from 0.62850\n",
      "14/14 [==============================] - 0s 8ms/step - loss: 0.9026 - accuracy: 0.5915 - val_loss: 0.6640 - val_accuracy: 0.6018\n",
      "Epoch 26/150\n",
      " 1/14 [=>............................] - ETA: 0s - loss: 0.7251 - accuracy: 0.5000\n",
      "Epoch 26: val_loss did not improve from 0.62850\n",
      "14/14 [==============================] - 0s 5ms/step - loss: 0.8414 - accuracy: 0.5804 - val_loss: 0.6597 - val_accuracy: 0.6460\n",
      "Epoch 27/150\n",
      " 1/14 [=>............................] - ETA: 0s - loss: 0.7690 - accuracy: 0.5312\n",
      "Epoch 27: val_loss did not improve from 0.62850\n",
      "14/14 [==============================] - 0s 6ms/step - loss: 0.8124 - accuracy: 0.5781 - val_loss: 0.6394 - val_accuracy: 0.6549\n",
      "Epoch 28/150\n",
      " 1/14 [=>............................] - ETA: 0s - loss: 0.7476 - accuracy: 0.6250\n",
      "Epoch 28: val_loss did not improve from 0.62850\n",
      "14/14 [==============================] - 0s 6ms/step - loss: 0.7906 - accuracy: 0.5982 - val_loss: 0.6399 - val_accuracy: 0.6549\n",
      "Epoch 29/150\n",
      " 1/14 [=>............................] - ETA: 0s - loss: 0.8449 - accuracy: 0.5625\n",
      "Epoch 29: val_loss did not improve from 0.62850\n",
      "14/14 [==============================] - 0s 6ms/step - loss: 0.7447 - accuracy: 0.6295 - val_loss: 0.6449 - val_accuracy: 0.6372\n",
      "Epoch 30/150\n",
      " 1/14 [=>............................] - ETA: 0s - loss: 0.8472 - accuracy: 0.5312\n",
      "Epoch 30: val_loss did not improve from 0.62850\n",
      "14/14 [==============================] - 0s 6ms/step - loss: 0.7794 - accuracy: 0.5759 - val_loss: 0.6476 - val_accuracy: 0.6283\n",
      "Epoch 31/150\n",
      " 1/14 [=>............................] - ETA: 0s - loss: 0.6685 - accuracy: 0.6875\n",
      "Epoch 31: val_loss did not improve from 0.62850\n",
      "14/14 [==============================] - 0s 12ms/step - loss: 0.7571 - accuracy: 0.6250 - val_loss: 0.6360 - val_accuracy: 0.6283\n",
      "Epoch 32/150\n",
      "13/14 [==========================>...] - ETA: 0s - loss: 0.7158 - accuracy: 0.6154\n",
      "Epoch 32: val_loss did not improve from 0.62850\n",
      "14/14 [==============================] - 0s 7ms/step - loss: 0.7008 - accuracy: 0.6228 - val_loss: 0.6379 - val_accuracy: 0.6814\n"
     ]
    },
    {
     "name": "stdout",
     "output_type": "stream",
     "text": [
      "Epoch 33/150\n",
      "14/14 [==============================] - ETA: 0s - loss: 0.7155 - accuracy: 0.6384\n",
      "Epoch 33: val_loss did not improve from 0.62850\n",
      "14/14 [==============================] - 0s 7ms/step - loss: 0.7155 - accuracy: 0.6384 - val_loss: 0.6334 - val_accuracy: 0.6814\n",
      "Epoch 34/150\n",
      "14/14 [==============================] - ETA: 0s - loss: 0.6881 - accuracy: 0.6451\n",
      "Epoch 34: val_loss did not improve from 0.62850\n",
      "14/14 [==============================] - 0s 7ms/step - loss: 0.6881 - accuracy: 0.6451 - val_loss: 0.6393 - val_accuracy: 0.6460\n",
      "Epoch 35/150\n",
      " 1/14 [=>............................] - ETA: 0s - loss: 0.7399 - accuracy: 0.6875\n",
      "Epoch 35: val_loss did not improve from 0.62850\n",
      "14/14 [==============================] - 0s 7ms/step - loss: 0.7552 - accuracy: 0.6183 - val_loss: 0.6458 - val_accuracy: 0.6106\n",
      "Epoch 36/150\n",
      " 1/14 [=>............................] - ETA: 0s - loss: 0.6638 - accuracy: 0.6875\n",
      "Epoch 36: val_loss did not improve from 0.62850\n",
      "14/14 [==============================] - 0s 6ms/step - loss: 0.7169 - accuracy: 0.6250 - val_loss: 0.6425 - val_accuracy: 0.6372\n",
      "Epoch 37/150\n",
      " 1/14 [=>............................] - ETA: 0s - loss: 0.8621 - accuracy: 0.5938\n",
      "Epoch 37: val_loss did not improve from 0.62850\n",
      "14/14 [==============================] - 0s 6ms/step - loss: 0.6898 - accuracy: 0.6384 - val_loss: 0.6294 - val_accuracy: 0.6372\n",
      "Epoch 38/150\n",
      " 1/14 [=>............................] - ETA: 0s - loss: 0.4972 - accuracy: 0.7500\n",
      "Epoch 38: val_loss did not improve from 0.62850\n",
      "14/14 [==============================] - 0s 6ms/step - loss: 0.6748 - accuracy: 0.6518 - val_loss: 0.6327 - val_accuracy: 0.6637\n",
      "Epoch 39/150\n",
      " 1/14 [=>............................] - ETA: 0s - loss: 0.6189 - accuracy: 0.6250\n",
      "Epoch 39: val_loss did not improve from 0.62850\n",
      "14/14 [==============================] - 0s 6ms/step - loss: 0.6423 - accuracy: 0.6607 - val_loss: 0.6374 - val_accuracy: 0.6460\n",
      "Epoch 40/150\n",
      "12/14 [========================>.....] - ETA: 0s - loss: 0.6728 - accuracy: 0.6406\n",
      "Epoch 40: val_loss did not improve from 0.62850\n",
      "14/14 [==============================] - 0s 8ms/step - loss: 0.6679 - accuracy: 0.6429 - val_loss: 0.6285 - val_accuracy: 0.6283\n",
      "Epoch 41/150\n",
      "12/14 [========================>.....] - ETA: 0s - loss: 0.7002 - accuracy: 0.6380\n",
      "Epoch 41: val_loss improved from 0.62850 to 0.62255, saving model to /audio_classification.hdf5\n",
      "14/14 [==============================] - 0s 11ms/step - loss: 0.6938 - accuracy: 0.6295 - val_loss: 0.6226 - val_accuracy: 0.6726\n",
      "Epoch 42/150\n",
      " 1/14 [=>............................] - ETA: 0s - loss: 0.5941 - accuracy: 0.8125\n",
      "Epoch 42: val_loss improved from 0.62255 to 0.61391, saving model to /audio_classification.hdf5\n",
      "14/14 [==============================] - 0s 9ms/step - loss: 0.6459 - accuracy: 0.6607 - val_loss: 0.6139 - val_accuracy: 0.6372\n",
      "Epoch 43/150\n",
      "13/14 [==========================>...] - ETA: 0s - loss: 0.6616 - accuracy: 0.6899\n",
      "Epoch 43: val_loss improved from 0.61391 to 0.60860, saving model to /audio_classification.hdf5\n",
      "14/14 [==============================] - 0s 10ms/step - loss: 0.6468 - accuracy: 0.6920 - val_loss: 0.6086 - val_accuracy: 0.6814\n",
      "Epoch 44/150\n",
      " 1/14 [=>............................] - ETA: 0s - loss: 0.6994 - accuracy: 0.6562\n",
      "Epoch 44: val_loss improved from 0.60860 to 0.60667, saving model to /audio_classification.hdf5\n",
      "14/14 [==============================] - 0s 9ms/step - loss: 0.6250 - accuracy: 0.6585 - val_loss: 0.6067 - val_accuracy: 0.6814\n",
      "Epoch 45/150\n",
      " 1/14 [=>............................] - ETA: 0s - loss: 0.5410 - accuracy: 0.7500\n",
      "Epoch 45: val_loss improved from 0.60667 to 0.60214, saving model to /audio_classification.hdf5\n",
      "14/14 [==============================] - 0s 9ms/step - loss: 0.6303 - accuracy: 0.6652 - val_loss: 0.6021 - val_accuracy: 0.6372\n",
      "Epoch 46/150\n",
      "14/14 [==============================] - ETA: 0s - loss: 0.6278 - accuracy: 0.6496\n",
      "Epoch 46: val_loss improved from 0.60214 to 0.59933, saving model to /audio_classification.hdf5\n",
      "14/14 [==============================] - 0s 13ms/step - loss: 0.6278 - accuracy: 0.6496 - val_loss: 0.5993 - val_accuracy: 0.6814\n",
      "Epoch 47/150\n",
      "13/14 [==========================>...] - ETA: 0s - loss: 0.6153 - accuracy: 0.6779\n",
      "Epoch 47: val_loss did not improve from 0.59933\n",
      "14/14 [==============================] - 0s 8ms/step - loss: 0.6132 - accuracy: 0.6808 - val_loss: 0.6011 - val_accuracy: 0.6814\n",
      "Epoch 48/150\n",
      "13/14 [==========================>...] - ETA: 0s - loss: 0.5935 - accuracy: 0.7091\n",
      "Epoch 48: val_loss did not improve from 0.59933\n",
      "14/14 [==============================] - 0s 7ms/step - loss: 0.5965 - accuracy: 0.7031 - val_loss: 0.6088 - val_accuracy: 0.6903\n",
      "Epoch 49/150\n",
      " 1/14 [=>............................] - ETA: 0s - loss: 0.4160 - accuracy: 0.8125\n",
      "Epoch 49: val_loss did not improve from 0.59933\n",
      "14/14 [==============================] - 0s 6ms/step - loss: 0.5858 - accuracy: 0.6875 - val_loss: 0.6085 - val_accuracy: 0.6726\n",
      "Epoch 50/150\n",
      " 1/14 [=>............................] - ETA: 0s - loss: 0.5807 - accuracy: 0.6562\n",
      "Epoch 50: val_loss did not improve from 0.59933\n",
      "14/14 [==============================] - 0s 6ms/step - loss: 0.6093 - accuracy: 0.6741 - val_loss: 0.6082 - val_accuracy: 0.6903\n",
      "Epoch 51/150\n",
      " 8/14 [================>.............] - ETA: 0s - loss: 0.6754 - accuracy: 0.6406\n",
      "Epoch 51: val_loss did not improve from 0.59933\n",
      "14/14 [==============================] - 0s 8ms/step - loss: 0.6519 - accuracy: 0.6629 - val_loss: 0.6104 - val_accuracy: 0.6637\n",
      "Epoch 52/150\n",
      " 1/14 [=>............................] - ETA: 0s - loss: 0.5318 - accuracy: 0.8438\n",
      "Epoch 52: val_loss did not improve from 0.59933\n",
      "14/14 [==============================] - 0s 5ms/step - loss: 0.6117 - accuracy: 0.6875 - val_loss: 0.6191 - val_accuracy: 0.6637\n",
      "Epoch 53/150\n",
      " 1/14 [=>............................] - ETA: 0s - loss: 0.5112 - accuracy: 0.7500\n",
      "Epoch 53: val_loss did not improve from 0.59933\n",
      "14/14 [==============================] - 0s 5ms/step - loss: 0.5730 - accuracy: 0.6942 - val_loss: 0.6150 - val_accuracy: 0.6460\n",
      "Epoch 54/150\n",
      " 1/14 [=>............................] - ETA: 0s - loss: 0.4627 - accuracy: 0.7500\n",
      "Epoch 54: val_loss did not improve from 0.59933\n",
      "14/14 [==============================] - 0s 6ms/step - loss: 0.5839 - accuracy: 0.6607 - val_loss: 0.6201 - val_accuracy: 0.6637\n",
      "Epoch 55/150\n",
      " 1/14 [=>............................] - ETA: 0s - loss: 0.4342 - accuracy: 0.7188\n",
      "Epoch 55: val_loss did not improve from 0.59933\n",
      "14/14 [==============================] - 0s 7ms/step - loss: 0.5500 - accuracy: 0.6987 - val_loss: 0.6174 - val_accuracy: 0.6460\n",
      "Epoch 56/150\n",
      " 1/14 [=>............................] - ETA: 0s - loss: 0.4177 - accuracy: 0.9062\n",
      "Epoch 56: val_loss did not improve from 0.59933\n",
      "14/14 [==============================] - 0s 6ms/step - loss: 0.5666 - accuracy: 0.7165 - val_loss: 0.6125 - val_accuracy: 0.6814\n",
      "Epoch 57/150\n",
      " 1/14 [=>............................] - ETA: 0s - loss: 0.6465 - accuracy: 0.6562\n",
      "Epoch 57: val_loss did not improve from 0.59933\n",
      "14/14 [==============================] - 0s 7ms/step - loss: 0.5642 - accuracy: 0.7210 - val_loss: 0.6107 - val_accuracy: 0.6991\n",
      "Epoch 58/150\n",
      " 1/14 [=>............................] - ETA: 0s - loss: 0.5776 - accuracy: 0.7812\n",
      "Epoch 58: val_loss did not improve from 0.59933\n",
      "14/14 [==============================] - 0s 7ms/step - loss: 0.5635 - accuracy: 0.7031 - val_loss: 0.6113 - val_accuracy: 0.7080\n",
      "Epoch 59/150\n",
      "13/14 [==========================>...] - ETA: 0s - loss: 0.5881 - accuracy: 0.6947\n",
      "Epoch 59: val_loss did not improve from 0.59933\n",
      "14/14 [==============================] - 0s 8ms/step - loss: 0.5775 - accuracy: 0.7031 - val_loss: 0.6057 - val_accuracy: 0.6814\n",
      "Epoch 60/150\n",
      " 1/14 [=>............................] - ETA: 0s - loss: 0.6263 - accuracy: 0.6875\n",
      "Epoch 60: val_loss did not improve from 0.59933\n",
      "14/14 [==============================] - 0s 6ms/step - loss: 0.5506 - accuracy: 0.6853 - val_loss: 0.6014 - val_accuracy: 0.6726\n",
      "Epoch 61/150\n",
      " 1/14 [=>............................] - ETA: 0s - loss: 0.5547 - accuracy: 0.6562\n",
      "Epoch 61: val_loss did not improve from 0.59933\n",
      "14/14 [==============================] - 0s 6ms/step - loss: 0.5230 - accuracy: 0.7143 - val_loss: 0.6089 - val_accuracy: 0.6726\n"
     ]
    },
    {
     "name": "stdout",
     "output_type": "stream",
     "text": [
      "Epoch 62/150\n",
      "13/14 [==========================>...] - ETA: 0s - loss: 0.5349 - accuracy: 0.7260\n",
      "Epoch 62: val_loss did not improve from 0.59933\n",
      "14/14 [==============================] - 0s 8ms/step - loss: 0.5390 - accuracy: 0.7277 - val_loss: 0.6117 - val_accuracy: 0.6372\n",
      "Epoch 63/150\n",
      "13/14 [==========================>...] - ETA: 0s - loss: 0.5112 - accuracy: 0.7163\n",
      "Epoch 63: val_loss did not improve from 0.59933\n",
      "14/14 [==============================] - 0s 8ms/step - loss: 0.5218 - accuracy: 0.7121 - val_loss: 0.6115 - val_accuracy: 0.6460\n",
      "Epoch 64/150\n",
      "12/14 [========================>.....] - ETA: 0s - loss: 0.4857 - accuracy: 0.7604\n",
      "Epoch 64: val_loss did not improve from 0.59933\n",
      "14/14 [==============================] - 0s 8ms/step - loss: 0.4824 - accuracy: 0.7634 - val_loss: 0.6178 - val_accuracy: 0.6549\n",
      "Epoch 65/150\n",
      " 1/14 [=>............................] - ETA: 0s - loss: 0.5369 - accuracy: 0.6562\n",
      "Epoch 65: val_loss did not improve from 0.59933\n",
      "14/14 [==============================] - 0s 6ms/step - loss: 0.4762 - accuracy: 0.7344 - val_loss: 0.6251 - val_accuracy: 0.6726\n",
      "Epoch 66/150\n",
      " 1/14 [=>............................] - ETA: 0s - loss: 0.4345 - accuracy: 0.8125\n",
      "Epoch 66: val_loss did not improve from 0.59933\n",
      "14/14 [==============================] - 0s 7ms/step - loss: 0.4840 - accuracy: 0.7723 - val_loss: 0.6201 - val_accuracy: 0.6637\n",
      "Epoch 67/150\n",
      "13/14 [==========================>...] - ETA: 0s - loss: 0.4670 - accuracy: 0.7452\n",
      "Epoch 67: val_loss did not improve from 0.59933\n",
      "14/14 [==============================] - 0s 7ms/step - loss: 0.4621 - accuracy: 0.7500 - val_loss: 0.6124 - val_accuracy: 0.6549\n",
      "Epoch 68/150\n",
      " 1/14 [=>............................] - ETA: 0s - loss: 0.4464 - accuracy: 0.7500\n",
      "Epoch 68: val_loss did not improve from 0.59933\n",
      "14/14 [==============================] - 0s 7ms/step - loss: 0.4459 - accuracy: 0.7746 - val_loss: 0.6123 - val_accuracy: 0.6814\n",
      "Epoch 69/150\n",
      "14/14 [==============================] - ETA: 0s - loss: 0.4699 - accuracy: 0.7545\n",
      "Epoch 69: val_loss did not improve from 0.59933\n",
      "14/14 [==============================] - 0s 7ms/step - loss: 0.4699 - accuracy: 0.7545 - val_loss: 0.6106 - val_accuracy: 0.6549\n",
      "Epoch 70/150\n",
      " 1/14 [=>............................] - ETA: 0s - loss: 0.4433 - accuracy: 0.8125\n",
      "Epoch 70: val_loss did not improve from 0.59933\n",
      "14/14 [==============================] - 0s 6ms/step - loss: 0.5007 - accuracy: 0.7478 - val_loss: 0.6214 - val_accuracy: 0.6637\n",
      "Epoch 71/150\n",
      "13/14 [==========================>...] - ETA: 0s - loss: 0.4935 - accuracy: 0.7524\n",
      "Epoch 71: val_loss did not improve from 0.59933\n",
      "14/14 [==============================] - 0s 8ms/step - loss: 0.4933 - accuracy: 0.7500 - val_loss: 0.6298 - val_accuracy: 0.6726\n",
      "Epoch 72/150\n",
      "13/14 [==========================>...] - ETA: 0s - loss: 0.4816 - accuracy: 0.7596\n",
      "Epoch 72: val_loss did not improve from 0.59933\n",
      "14/14 [==============================] - 0s 8ms/step - loss: 0.4737 - accuracy: 0.7612 - val_loss: 0.6216 - val_accuracy: 0.6637\n",
      "Epoch 73/150\n",
      " 1/14 [=>............................] - ETA: 0s - loss: 0.3956 - accuracy: 0.8438\n",
      "Epoch 73: val_loss did not improve from 0.59933\n",
      "14/14 [==============================] - 0s 6ms/step - loss: 0.4968 - accuracy: 0.7411 - val_loss: 0.6111 - val_accuracy: 0.6991\n",
      "Epoch 74/150\n",
      " 1/14 [=>............................] - ETA: 0s - loss: 0.4613 - accuracy: 0.7188\n",
      "Epoch 74: val_loss did not improve from 0.59933\n",
      "14/14 [==============================] - 0s 6ms/step - loss: 0.4567 - accuracy: 0.7701 - val_loss: 0.6126 - val_accuracy: 0.6726\n",
      "Epoch 75/150\n",
      " 1/14 [=>............................] - ETA: 0s - loss: 0.4841 - accuracy: 0.7188\n",
      "Epoch 75: val_loss did not improve from 0.59933\n",
      "14/14 [==============================] - 0s 6ms/step - loss: 0.4669 - accuracy: 0.7411 - val_loss: 0.6102 - val_accuracy: 0.6637\n",
      "Epoch 76/150\n",
      " 1/14 [=>............................] - ETA: 0s - loss: 0.4823 - accuracy: 0.8438\n",
      "Epoch 76: val_loss improved from 0.59933 to 0.59855, saving model to /audio_classification.hdf5\n",
      "14/14 [==============================] - 0s 9ms/step - loss: 0.4531 - accuracy: 0.7768 - val_loss: 0.5986 - val_accuracy: 0.6814\n",
      "Epoch 77/150\n",
      " 1/14 [=>............................] - ETA: 0s - loss: 0.4527 - accuracy: 0.7500\n",
      "Epoch 77: val_loss did not improve from 0.59855\n",
      "14/14 [==============================] - 0s 7ms/step - loss: 0.4725 - accuracy: 0.7545 - val_loss: 0.6007 - val_accuracy: 0.7080\n",
      "Epoch 78/150\n",
      "12/14 [========================>.....] - ETA: 0s - loss: 0.4624 - accuracy: 0.7708\n",
      "Epoch 78: val_loss did not improve from 0.59855\n",
      "14/14 [==============================] - 0s 8ms/step - loss: 0.4596 - accuracy: 0.7723 - val_loss: 0.6102 - val_accuracy: 0.6814\n",
      "Epoch 79/150\n",
      "14/14 [==============================] - ETA: 0s - loss: 0.4611 - accuracy: 0.7701\n",
      "Epoch 79: val_loss did not improve from 0.59855\n",
      "14/14 [==============================] - 0s 7ms/step - loss: 0.4611 - accuracy: 0.7701 - val_loss: 0.6125 - val_accuracy: 0.6814\n",
      "Epoch 80/150\n",
      "14/14 [==============================] - ETA: 0s - loss: 0.4338 - accuracy: 0.7902\n",
      "Epoch 80: val_loss did not improve from 0.59855\n",
      "14/14 [==============================] - 0s 7ms/step - loss: 0.4338 - accuracy: 0.7902 - val_loss: 0.6178 - val_accuracy: 0.6903\n",
      "Epoch 81/150\n",
      "13/14 [==========================>...] - ETA: 0s - loss: 0.4168 - accuracy: 0.8125\n",
      "Epoch 81: val_loss did not improve from 0.59855\n",
      "14/14 [==============================] - 0s 7ms/step - loss: 0.4161 - accuracy: 0.8080 - val_loss: 0.6219 - val_accuracy: 0.6903\n",
      "Epoch 82/150\n",
      " 1/14 [=>............................] - ETA: 0s - loss: 0.4684 - accuracy: 0.8125\n",
      "Epoch 82: val_loss did not improve from 0.59855\n",
      "14/14 [==============================] - 0s 6ms/step - loss: 0.4364 - accuracy: 0.7835 - val_loss: 0.6319 - val_accuracy: 0.6726\n",
      "Epoch 83/150\n",
      "13/14 [==========================>...] - ETA: 0s - loss: 0.4332 - accuracy: 0.7909\n",
      "Epoch 83: val_loss did not improve from 0.59855\n",
      "14/14 [==============================] - 0s 8ms/step - loss: 0.4498 - accuracy: 0.7790 - val_loss: 0.6324 - val_accuracy: 0.6549\n",
      "Epoch 84/150\n",
      "13/14 [==========================>...] - ETA: 0s - loss: 0.4379 - accuracy: 0.8005\n",
      "Epoch 84: val_loss did not improve from 0.59855\n",
      "14/14 [==============================] - 0s 8ms/step - loss: 0.4513 - accuracy: 0.7946 - val_loss: 0.6575 - val_accuracy: 0.6726\n",
      "Epoch 85/150\n",
      " 1/14 [=>............................] - ETA: 0s - loss: 0.5114 - accuracy: 0.7500\n",
      "Epoch 85: val_loss did not improve from 0.59855\n",
      "14/14 [==============================] - 0s 6ms/step - loss: 0.4377 - accuracy: 0.7746 - val_loss: 0.6367 - val_accuracy: 0.6549\n",
      "Epoch 86/150\n",
      "14/14 [==============================] - ETA: 0s - loss: 0.4108 - accuracy: 0.8036\n",
      "Epoch 86: val_loss did not improve from 0.59855\n",
      "14/14 [==============================] - 0s 7ms/step - loss: 0.4108 - accuracy: 0.8036 - val_loss: 0.6295 - val_accuracy: 0.6549\n",
      "Epoch 87/150\n",
      "14/14 [==============================] - ETA: 0s - loss: 0.3845 - accuracy: 0.8125\n",
      "Epoch 87: val_loss did not improve from 0.59855\n",
      "14/14 [==============================] - 0s 7ms/step - loss: 0.3845 - accuracy: 0.8125 - val_loss: 0.6487 - val_accuracy: 0.6637\n",
      "Epoch 88/150\n",
      " 1/14 [=>............................] - ETA: 0s - loss: 0.4176 - accuracy: 0.7812\n",
      "Epoch 88: val_loss did not improve from 0.59855\n",
      "14/14 [==============================] - 0s 6ms/step - loss: 0.3974 - accuracy: 0.7946 - val_loss: 0.6627 - val_accuracy: 0.6637\n",
      "Epoch 89/150\n",
      " 8/14 [================>.............] - ETA: 0s - loss: 0.4171 - accuracy: 0.8164\n",
      "Epoch 89: val_loss did not improve from 0.59855\n",
      "14/14 [==============================] - 0s 8ms/step - loss: 0.4160 - accuracy: 0.8058 - val_loss: 0.6639 - val_accuracy: 0.6637\n",
      "Epoch 90/150\n",
      " 1/14 [=>............................] - ETA: 0s - loss: 0.2714 - accuracy: 0.8125\n",
      "Epoch 90: val_loss did not improve from 0.59855\n",
      "14/14 [==============================] - 0s 6ms/step - loss: 0.3888 - accuracy: 0.8214 - val_loss: 0.6797 - val_accuracy: 0.6903\n",
      "Epoch 91/150\n",
      " 1/14 [=>............................] - ETA: 0s - loss: 0.1714 - accuracy: 1.0000\n",
      "Epoch 91: val_loss did not improve from 0.59855\n",
      "14/14 [==============================] - 0s 6ms/step - loss: 0.3499 - accuracy: 0.8594 - val_loss: 0.6833 - val_accuracy: 0.6903\n"
     ]
    },
    {
     "name": "stdout",
     "output_type": "stream",
     "text": [
      "Epoch 92/150\n",
      "12/14 [========================>.....] - ETA: 0s - loss: 0.3776 - accuracy: 0.8125\n",
      "Epoch 92: val_loss did not improve from 0.59855\n",
      "14/14 [==============================] - 0s 8ms/step - loss: 0.3670 - accuracy: 0.8214 - val_loss: 0.6856 - val_accuracy: 0.6991\n",
      "Epoch 93/150\n",
      " 1/14 [=>............................] - ETA: 0s - loss: 0.3138 - accuracy: 0.9375\n",
      "Epoch 93: val_loss did not improve from 0.59855\n",
      "14/14 [==============================] - 0s 7ms/step - loss: 0.3197 - accuracy: 0.8616 - val_loss: 0.6722 - val_accuracy: 0.6726\n",
      "Epoch 94/150\n",
      "13/14 [==========================>...] - ETA: 0s - loss: 0.3497 - accuracy: 0.8438\n",
      "Epoch 94: val_loss did not improve from 0.59855\n",
      "14/14 [==============================] - 0s 8ms/step - loss: 0.3476 - accuracy: 0.8460 - val_loss: 0.6908 - val_accuracy: 0.6549\n",
      "Epoch 95/150\n",
      "14/14 [==============================] - ETA: 0s - loss: 0.3422 - accuracy: 0.8616\n",
      "Epoch 95: val_loss did not improve from 0.59855\n",
      "14/14 [==============================] - 0s 7ms/step - loss: 0.3422 - accuracy: 0.8616 - val_loss: 0.6821 - val_accuracy: 0.6903\n",
      "Epoch 96/150\n",
      " 1/14 [=>............................] - ETA: 0s - loss: 0.2962 - accuracy: 0.8125\n",
      "Epoch 96: val_loss did not improve from 0.59855\n",
      "14/14 [==============================] - 0s 7ms/step - loss: 0.3465 - accuracy: 0.8438 - val_loss: 0.6857 - val_accuracy: 0.6637\n",
      "Epoch 97/150\n",
      " 1/14 [=>............................] - ETA: 0s - loss: 0.2431 - accuracy: 0.8750\n",
      "Epoch 97: val_loss did not improve from 0.59855\n",
      "14/14 [==============================] - 0s 6ms/step - loss: 0.3793 - accuracy: 0.8170 - val_loss: 0.7020 - val_accuracy: 0.6726\n",
      "Epoch 98/150\n",
      "14/14 [==============================] - ETA: 0s - loss: 0.3175 - accuracy: 0.8504\n",
      "Epoch 98: val_loss did not improve from 0.59855\n",
      "14/14 [==============================] - 0s 7ms/step - loss: 0.3175 - accuracy: 0.8504 - val_loss: 0.7022 - val_accuracy: 0.6549\n",
      "Epoch 99/150\n",
      " 1/14 [=>............................] - ETA: 0s - loss: 0.2050 - accuracy: 0.9375\n",
      "Epoch 99: val_loss did not improve from 0.59855\n",
      "14/14 [==============================] - 0s 6ms/step - loss: 0.2927 - accuracy: 0.8839 - val_loss: 0.7287 - val_accuracy: 0.6726\n",
      "Epoch 100/150\n",
      " 1/14 [=>............................] - ETA: 0s - loss: 0.2814 - accuracy: 0.8750\n",
      "Epoch 100: val_loss did not improve from 0.59855\n",
      "14/14 [==============================] - 0s 6ms/step - loss: 0.3258 - accuracy: 0.8371 - val_loss: 0.7331 - val_accuracy: 0.6903\n",
      "Epoch 101/150\n",
      " 1/14 [=>............................] - ETA: 0s - loss: 0.3159 - accuracy: 0.8125\n",
      "Epoch 101: val_loss did not improve from 0.59855\n",
      "14/14 [==============================] - 0s 6ms/step - loss: 0.3151 - accuracy: 0.8527 - val_loss: 0.7349 - val_accuracy: 0.6637\n",
      "Epoch 102/150\n",
      " 1/14 [=>............................] - ETA: 0s - loss: 0.0967 - accuracy: 1.0000\n",
      "Epoch 102: val_loss did not improve from 0.59855\n",
      "14/14 [==============================] - 0s 6ms/step - loss: 0.3231 - accuracy: 0.8594 - val_loss: 0.7179 - val_accuracy: 0.6726\n",
      "Epoch 103/150\n",
      " 1/14 [=>............................] - ETA: 0s - loss: 0.5835 - accuracy: 0.6875\n",
      "Epoch 103: val_loss did not improve from 0.59855\n",
      "14/14 [==============================] - 0s 6ms/step - loss: 0.3278 - accuracy: 0.8460 - val_loss: 0.7286 - val_accuracy: 0.6549\n",
      "Epoch 104/150\n",
      "12/14 [========================>.....] - ETA: 0s - loss: 0.3047 - accuracy: 0.8672\n",
      "Epoch 104: val_loss did not improve from 0.59855\n",
      "14/14 [==============================] - 0s 9ms/step - loss: 0.2970 - accuracy: 0.8683 - val_loss: 0.7668 - val_accuracy: 0.6460\n",
      "Epoch 105/150\n",
      "12/14 [========================>.....] - ETA: 0s - loss: 0.2862 - accuracy: 0.8750\n",
      "Epoch 105: val_loss did not improve from 0.59855\n",
      "14/14 [==============================] - 0s 8ms/step - loss: 0.2747 - accuracy: 0.8795 - val_loss: 0.7848 - val_accuracy: 0.6549\n",
      "Epoch 106/150\n",
      " 1/14 [=>............................] - ETA: 0s - loss: 0.2593 - accuracy: 0.8750\n",
      "Epoch 106: val_loss did not improve from 0.59855\n",
      "14/14 [==============================] - 0s 7ms/step - loss: 0.2664 - accuracy: 0.8795 - val_loss: 0.7854 - val_accuracy: 0.6726\n",
      "Epoch 107/150\n",
      " 1/14 [=>............................] - ETA: 0s - loss: 0.3596 - accuracy: 0.8438\n",
      "Epoch 107: val_loss did not improve from 0.59855\n",
      "14/14 [==============================] - 0s 7ms/step - loss: 0.2857 - accuracy: 0.8705 - val_loss: 0.8156 - val_accuracy: 0.6814\n",
      "Epoch 108/150\n",
      " 1/14 [=>............................] - ETA: 0s - loss: 0.1958 - accuracy: 0.9062\n",
      "Epoch 108: val_loss did not improve from 0.59855\n",
      "14/14 [==============================] - 0s 6ms/step - loss: 0.2435 - accuracy: 0.9040 - val_loss: 0.8635 - val_accuracy: 0.6814\n",
      "Epoch 109/150\n",
      " 1/14 [=>............................] - ETA: 0s - loss: 0.1963 - accuracy: 0.8750\n",
      "Epoch 109: val_loss did not improve from 0.59855\n",
      "14/14 [==============================] - 0s 6ms/step - loss: 0.2725 - accuracy: 0.8728 - val_loss: 0.8637 - val_accuracy: 0.6460\n",
      "Epoch 110/150\n",
      "14/14 [==============================] - ETA: 0s - loss: 0.2587 - accuracy: 0.8929\n",
      "Epoch 110: val_loss did not improve from 0.59855\n",
      "14/14 [==============================] - 0s 7ms/step - loss: 0.2587 - accuracy: 0.8929 - val_loss: 0.8448 - val_accuracy: 0.6726\n",
      "Epoch 111/150\n",
      " 1/14 [=>............................] - ETA: 0s - loss: 0.3766 - accuracy: 0.7812\n",
      "Epoch 111: val_loss did not improve from 0.59855\n",
      "14/14 [==============================] - 0s 6ms/step - loss: 0.2564 - accuracy: 0.8795 - val_loss: 0.8417 - val_accuracy: 0.6637\n",
      "Epoch 112/150\n",
      "14/14 [==============================] - ETA: 0s - loss: 0.2344 - accuracy: 0.9062\n",
      "Epoch 112: val_loss did not improve from 0.59855\n",
      "14/14 [==============================] - 0s 7ms/step - loss: 0.2344 - accuracy: 0.9062 - val_loss: 0.8361 - val_accuracy: 0.6637\n",
      "Epoch 113/150\n",
      " 1/14 [=>............................] - ETA: 0s - loss: 0.1557 - accuracy: 0.9688\n",
      "Epoch 113: val_loss did not improve from 0.59855\n",
      "14/14 [==============================] - 0s 7ms/step - loss: 0.2330 - accuracy: 0.8951 - val_loss: 0.8488 - val_accuracy: 0.6991\n",
      "Epoch 114/150\n",
      " 1/14 [=>............................] - ETA: 0s - loss: 0.4704 - accuracy: 0.7500\n",
      "Epoch 114: val_loss did not improve from 0.59855\n",
      "14/14 [==============================] - 0s 6ms/step - loss: 0.2588 - accuracy: 0.8661 - val_loss: 0.8558 - val_accuracy: 0.6549\n",
      "Epoch 115/150\n",
      "14/14 [==============================] - ETA: 0s - loss: 0.2383 - accuracy: 0.9018\n",
      "Epoch 115: val_loss did not improve from 0.59855\n",
      "14/14 [==============================] - 0s 7ms/step - loss: 0.2383 - accuracy: 0.9018 - val_loss: 0.8829 - val_accuracy: 0.6903\n",
      "Epoch 116/150\n",
      " 1/14 [=>............................] - ETA: 0s - loss: 0.1088 - accuracy: 0.9688\n",
      "Epoch 116: val_loss did not improve from 0.59855\n",
      "14/14 [==============================] - 0s 7ms/step - loss: 0.2086 - accuracy: 0.8951 - val_loss: 0.9517 - val_accuracy: 0.6460\n",
      "Epoch 117/150\n",
      " 1/14 [=>............................] - ETA: 0s - loss: 0.2342 - accuracy: 0.9062\n",
      "Epoch 117: val_loss did not improve from 0.59855\n",
      "14/14 [==============================] - 0s 7ms/step - loss: 0.2204 - accuracy: 0.9062 - val_loss: 0.8834 - val_accuracy: 0.6903\n",
      "Epoch 118/150\n",
      "14/14 [==============================] - ETA: 0s - loss: 0.2272 - accuracy: 0.8973\n",
      "Epoch 118: val_loss did not improve from 0.59855\n",
      "14/14 [==============================] - 0s 7ms/step - loss: 0.2272 - accuracy: 0.8973 - val_loss: 0.9794 - val_accuracy: 0.6903\n",
      "Epoch 119/150\n",
      " 1/14 [=>............................] - ETA: 0s - loss: 0.1491 - accuracy: 0.9375\n",
      "Epoch 119: val_loss did not improve from 0.59855\n",
      "14/14 [==============================] - 0s 7ms/step - loss: 0.2087 - accuracy: 0.9308 - val_loss: 0.9430 - val_accuracy: 0.6637\n",
      "Epoch 120/150\n",
      " 1/14 [=>............................] - ETA: 0s - loss: 0.1133 - accuracy: 1.0000\n",
      "Epoch 120: val_loss did not improve from 0.59855\n",
      "14/14 [==============================] - 0s 6ms/step - loss: 0.1873 - accuracy: 0.9152 - val_loss: 0.9588 - val_accuracy: 0.6372\n",
      "Epoch 121/150\n",
      "14/14 [==============================] - ETA: 0s - loss: 0.2103 - accuracy: 0.9107\n",
      "Epoch 121: val_loss did not improve from 0.59855\n",
      "14/14 [==============================] - 0s 7ms/step - loss: 0.2103 - accuracy: 0.9107 - val_loss: 1.0290 - val_accuracy: 0.6460\n"
     ]
    },
    {
     "name": "stdout",
     "output_type": "stream",
     "text": [
      "Epoch 122/150\n",
      " 1/14 [=>............................] - ETA: 0s - loss: 0.2609 - accuracy: 0.8438\n",
      "Epoch 122: val_loss did not improve from 0.59855\n",
      "14/14 [==============================] - 0s 6ms/step - loss: 0.1841 - accuracy: 0.9196 - val_loss: 1.0537 - val_accuracy: 0.6549\n",
      "Epoch 123/150\n",
      " 1/14 [=>............................] - ETA: 0s - loss: 0.1417 - accuracy: 0.9375\n",
      "Epoch 123: val_loss did not improve from 0.59855\n",
      "14/14 [==============================] - 0s 6ms/step - loss: 0.1518 - accuracy: 0.9397 - val_loss: 1.0042 - val_accuracy: 0.6549\n",
      "Epoch 124/150\n",
      "14/14 [==============================] - ETA: 0s - loss: 0.1509 - accuracy: 0.9442\n",
      "Epoch 124: val_loss did not improve from 0.59855\n",
      "14/14 [==============================] - 0s 7ms/step - loss: 0.1509 - accuracy: 0.9442 - val_loss: 1.0432 - val_accuracy: 0.6549\n",
      "Epoch 125/150\n",
      " 1/14 [=>............................] - ETA: 0s - loss: 0.1969 - accuracy: 0.9062\n",
      "Epoch 125: val_loss did not improve from 0.59855\n",
      "14/14 [==============================] - 0s 7ms/step - loss: 0.1800 - accuracy: 0.9375 - val_loss: 1.1375 - val_accuracy: 0.6283\n",
      "Epoch 126/150\n",
      "13/14 [==========================>...] - ETA: 0s - loss: 0.1651 - accuracy: 0.9231\n",
      "Epoch 126: val_loss did not improve from 0.59855\n",
      "14/14 [==============================] - 0s 7ms/step - loss: 0.1683 - accuracy: 0.9263 - val_loss: 1.1694 - val_accuracy: 0.6372\n",
      "Epoch 127/150\n",
      " 1/14 [=>............................] - ETA: 0s - loss: 0.1821 - accuracy: 0.9062\n",
      "Epoch 127: val_loss did not improve from 0.59855\n",
      "14/14 [==============================] - 0s 6ms/step - loss: 0.2238 - accuracy: 0.9152 - val_loss: 1.1481 - val_accuracy: 0.6283\n",
      "Epoch 128/150\n",
      " 1/14 [=>............................] - ETA: 0s - loss: 0.1773 - accuracy: 0.9375\n",
      "Epoch 128: val_loss did not improve from 0.59855\n",
      "14/14 [==============================] - 0s 7ms/step - loss: 0.2003 - accuracy: 0.9152 - val_loss: 1.0280 - val_accuracy: 0.6549\n",
      "Epoch 129/150\n",
      " 1/14 [=>............................] - ETA: 0s - loss: 0.1972 - accuracy: 0.9062\n",
      "Epoch 129: val_loss did not improve from 0.59855\n",
      "14/14 [==============================] - 0s 6ms/step - loss: 0.1824 - accuracy: 0.9263 - val_loss: 1.0836 - val_accuracy: 0.6283\n",
      "Epoch 130/150\n",
      " 1/14 [=>............................] - ETA: 0s - loss: 0.3188 - accuracy: 0.9062\n",
      "Epoch 130: val_loss did not improve from 0.59855\n",
      "14/14 [==============================] - 0s 6ms/step - loss: 0.1659 - accuracy: 0.9330 - val_loss: 1.1268 - val_accuracy: 0.6549\n",
      "Epoch 131/150\n",
      " 1/14 [=>............................] - ETA: 0s - loss: 0.1543 - accuracy: 0.9375\n",
      "Epoch 131: val_loss did not improve from 0.59855\n",
      "14/14 [==============================] - 0s 6ms/step - loss: 0.1704 - accuracy: 0.9174 - val_loss: 1.1511 - val_accuracy: 0.6726\n",
      "Epoch 132/150\n",
      "13/14 [==========================>...] - ETA: 0s - loss: 0.1571 - accuracy: 0.9327\n",
      "Epoch 132: val_loss did not improve from 0.59855\n",
      "14/14 [==============================] - 0s 8ms/step - loss: 0.1633 - accuracy: 0.9330 - val_loss: 1.1274 - val_accuracy: 0.6814\n",
      "Epoch 133/150\n",
      " 1/14 [=>............................] - ETA: 0s - loss: 0.0420 - accuracy: 1.0000\n",
      "Epoch 133: val_loss did not improve from 0.59855\n",
      "14/14 [==============================] - 0s 6ms/step - loss: 0.1627 - accuracy: 0.9420 - val_loss: 1.0514 - val_accuracy: 0.6460\n",
      "Epoch 134/150\n",
      " 1/14 [=>............................] - ETA: 0s - loss: 0.1859 - accuracy: 0.8750\n",
      "Epoch 134: val_loss did not improve from 0.59855\n",
      "14/14 [==============================] - 0s 7ms/step - loss: 0.1656 - accuracy: 0.9196 - val_loss: 1.1030 - val_accuracy: 0.6372\n",
      "Epoch 135/150\n",
      "13/14 [==========================>...] - ETA: 0s - loss: 0.1803 - accuracy: 0.9255\n",
      "Epoch 135: val_loss did not improve from 0.59855\n",
      "14/14 [==============================] - 0s 8ms/step - loss: 0.1704 - accuracy: 0.9308 - val_loss: 1.1212 - val_accuracy: 0.6726\n",
      "Epoch 136/150\n",
      "13/14 [==========================>...] - ETA: 0s - loss: 0.1337 - accuracy: 0.9567\n",
      "Epoch 136: val_loss did not improve from 0.59855\n",
      "14/14 [==============================] - 0s 7ms/step - loss: 0.1379 - accuracy: 0.9531 - val_loss: 1.1204 - val_accuracy: 0.6726\n",
      "Epoch 137/150\n",
      " 1/14 [=>............................] - ETA: 0s - loss: 0.0517 - accuracy: 1.0000\n",
      "Epoch 137: val_loss did not improve from 0.59855\n",
      "14/14 [==============================] - 0s 6ms/step - loss: 0.1203 - accuracy: 0.9464 - val_loss: 1.2103 - val_accuracy: 0.6637\n",
      "Epoch 138/150\n",
      "14/14 [==============================] - ETA: 0s - loss: 0.1045 - accuracy: 0.9531\n",
      "Epoch 138: val_loss did not improve from 0.59855\n",
      "14/14 [==============================] - 0s 7ms/step - loss: 0.1045 - accuracy: 0.9531 - val_loss: 1.2254 - val_accuracy: 0.6726\n",
      "Epoch 139/150\n",
      " 6/14 [===========>..................] - ETA: 0s - loss: 0.1274 - accuracy: 0.9427\n",
      "Epoch 139: val_loss did not improve from 0.59855\n",
      "14/14 [==============================] - 0s 10ms/step - loss: 0.1125 - accuracy: 0.9487 - val_loss: 1.2914 - val_accuracy: 0.6549\n",
      "Epoch 140/150\n",
      "14/14 [==============================] - ETA: 0s - loss: 0.1217 - accuracy: 0.9576\n",
      "Epoch 140: val_loss did not improve from 0.59855\n",
      "14/14 [==============================] - 0s 7ms/step - loss: 0.1217 - accuracy: 0.9576 - val_loss: 1.2547 - val_accuracy: 0.6372\n",
      "Epoch 141/150\n",
      " 1/14 [=>............................] - ETA: 0s - loss: 0.1371 - accuracy: 0.9688\n",
      "Epoch 141: val_loss did not improve from 0.59855\n",
      "14/14 [==============================] - 0s 6ms/step - loss: 0.1209 - accuracy: 0.9531 - val_loss: 1.3154 - val_accuracy: 0.6814\n",
      "Epoch 142/150\n",
      "14/14 [==============================] - ETA: 0s - loss: 0.1154 - accuracy: 0.9598\n",
      "Epoch 142: val_loss did not improve from 0.59855\n",
      "14/14 [==============================] - 0s 7ms/step - loss: 0.1154 - accuracy: 0.9598 - val_loss: 1.3286 - val_accuracy: 0.6726\n",
      "Epoch 143/150\n",
      " 1/14 [=>............................] - ETA: 0s - loss: 0.1462 - accuracy: 0.8750\n",
      "Epoch 143: val_loss did not improve from 0.59855\n",
      "14/14 [==============================] - 0s 7ms/step - loss: 0.1617 - accuracy: 0.9375 - val_loss: 1.3148 - val_accuracy: 0.6637\n",
      "Epoch 144/150\n",
      "14/14 [==============================] - ETA: 0s - loss: 0.1279 - accuracy: 0.9464\n",
      "Epoch 144: val_loss did not improve from 0.59855\n",
      "14/14 [==============================] - 0s 7ms/step - loss: 0.1279 - accuracy: 0.9464 - val_loss: 1.4005 - val_accuracy: 0.6726\n",
      "Epoch 145/150\n",
      " 1/14 [=>............................] - ETA: 0s - loss: 0.1607 - accuracy: 0.9688\n",
      "Epoch 145: val_loss did not improve from 0.59855\n",
      "14/14 [==============================] - 0s 6ms/step - loss: 0.1721 - accuracy: 0.9308 - val_loss: 1.4006 - val_accuracy: 0.6991\n",
      "Epoch 146/150\n",
      " 1/14 [=>............................] - ETA: 0s - loss: 0.1557 - accuracy: 0.9688\n",
      "Epoch 146: val_loss did not improve from 0.59855\n",
      "14/14 [==============================] - 0s 6ms/step - loss: 0.2474 - accuracy: 0.9085 - val_loss: 1.0766 - val_accuracy: 0.6814\n",
      "Epoch 147/150\n",
      " 1/14 [=>............................] - ETA: 0s - loss: 0.2727 - accuracy: 0.8750\n",
      "Epoch 147: val_loss did not improve from 0.59855\n",
      "14/14 [==============================] - 0s 7ms/step - loss: 0.1708 - accuracy: 0.9375 - val_loss: 1.1790 - val_accuracy: 0.6726\n",
      "Epoch 148/150\n",
      " 1/14 [=>............................] - ETA: 0s - loss: 0.1147 - accuracy: 0.9688\n",
      "Epoch 148: val_loss did not improve from 0.59855\n",
      "14/14 [==============================] - 0s 6ms/step - loss: 0.1259 - accuracy: 0.9576 - val_loss: 1.2137 - val_accuracy: 0.6726\n",
      "Epoch 149/150\n",
      " 1/14 [=>............................] - ETA: 0s - loss: 0.0970 - accuracy: 0.9375\n",
      "Epoch 149: val_loss did not improve from 0.59855\n",
      "14/14 [==============================] - 0s 7ms/step - loss: 0.1319 - accuracy: 0.9442 - val_loss: 1.2407 - val_accuracy: 0.6637\n",
      "Epoch 150/150\n",
      " 1/14 [=>............................] - ETA: 0s - loss: 0.1373 - accuracy: 0.9375\n",
      "Epoch 150: val_loss did not improve from 0.59855\n",
      "14/14 [==============================] - 0s 6ms/step - loss: 0.1130 - accuracy: 0.9487 - val_loss: 1.4141 - val_accuracy: 0.6814\n",
      "Training completed in time:  0:00:16.875233\n"
     ]
    }
   ],
   "source": [
    "## Training my model\n",
    "from tensorflow.keras.callbacks import ModelCheckpoint\n",
    "from datetime import datetime\n",
    "\n",
    "num_epochs=150\n",
    "num_batch_size=32\n",
    "\n",
    "checkpointer=ModelCheckpoint(filepath='/audio_classification.hdf5', verbose=1, save_best_only=True)\n",
    "start=datetime.now()\n",
    "\n",
    "model.fit(x_train,y_train, batch_size=num_batch_size, epochs=num_epochs, validation_data=(x_test,y_test), callbacks=[checkpointer])\n",
    "duration=datetime.now()-start\n",
    "\n",
    "print(\"Training completed in time: \",duration)"
   ]
  },
  {
   "cell_type": "code",
   "execution_count": 33,
   "id": "dcc371d8",
   "metadata": {},
   "outputs": [
    {
     "name": "stdout",
     "output_type": "stream",
     "text": [
      "0.6814159154891968\n"
     ]
    }
   ],
   "source": [
    "test_accuracy=model.evaluate(x_test,y_test,verbose=0)\n",
    "print(test_accuracy[1])"
   ]
  },
  {
   "cell_type": "code",
   "execution_count": 34,
   "id": "a365e205",
   "metadata": {},
   "outputs": [
    {
     "name": "stdout",
     "output_type": "stream",
     "text": [
      "4/4 [==============================] - 0s 3ms/step\n"
     ]
    }
   ],
   "source": [
    "y_pred = model.predict(x_test)"
   ]
  },
  {
   "cell_type": "code",
   "execution_count": 35,
   "id": "48944a6f",
   "metadata": {},
   "outputs": [
    {
     "data": {
      "text/plain": [
       "array([[7.66414881e-01, 2.33585119e-01],\n",
       "       [2.44138297e-04, 9.99755919e-01],\n",
       "       [8.16501852e-05, 9.99918342e-01],\n",
       "       [9.90994751e-01, 9.00530629e-03],\n",
       "       [9.96549964e-01, 3.44999041e-03],\n",
       "       [7.47256935e-01, 2.52743006e-01],\n",
       "       [6.42623831e-07, 9.99999404e-01],\n",
       "       [9.62184489e-01, 3.78155373e-02],\n",
       "       [9.99999523e-01, 4.46736721e-07],\n",
       "       [1.00000000e+00, 2.19152803e-08],\n",
       "       [9.46994603e-01, 5.30054420e-02],\n",
       "       [5.82773425e-03, 9.94172275e-01],\n",
       "       [1.63138136e-02, 9.83686149e-01],\n",
       "       [9.98792648e-01, 1.20732212e-03],\n",
       "       [2.04502430e-04, 9.99795496e-01],\n",
       "       [9.99999881e-01, 1.21730139e-07],\n",
       "       [2.10654318e-01, 7.89345682e-01],\n",
       "       [9.99713957e-01, 2.86065915e-04],\n",
       "       [9.99975324e-01, 2.46846939e-05],\n",
       "       [9.99861479e-01, 1.38469011e-04],\n",
       "       [2.95281779e-07, 9.99999762e-01],\n",
       "       [9.80574489e-01, 1.94254462e-02],\n",
       "       [2.71078795e-01, 7.28921175e-01],\n",
       "       [7.09911510e-02, 9.29008842e-01],\n",
       "       [3.92623633e-01, 6.07376397e-01],\n",
       "       [3.00329745e-01, 6.99670196e-01],\n",
       "       [4.09488566e-03, 9.95905042e-01],\n",
       "       [3.75391215e-01, 6.24608755e-01],\n",
       "       [4.55221161e-05, 9.99954462e-01],\n",
       "       [2.69486550e-02, 9.73051429e-01],\n",
       "       [9.72567976e-01, 2.74319779e-02],\n",
       "       [8.80443335e-01, 1.19556651e-01],\n",
       "       [9.84426677e-01, 1.55733293e-02],\n",
       "       [5.78072900e-03, 9.94219303e-01],\n",
       "       [3.11348975e-01, 6.88651025e-01],\n",
       "       [8.83351207e-01, 1.16648771e-01],\n",
       "       [1.89179957e-13, 1.00000000e+00],\n",
       "       [1.69028878e-01, 8.30971122e-01],\n",
       "       [5.18270885e-04, 9.99481738e-01],\n",
       "       [6.84682334e-07, 9.99999285e-01],\n",
       "       [9.82482910e-01, 1.75171234e-02],\n",
       "       [7.35032326e-03, 9.92649615e-01],\n",
       "       [9.23880219e-01, 7.61197358e-02],\n",
       "       [9.88208473e-01, 1.17915031e-02],\n",
       "       [1.99659485e-02, 9.80033994e-01],\n",
       "       [9.92035806e-01, 7.96421710e-03],\n",
       "       [4.80779272e-05, 9.99951959e-01],\n",
       "       [3.46405341e-06, 9.99996543e-01],\n",
       "       [9.82364595e-01, 1.76354237e-02],\n",
       "       [7.74816930e-01, 2.25183144e-01],\n",
       "       [4.34403345e-02, 9.56559598e-01],\n",
       "       [1.69619024e-01, 8.30380976e-01],\n",
       "       [8.07060860e-04, 9.99192894e-01],\n",
       "       [4.91405576e-01, 5.08594453e-01],\n",
       "       [1.09176636e-01, 8.90823305e-01],\n",
       "       [7.50579536e-01, 2.49420464e-01],\n",
       "       [2.47148710e-04, 9.99752820e-01],\n",
       "       [5.74827790e-01, 4.25172180e-01],\n",
       "       [2.49064341e-02, 9.75093544e-01],\n",
       "       [9.46246207e-01, 5.37537709e-02],\n",
       "       [4.82886195e-01, 5.17113805e-01],\n",
       "       [9.99909401e-01, 9.06475398e-05],\n",
       "       [9.97480929e-01, 2.51904968e-03],\n",
       "       [1.27672568e-01, 8.72327447e-01],\n",
       "       [9.99727786e-01, 2.72245990e-04],\n",
       "       [9.21904564e-01, 7.80954286e-02],\n",
       "       [9.97413874e-01, 2.58608675e-03],\n",
       "       [4.87332463e-01, 5.12667537e-01],\n",
       "       [9.38349485e-01, 6.16505332e-02],\n",
       "       [3.10727835e-01, 6.89272106e-01],\n",
       "       [3.48722003e-02, 9.65127766e-01],\n",
       "       [8.30954611e-01, 1.69045448e-01],\n",
       "       [5.95904179e-02, 9.40409601e-01],\n",
       "       [9.37182903e-01, 6.28170520e-02],\n",
       "       [6.17359996e-01, 3.82640004e-01],\n",
       "       [2.19256639e-01, 7.80743361e-01],\n",
       "       [6.66377008e-01, 3.33623081e-01],\n",
       "       [1.47886516e-03, 9.98521149e-01],\n",
       "       [9.39218044e-01, 6.07819483e-02],\n",
       "       [7.66263306e-01, 2.33736619e-01],\n",
       "       [3.77669781e-02, 9.62233007e-01],\n",
       "       [2.26059571e-01, 7.73940444e-01],\n",
       "       [9.99996305e-01, 3.67468988e-06],\n",
       "       [9.99996305e-01, 3.70125827e-06],\n",
       "       [9.34986055e-01, 6.50139526e-02],\n",
       "       [9.99123275e-01, 8.76765058e-04],\n",
       "       [3.16227926e-03, 9.96837735e-01],\n",
       "       [3.56222416e-04, 9.99643803e-01],\n",
       "       [9.88196790e-01, 1.18031548e-02],\n",
       "       [9.98034060e-01, 1.96588854e-03],\n",
       "       [7.43695199e-01, 2.56304771e-01],\n",
       "       [1.96351788e-08, 1.00000000e+00],\n",
       "       [9.99999881e-01, 6.30306189e-08],\n",
       "       [2.74544116e-03, 9.97254550e-01],\n",
       "       [9.42350388e-01, 5.76495938e-02],\n",
       "       [4.89187315e-02, 9.51081276e-01],\n",
       "       [9.24473405e-01, 7.55266249e-02],\n",
       "       [1.87203474e-02, 9.81279612e-01],\n",
       "       [2.24433735e-01, 7.75566220e-01],\n",
       "       [3.09474409e-01, 6.90525591e-01],\n",
       "       [9.99595582e-01, 4.04473045e-04],\n",
       "       [8.54986906e-02, 9.14501309e-01],\n",
       "       [7.53641416e-08, 9.99999881e-01],\n",
       "       [5.85757077e-01, 4.14242953e-01],\n",
       "       [9.57200766e-01, 4.27991748e-02],\n",
       "       [9.99559581e-01, 4.40404285e-04],\n",
       "       [4.21311506e-06, 9.99995828e-01],\n",
       "       [6.93617702e-01, 3.06382328e-01],\n",
       "       [6.65815413e-01, 3.34184557e-01],\n",
       "       [9.94376063e-01, 5.62399533e-03],\n",
       "       [9.99710143e-01, 2.89874384e-04],\n",
       "       [2.46640574e-02, 9.75335956e-01],\n",
       "       [9.99997616e-01, 2.35065636e-06]], dtype=float32)"
      ]
     },
     "execution_count": 35,
     "metadata": {},
     "output_type": "execute_result"
    }
   ],
   "source": [
    "y_pred"
   ]
  },
  {
   "cell_type": "code",
   "execution_count": 36,
   "id": "b239d614",
   "metadata": {},
   "outputs": [
    {
     "data": {
      "text/plain": [
       "array([[ True, False],\n",
       "       [False,  True],\n",
       "       [False,  True],\n",
       "       [ True, False],\n",
       "       [ True, False],\n",
       "       [ True, False],\n",
       "       [False,  True],\n",
       "       [ True, False],\n",
       "       [ True, False],\n",
       "       [ True, False],\n",
       "       [ True, False],\n",
       "       [ True, False],\n",
       "       [False,  True],\n",
       "       [False,  True],\n",
       "       [False,  True],\n",
       "       [ True, False],\n",
       "       [False,  True],\n",
       "       [ True, False],\n",
       "       [ True, False],\n",
       "       [ True, False],\n",
       "       [False,  True],\n",
       "       [ True, False],\n",
       "       [False,  True],\n",
       "       [False,  True],\n",
       "       [False,  True],\n",
       "       [False,  True],\n",
       "       [ True, False],\n",
       "       [False,  True],\n",
       "       [False,  True],\n",
       "       [False,  True],\n",
       "       [ True, False],\n",
       "       [ True, False],\n",
       "       [ True, False],\n",
       "       [False,  True],\n",
       "       [False,  True],\n",
       "       [False,  True],\n",
       "       [False,  True],\n",
       "       [False,  True],\n",
       "       [False,  True],\n",
       "       [False,  True],\n",
       "       [False,  True],\n",
       "       [ True, False],\n",
       "       [False,  True],\n",
       "       [False,  True],\n",
       "       [False,  True],\n",
       "       [False,  True],\n",
       "       [False,  True],\n",
       "       [False,  True],\n",
       "       [False,  True],\n",
       "       [ True, False],\n",
       "       [ True, False],\n",
       "       [False,  True],\n",
       "       [False,  True],\n",
       "       [False,  True],\n",
       "       [ True, False],\n",
       "       [False,  True],\n",
       "       [False,  True],\n",
       "       [ True, False],\n",
       "       [False,  True],\n",
       "       [ True, False],\n",
       "       [False,  True],\n",
       "       [False,  True],\n",
       "       [False,  True],\n",
       "       [False,  True],\n",
       "       [ True, False],\n",
       "       [ True, False],\n",
       "       [ True, False],\n",
       "       [ True, False],\n",
       "       [ True, False],\n",
       "       [ True, False],\n",
       "       [False,  True],\n",
       "       [ True, False],\n",
       "       [False,  True],\n",
       "       [False,  True],\n",
       "       [False,  True],\n",
       "       [False,  True],\n",
       "       [False,  True],\n",
       "       [ True, False],\n",
       "       [False,  True],\n",
       "       [False,  True],\n",
       "       [ True, False],\n",
       "       [ True, False],\n",
       "       [ True, False],\n",
       "       [ True, False],\n",
       "       [ True, False],\n",
       "       [ True, False],\n",
       "       [False,  True],\n",
       "       [False,  True],\n",
       "       [ True, False],\n",
       "       [ True, False],\n",
       "       [ True, False],\n",
       "       [False,  True],\n",
       "       [ True, False],\n",
       "       [ True, False],\n",
       "       [ True, False],\n",
       "       [ True, False],\n",
       "       [ True, False],\n",
       "       [ True, False],\n",
       "       [False,  True],\n",
       "       [False,  True],\n",
       "       [False,  True],\n",
       "       [ True, False],\n",
       "       [ True, False],\n",
       "       [False,  True],\n",
       "       [False,  True],\n",
       "       [ True, False],\n",
       "       [False,  True],\n",
       "       [False,  True],\n",
       "       [ True, False],\n",
       "       [False,  True],\n",
       "       [ True, False],\n",
       "       [False,  True],\n",
       "       [False,  True]])"
      ]
     },
     "execution_count": 36,
     "metadata": {},
     "output_type": "execute_result"
    }
   ],
   "source": [
    "y_test.values"
   ]
  },
  {
   "cell_type": "code",
   "execution_count": 49,
   "id": "d14d743f",
   "metadata": {},
   "outputs": [
    {
     "name": "stdout",
     "output_type": "stream",
     "text": [
      "4/4 [==============================] - 0s 7ms/step\n"
     ]
    },
    {
     "data": {
      "image/png": "[encoded data removed]",
      "text/plain": [
       "<Figure size 640x480 with 2 Axes>"
      ]
     },
     "metadata": {},
     "output_type": "display_data"
    }
   ],
   "source": [
    "from sklearn.metrics import confusion_matrix\n",
    "import seaborn as sns\n",
    "\n",
    "# Get predictions\n",
    "y_pred = model.predict(x_test)\n",
    "y_pred_classes = np.argmax(y_pred, axis=1)\n",
    "\n",
    "#compute confusion matrix\n",
    "conf_matrix = confusion_matrix(np.argmax(y_test, axis=1), y_pred_classes)\n",
    "\n",
    "#Plot confusion matrix\n",
    "sns.heatmap( conf_matrix, annot=True, fmt='d', cmap= 'Blues')\n",
    "plt.xlabel('Prediction')\n",
    "plt.ylabel('True')\n",
    "plt.title('Confusion Matrix')\n",
    "plt.show()"
   ]
  },
  {
   "cell_type": "markdown",
   "id": "25d00d66",
   "metadata": {},
   "source": [
    "## Model Evaluation"
   ]
  },
  {
   "cell_type": "code",
   "execution_count": 43,
   "id": "6a87feeb",
   "metadata": {},
   "outputs": [],
   "source": [
    "filename = 'Male_Female_Healthy_Dataset/1004-a_n.wav'"
   ]
  },
  {
   "cell_type": "code",
   "execution_count": 44,
   "id": "334d7154",
   "metadata": {},
   "outputs": [],
   "source": [
    "feature_df = pd.DataFrame(features_extraction(filename)).transpose()"
   ]
  },
  {
   "cell_type": "code",
   "execution_count": 45,
   "id": "fe4b49fa",
   "metadata": {},
   "outputs": [
    {
     "data": {
      "text/html": [
       "<div>\n",
       "<style scoped>\n",
       "    .dataframe tbody tr th:only-of-type {\n",
       "        vertical-align: middle;\n",
       "    }\n",
       "\n",
       "    .dataframe tbody tr th {\n",
       "        vertical-align: top;\n",
       "    }\n",
       "\n",
       "    .dataframe thead th {\n",
       "        text-align: right;\n",
       "    }\n",
       "</style>\n",
       "<table border=\"1\" class=\"dataframe\">\n",
       "  <thead>\n",
       "    <tr style=\"text-align: right;\">\n",
       "      <th></th>\n",
       "      <th>0</th>\n",
       "      <th>1</th>\n",
       "      <th>2</th>\n",
       "      <th>3</th>\n",
       "      <th>4</th>\n",
       "      <th>5</th>\n",
       "      <th>6</th>\n",
       "      <th>7</th>\n",
       "      <th>8</th>\n",
       "      <th>9</th>\n",
       "      <th>...</th>\n",
       "      <th>70</th>\n",
       "      <th>71</th>\n",
       "      <th>72</th>\n",
       "      <th>73</th>\n",
       "      <th>74</th>\n",
       "      <th>75</th>\n",
       "      <th>76</th>\n",
       "      <th>77</th>\n",
       "      <th>78</th>\n",
       "      <th>79</th>\n",
       "    </tr>\n",
       "  </thead>\n",
       "  <tbody>\n",
       "    <tr>\n",
       "      <th>0</th>\n",
       "      <td>-149.225266</td>\n",
       "      <td>174.276077</td>\n",
       "      <td>-18.307064</td>\n",
       "      <td>10.403212</td>\n",
       "      <td>-66.140961</td>\n",
       "      <td>-11.231764</td>\n",
       "      <td>-8.218404</td>\n",
       "      <td>-4.863341</td>\n",
       "      <td>-25.08256</td>\n",
       "      <td>-1.205913</td>\n",
       "      <td>...</td>\n",
       "      <td>0.736559</td>\n",
       "      <td>-0.999705</td>\n",
       "      <td>-1.608087</td>\n",
       "      <td>-2.276558</td>\n",
       "      <td>0.696951</td>\n",
       "      <td>-0.647705</td>\n",
       "      <td>0.926778</td>\n",
       "      <td>-2.020046</td>\n",
       "      <td>-1.749156</td>\n",
       "      <td>-0.680004</td>\n",
       "    </tr>\n",
       "  </tbody>\n",
       "</table>\n",
       "<p>1 rows × 80 columns</p>\n",
       "</div>"
      ],
      "text/plain": [
       "           0           1          2          3          4          5   \\\n",
       "0 -149.225266  174.276077 -18.307064  10.403212 -66.140961 -11.231764   \n",
       "\n",
       "         6         7         8         9   ...        70        71        72  \\\n",
       "0 -8.218404 -4.863341 -25.08256 -1.205913  ...  0.736559 -0.999705 -1.608087   \n",
       "\n",
       "         73        74        75        76        77        78        79  \n",
       "0 -2.276558  0.696951 -0.647705  0.926778 -2.020046 -1.749156 -0.680004  \n",
       "\n",
       "[1 rows x 80 columns]"
      ]
     },
     "execution_count": 45,
     "metadata": {},
     "output_type": "execute_result"
    }
   ],
   "source": [
    "feature_df"
   ]
  },
  {
   "cell_type": "code",
   "execution_count": 46,
   "id": "e7cc1950",
   "metadata": {},
   "outputs": [],
   "source": [
    "features = np.array(feature_df.values.tolist())"
   ]
  },
  {
   "cell_type": "code",
   "execution_count": 47,
   "id": "e27f65b2",
   "metadata": {
    "scrolled": true
   },
   "outputs": [
    {
     "data": {
      "text/plain": [
       "(1, 80)"
      ]
     },
     "execution_count": 47,
     "metadata": {},
     "output_type": "execute_result"
    }
   ],
   "source": [
    "features.shape"
   ]
  },
  {
   "cell_type": "code",
   "execution_count": 48,
   "id": "516b73f2",
   "metadata": {},
   "outputs": [
    {
     "name": "stdout",
     "output_type": "stream",
     "text": [
      "1/1 [==============================] - 0s 29ms/step\n"
     ]
    },
    {
     "data": {
      "text/plain": [
       "array([[1.7233279e-04, 9.9982762e-01]], dtype=float32)"
      ]
     },
     "execution_count": 48,
     "metadata": {},
     "output_type": "execute_result"
    }
   ],
   "source": [
    "model.predict(features)"
   ]
  }
 ],
 "metadata": {
  "kernelspec": {
   "display_name": "Python 3 (ipykernel)",
   "language": "python",
   "name": "python3"
  },
  "language_info": {
   "codemirror_mode": {
    "name": "ipython",
    "version": 3
   },
   "file_extension": ".py",
   "mimetype": "text/x-python",
   "name": "python",
   "nbconvert_exporter": "python",
   "pygments_lexer": "ipython3",
   "version": "3.8.13"
  }
 },
 "nbformat": 4,
 "nbformat_minor": 5
}

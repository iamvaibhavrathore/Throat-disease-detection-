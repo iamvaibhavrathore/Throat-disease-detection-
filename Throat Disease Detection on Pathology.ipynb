{
 "cells": [
  {
   "cell_type": "code",
   "execution_count": 1,
   "id": "b66bf280",
   "metadata": {},
   "outputs": [],
   "source": [
    "import os\n",
    "import librosa\n",
    "import pandas as pd\n",
    "import numpy as np\n",
    "import matplotlib.pyplot as plt\n",
    "import seaborn as sns\n",
    "%matplotlib inline"
   ]
  },
  {
   "cell_type": "code",
   "execution_count": 2,
   "id": "de3e2d79",
   "metadata": {},
   "outputs": [],
   "source": [
    "import librosa.display\n",
    "import IPython.display as ipd"
   ]
  },
  {
   "cell_type": "markdown",
   "id": "7ad22bf2",
   "metadata": {},
   "source": [
    "## Reading Dataset"
   ]
  },
  {
   "cell_type": "code",
   "execution_count": 3,
   "id": "3758ffdb",
   "metadata": {
    "scrolled": true
   },
   "outputs": [
    {
     "data": {
      "text/html": [
       "<div>\n",
       "<style scoped>\n",
       "    .dataframe tbody tr th:only-of-type {\n",
       "        vertical-align: middle;\n",
       "    }\n",
       "\n",
       "    .dataframe tbody tr th {\n",
       "        vertical-align: top;\n",
       "    }\n",
       "\n",
       "    .dataframe thead th {\n",
       "        text-align: right;\n",
       "    }\n",
       "</style>\n",
       "<table border=\"1\" class=\"dataframe\">\n",
       "  <thead>\n",
       "    <tr style=\"text-align: right;\">\n",
       "      <th></th>\n",
       "      <th>Recording Id</th>\n",
       "      <th>Type</th>\n",
       "      <th>Gender</th>\n",
       "      <th>Age</th>\n",
       "      <th>Diagnosis Notes</th>\n",
       "      <th>Pathology</th>\n",
       "      <th>Audio</th>\n",
       "    </tr>\n",
       "  </thead>\n",
       "  <tbody>\n",
       "    <tr>\n",
       "      <th>0</th>\n",
       "      <td>1</td>\n",
       "      <td>n</td>\n",
       "      <td>w</td>\n",
       "      <td>20</td>\n",
       "      <td>Normal</td>\n",
       "      <td>Normal</td>\n",
       "      <td>1-a_n.wav</td>\n",
       "    </tr>\n",
       "    <tr>\n",
       "      <th>1</th>\n",
       "      <td>2</td>\n",
       "      <td>n</td>\n",
       "      <td>w</td>\n",
       "      <td>22</td>\n",
       "      <td>Normal</td>\n",
       "      <td>Normal</td>\n",
       "      <td>2-a_n.wav</td>\n",
       "    </tr>\n",
       "    <tr>\n",
       "      <th>2</th>\n",
       "      <td>3</td>\n",
       "      <td>n</td>\n",
       "      <td>w</td>\n",
       "      <td>23</td>\n",
       "      <td>Normal</td>\n",
       "      <td>Normal</td>\n",
       "      <td>3-a_n.wav</td>\n",
       "    </tr>\n",
       "    <tr>\n",
       "      <th>3</th>\n",
       "      <td>4</td>\n",
       "      <td>n</td>\n",
       "      <td>m</td>\n",
       "      <td>22</td>\n",
       "      <td>Normal</td>\n",
       "      <td>Normal</td>\n",
       "      <td>4-a_n.wav</td>\n",
       "    </tr>\n",
       "    <tr>\n",
       "      <th>4</th>\n",
       "      <td>5</td>\n",
       "      <td>n</td>\n",
       "      <td>m</td>\n",
       "      <td>22</td>\n",
       "      <td>Normal</td>\n",
       "      <td>Normal</td>\n",
       "      <td>5-a_n.wav</td>\n",
       "    </tr>\n",
       "    <tr>\n",
       "      <th>5</th>\n",
       "      <td>6</td>\n",
       "      <td>n</td>\n",
       "      <td>w</td>\n",
       "      <td>20</td>\n",
       "      <td>Normal</td>\n",
       "      <td>Normal</td>\n",
       "      <td>6-a_n.wav</td>\n",
       "    </tr>\n",
       "    <tr>\n",
       "      <th>6</th>\n",
       "      <td>7</td>\n",
       "      <td>n</td>\n",
       "      <td>w</td>\n",
       "      <td>19</td>\n",
       "      <td>Normal</td>\n",
       "      <td>Normal</td>\n",
       "      <td>7-a_n.wav</td>\n",
       "    </tr>\n",
       "    <tr>\n",
       "      <th>7</th>\n",
       "      <td>27</td>\n",
       "      <td>n</td>\n",
       "      <td>w</td>\n",
       "      <td>20</td>\n",
       "      <td>Normal</td>\n",
       "      <td>Normal</td>\n",
       "      <td>27-a_n.wav</td>\n",
       "    </tr>\n",
       "    <tr>\n",
       "      <th>8</th>\n",
       "      <td>17</td>\n",
       "      <td>n</td>\n",
       "      <td>w</td>\n",
       "      <td>19</td>\n",
       "      <td>Normal</td>\n",
       "      <td>Normal</td>\n",
       "      <td>17-a_n.wav</td>\n",
       "    </tr>\n",
       "    <tr>\n",
       "      <th>9</th>\n",
       "      <td>8</td>\n",
       "      <td>n</td>\n",
       "      <td>w</td>\n",
       "      <td>19</td>\n",
       "      <td>Normal</td>\n",
       "      <td>Normal</td>\n",
       "      <td>8-a_n.wav</td>\n",
       "    </tr>\n",
       "  </tbody>\n",
       "</table>\n",
       "</div>"
      ],
      "text/plain": [
       "   Recording Id Type Gender  Age Diagnosis Notes Pathology       Audio\n",
       "0             1    n      w   20          Normal    Normal   1-a_n.wav\n",
       "1             2    n      w   22          Normal    Normal   2-a_n.wav\n",
       "2             3    n      w   23          Normal    Normal   3-a_n.wav\n",
       "3             4    n      m   22          Normal    Normal   4-a_n.wav\n",
       "4             5    n      m   22          Normal    Normal   5-a_n.wav\n",
       "5             6    n      w   20          Normal    Normal   6-a_n.wav\n",
       "6             7    n      w   19          Normal    Normal   7-a_n.wav\n",
       "7            27    n      w   20          Normal    Normal  27-a_n.wav\n",
       "8            17    n      w   19          Normal    Normal  17-a_n.wav\n",
       "9             8    n      w   19          Normal    Normal   8-a_n.wav"
      ]
     },
     "execution_count": 3,
     "metadata": {},
     "output_type": "execute_result"
    }
   ],
   "source": [
    "import pandas as pd\n",
    "df1=pd.read_excel('Healthy_data.xlsx')\n",
    "df2=pd.read_excel('Pathological_data.xlsx')\n",
    "df=pd.concat([df1,df2], ignore_index=True)\n",
    "df.head(10)"
   ]
  },
  {
   "cell_type": "code",
   "execution_count": 4,
   "id": "df5fe054",
   "metadata": {},
   "outputs": [
    {
     "data": {
      "text/plain": [
       "(1490, 7)"
      ]
     },
     "execution_count": 4,
     "metadata": {},
     "output_type": "execute_result"
    }
   ],
   "source": [
    "df.shape"
   ]
  },
  {
   "cell_type": "code",
   "execution_count": 5,
   "id": "76cfc7ef",
   "metadata": {},
   "outputs": [
    {
     "name": "stdout",
     "output_type": "stream",
     "text": [
      "<class 'pandas.core.frame.DataFrame'>\n",
      "RangeIndex: 1490 entries, 0 to 1489\n",
      "Data columns (total 7 columns):\n",
      " #   Column           Non-Null Count  Dtype \n",
      "---  ------           --------------  ----- \n",
      " 0   Recording Id     1490 non-null   int64 \n",
      " 1   Type             1490 non-null   object\n",
      " 2   Gender           1490 non-null   object\n",
      " 3   Age              1490 non-null   int64 \n",
      " 4   Diagnosis Notes  1400 non-null   object\n",
      " 5   Pathology        1490 non-null   object\n",
      " 6   Audio            1490 non-null   object\n",
      "dtypes: int64(2), object(5)\n",
      "memory usage: 81.6+ KB\n"
     ]
    }
   ],
   "source": [
    "df.info()"
   ]
  },
  {
   "cell_type": "code",
   "execution_count": 6,
   "id": "db9c1b96",
   "metadata": {},
   "outputs": [
    {
     "data": {
      "text/html": [
       "<div>\n",
       "<style scoped>\n",
       "    .dataframe tbody tr th:only-of-type {\n",
       "        vertical-align: middle;\n",
       "    }\n",
       "\n",
       "    .dataframe tbody tr th {\n",
       "        vertical-align: top;\n",
       "    }\n",
       "\n",
       "    .dataframe thead th {\n",
       "        text-align: right;\n",
       "    }\n",
       "</style>\n",
       "<table border=\"1\" class=\"dataframe\">\n",
       "  <thead>\n",
       "    <tr style=\"text-align: right;\">\n",
       "      <th></th>\n",
       "      <th></th>\n",
       "      <th>Audio</th>\n",
       "    </tr>\n",
       "    <tr>\n",
       "      <th>Type</th>\n",
       "      <th>Gender</th>\n",
       "      <th></th>\n",
       "    </tr>\n",
       "  </thead>\n",
       "  <tbody>\n",
       "    <tr>\n",
       "      <th rowspan=\"2\" valign=\"top\">n</th>\n",
       "      <th>m</th>\n",
       "      <td>259</td>\n",
       "    </tr>\n",
       "    <tr>\n",
       "      <th>w</th>\n",
       "      <td>428</td>\n",
       "    </tr>\n",
       "    <tr>\n",
       "      <th rowspan=\"2\" valign=\"top\">p</th>\n",
       "      <th>m</th>\n",
       "      <td>302</td>\n",
       "    </tr>\n",
       "    <tr>\n",
       "      <th>w</th>\n",
       "      <td>501</td>\n",
       "    </tr>\n",
       "  </tbody>\n",
       "</table>\n",
       "</div>"
      ],
      "text/plain": [
       "             Audio\n",
       "Type Gender       \n",
       "n    m         259\n",
       "     w         428\n",
       "p    m         302\n",
       "     w         501"
      ]
     },
     "execution_count": 6,
     "metadata": {},
     "output_type": "execute_result"
    }
   ],
   "source": [
    "type_gender_count = df.groupby([\"Type\",\"Gender\"])[['Audio']].count()\n",
    "type_gender_count"
   ]
  },
  {
   "cell_type": "code",
   "execution_count": 7,
   "id": "8d9f69cb",
   "metadata": {},
   "outputs": [
    {
     "data": {
      "text/plain": [
       "<Axes: xlabel='Type,Gender'>"
      ]
     },
     "execution_count": 7,
     "metadata": {},
     "output_type": "execute_result"
    },
    {
     "data": {
      "image/png": "[encoded data removed]",
      "text/plain": [
       "<Figure size 640x480 with 1 Axes>"
      ]
     },
     "metadata": {},
     "output_type": "display_data"
    }
   ],
   "source": [
    "type_gender_count.plot.bar()"
   ]
  },
  {
   "cell_type": "markdown",
   "id": "ae5cd40d",
   "metadata": {},
   "source": [
    "### Frequency plot for Gender vs pathological category"
   ]
  },
  {
   "cell_type": "code",
   "execution_count": 8,
   "id": "b1a14c59",
   "metadata": {},
   "outputs": [
    {
     "name": "stdout",
     "output_type": "stream",
     "text": [
      "['w' 'm']\n",
      "['Normal' 'Dysphonia' 'Laryngitis' 'Recurrent palsy']\n"
     ]
    }
   ],
   "source": [
    "gender = df.Gender.unique()\n",
    "pathology = df.Pathology.unique()\n",
    "print(gender)\n",
    "print(pathology)"
   ]
  },
  {
   "cell_type": "code",
   "execution_count": 9,
   "id": "6f85574b",
   "metadata": {
    "scrolled": true
   },
   "outputs": [],
   "source": [
    "# Finding fft and converting it to power spectrum\n",
    "def fft_calculation(data, i, j):\n",
    "    fft = np.fft.fft(data)\n",
    "    magnitude = np.abs(fft)\n",
    "    frequency = np.linspace(0, sample_rate, len(magnitude))\n",
    "    \n",
    "    left_frequency = frequency[:int(len(frequency)/2)]\n",
    "    left_magnitude = magnitude[:int(len(frequency)/2)]\n",
    "    print(str(gender[i])+\" vs \"+str(pathology[j])+\" :- \"+str(left_frequency[np.where(left_magnitude == max(left_magnitude))[0][0]]))\n",
    "\n",
    "    axes[i][j].plot(left_frequency, left_magnitude)\n",
    "    plt.xlabel(\"Frequency\")  # Set x-label\n",
    "    plt.ylabel(\"Magnitude\")  # Set y-label"
   ]
  },
  {
   "cell_type": "code",
   "execution_count": 10,
   "id": "046d7199",
   "metadata": {},
   "outputs": [
    {
     "name": "stdout",
     "output_type": "stream",
     "text": [
      "w vs Normal :- 820.1834221735993\n",
      "w vs Dysphonia :- 215.92833058325562\n",
      "w vs Laryngitis :- 202.63897956109076\n",
      "w vs Recurrent palsy :- 264.022450888681\n",
      "m vs Normal :- 610.5449591280654\n",
      "m vs Dysphonia :- 586.2829478214094\n",
      "m vs Laryngitis :- 663.8532110091744\n",
      "m vs Recurrent palsy :- 95.64965592423519\n"
     ]
    },
    {
     "data": {
      "image/png": "[encoded data removed]",
      "text/plain": [
       "<Figure size 1500x800 with 8 Axes>"
      ]
     },
     "metadata": {},
     "output_type": "display_data"
    }
   ],
   "source": [
    "fig, axes = plt.subplots(2, 4, figsize=(15, 8), squeeze=False)\n",
    "\n",
    "for i in range(2):\n",
    "    for j in range(4):\n",
    "        gender_pathological_df = df[np.logical_and(df.Gender==gender[i],df.Pathology==pathology[j])]\n",
    "        data, sample_rate = librosa.load(\"Filtered_Audio_Dataset/\"+gender_pathological_df.Audio.values[0])\n",
    "        fft_calculation(data, i, j)\n",
    "        plt.sca(axes[i][j])\n",
    "        plt.title(str(gender[i])+\" vs \"+str(pathology[j]))\n",
    "        plt.tight_layout()\n",
    "        plt.grid(True)"
   ]
  },
  {
   "cell_type": "code",
   "execution_count": 11,
   "id": "98636eac",
   "metadata": {},
   "outputs": [
    {
     "data": {
      "image/png": "[encoded data removed]",
      "text/plain": [
       "<Figure size 640x480 with 1 Axes>"
      ]
     },
     "metadata": {},
     "output_type": "display_data"
    }
   ],
   "source": [
    "sns.countplot(x=df[\"Pathology\"])\n",
    "plt.show()"
   ]
  },
  {
   "cell_type": "code",
   "execution_count": 12,
   "id": "d22d4b42",
   "metadata": {},
   "outputs": [
    {
     "data": {
      "text/plain": [
       "<Axes: xlabel='Type', ylabel='count'>"
      ]
     },
     "execution_count": 12,
     "metadata": {},
     "output_type": "execute_result"
    },
    {
     "data": {
      "image/png": "[encoded data removed]",
      "text/plain": [
       "<Figure size 640x480 with 1 Axes>"
      ]
     },
     "metadata": {},
     "output_type": "display_data"
    }
   ],
   "source": [
    "sns.countplot(x=df['Type'])"
   ]
  },
  {
   "cell_type": "code",
   "execution_count": 13,
   "id": "e8d432ea",
   "metadata": {},
   "outputs": [
    {
     "data": {
      "text/plain": [
       "Age\n",
       "20    123\n",
       "21     94\n",
       "22     69\n",
       "19     66\n",
       "23     50\n",
       "36     45\n",
       "59     33\n",
       "60     32\n",
       "32     30\n",
       "24     30\n",
       "Name: count, dtype: int64"
      ]
     },
     "execution_count": 13,
     "metadata": {},
     "output_type": "execute_result"
    }
   ],
   "source": [
    "df[\"Age\"].value_counts().sort_values(ascending= False).head(10)"
   ]
  },
  {
   "cell_type": "code",
   "execution_count": 14,
   "id": "fb7d58fa",
   "metadata": {},
   "outputs": [
    {
     "data": {
      "text/plain": [
       "<Axes: ylabel='Density'>"
      ]
     },
     "execution_count": 14,
     "metadata": {},
     "output_type": "execute_result"
    },
    {
     "data": {
      "image/png": "[encoded data removed]",
      "text/plain": [
       "<Figure size 640x480 with 1 Axes>"
      ]
     },
     "metadata": {},
     "output_type": "display_data"
    }
   ],
   "source": [
    "df[\"Age\"].plot.kde()"
   ]
  },
  {
   "cell_type": "markdown",
   "id": "e59c7019",
   "metadata": {},
   "source": [
    "## Extract Features"
   ]
  },
  {
   "cell_type": "code",
   "execution_count": 15,
   "id": "89b60a7f",
   "metadata": {},
   "outputs": [
    {
     "name": "stdout",
     "output_type": "stream",
     "text": [
      "(80, 87)\n"
     ]
    }
   ],
   "source": [
    "mfccs = librosa.feature.mfcc(y=data, sr= sample_rate, n_mfcc=80)\n",
    "print(mfccs.shape)"
   ]
  },
  {
   "cell_type": "code",
   "execution_count": 16,
   "id": "7ef624af",
   "metadata": {},
   "outputs": [
    {
     "data": {
      "text/plain": [
       "array([[-113.613    ,  -89.01245  ,  -96.09805  , ..., -122.339096 ,\n",
       "        -115.17272  , -131.32349  ],\n",
       "       [ 143.46376  ,  152.82028  ,  162.12552  , ...,  148.42282  ,\n",
       "         145.6359   ,  137.04434  ],\n",
       "       [  -3.917379 ,  -19.928009 ,  -27.019974 , ...,  -30.516018 ,\n",
       "         -25.041967 ,   -8.090624 ],\n",
       "       ...,\n",
       "       [  -5.252745 ,   -1.0948491,    2.6629157, ...,    7.357658 ,\n",
       "           6.5301757,    4.1670647],\n",
       "       [  -4.2366934,    1.1966839,    4.222116 , ...,    9.093587 ,\n",
       "           5.7590275,    2.0302086],\n",
       "       [  -2.3465881,   -4.0526004,   -4.7780204, ...,    5.0549297,\n",
       "           2.9839945,    0.2255072]], dtype=float32)"
      ]
     },
     "execution_count": 16,
     "metadata": {},
     "output_type": "execute_result"
    }
   ],
   "source": [
    "mfccs"
   ]
  },
  {
   "cell_type": "code",
   "execution_count": 17,
   "id": "ff680d18",
   "metadata": {},
   "outputs": [],
   "source": [
    "## Extracting MFCC's for every audio file\n",
    "import pandas as pd\n",
    "import os\n",
    "\n",
    "audio_dataset_path = 'Filtered_Audio_Dataset/'"
   ]
  },
  {
   "cell_type": "code",
   "execution_count": 18,
   "id": "aa9d6183",
   "metadata": {},
   "outputs": [],
   "source": [
    "def features_extraction(file):\n",
    "    audio, sample_rate = librosa.load(file_name)\n",
    "    mfccs_features = librosa.feature.mfcc(y=audio, sr= sample_rate, n_mfcc=80)\n",
    "    mfccs_scaled_features = np.mean(mfccs_features.T, axis=0)\n",
    "    \n",
    "    return mfccs_scaled_features"
   ]
  },
  {
   "cell_type": "code",
   "execution_count": 19,
   "id": "722e8c4d",
   "metadata": {},
   "outputs": [
    {
     "name": "stderr",
     "output_type": "stream",
     "text": [
      "1490it [00:21, 68.65it/s] \n"
     ]
    }
   ],
   "source": [
    "import numpy as np\n",
    "from tqdm import tqdm\n",
    "\n",
    "extracted_features=[]\n",
    "for index_num,row in tqdm(df.iterrows()):\n",
    "    file_name = audio_dataset_path+row[\"Audio\"]\n",
    "    final_class_labels = row[\"Pathology\"]\n",
    "    data = features_extraction(file_name)\n",
    "    extracted_features.append([data,final_class_labels])"
   ]
  },
  {
   "cell_type": "code",
   "execution_count": 20,
   "id": "c814f35b",
   "metadata": {},
   "outputs": [
    {
     "data": {
      "text/html": [
       "<div>\n",
       "<style scoped>\n",
       "    .dataframe tbody tr th:only-of-type {\n",
       "        vertical-align: middle;\n",
       "    }\n",
       "\n",
       "    .dataframe tbody tr th {\n",
       "        vertical-align: top;\n",
       "    }\n",
       "\n",
       "    .dataframe thead th {\n",
       "        text-align: right;\n",
       "    }\n",
       "</style>\n",
       "<table border=\"1\" class=\"dataframe\">\n",
       "  <thead>\n",
       "    <tr style=\"text-align: right;\">\n",
       "      <th></th>\n",
       "      <th>feature</th>\n",
       "      <th>class</th>\n",
       "    </tr>\n",
       "  </thead>\n",
       "  <tbody>\n",
       "    <tr>\n",
       "      <th>0</th>\n",
       "      <td>[-261.49933, 114.805534, -72.840965, -0.931277...</td>\n",
       "      <td>Normal</td>\n",
       "    </tr>\n",
       "    <tr>\n",
       "      <th>1</th>\n",
       "      <td>[-202.87245, 145.96022, -68.10183, -11.444383,...</td>\n",
       "      <td>Normal</td>\n",
       "    </tr>\n",
       "    <tr>\n",
       "      <th>2</th>\n",
       "      <td>[-167.76535, 133.49133, -77.94643, -9.826728, ...</td>\n",
       "      <td>Normal</td>\n",
       "    </tr>\n",
       "    <tr>\n",
       "      <th>3</th>\n",
       "      <td>[-279.40063, 208.5046, -43.03498, -5.360972, -...</td>\n",
       "      <td>Normal</td>\n",
       "    </tr>\n",
       "    <tr>\n",
       "      <th>4</th>\n",
       "      <td>[-172.24774, 175.08725, -75.93269, 8.99103, -6...</td>\n",
       "      <td>Normal</td>\n",
       "    </tr>\n",
       "    <tr>\n",
       "      <th>5</th>\n",
       "      <td>[-205.02122, 137.12006, -66.55497, -12.496069,...</td>\n",
       "      <td>Normal</td>\n",
       "    </tr>\n",
       "    <tr>\n",
       "      <th>6</th>\n",
       "      <td>[-217.24478, 145.07858, -100.58555, 2.7787614,...</td>\n",
       "      <td>Normal</td>\n",
       "    </tr>\n",
       "    <tr>\n",
       "      <th>7</th>\n",
       "      <td>[-227.11813, 127.75929, -63.862732, -13.961372...</td>\n",
       "      <td>Normal</td>\n",
       "    </tr>\n",
       "    <tr>\n",
       "      <th>8</th>\n",
       "      <td>[-196.28305, 113.32672, -99.92175, 1.0585632, ...</td>\n",
       "      <td>Normal</td>\n",
       "    </tr>\n",
       "    <tr>\n",
       "      <th>9</th>\n",
       "      <td>[-207.56131, 135.24808, -61.779488, -17.637135...</td>\n",
       "      <td>Normal</td>\n",
       "    </tr>\n",
       "  </tbody>\n",
       "</table>\n",
       "</div>"
      ],
      "text/plain": [
       "                                             feature   class\n",
       "0  [-261.49933, 114.805534, -72.840965, -0.931277...  Normal\n",
       "1  [-202.87245, 145.96022, -68.10183, -11.444383,...  Normal\n",
       "2  [-167.76535, 133.49133, -77.94643, -9.826728, ...  Normal\n",
       "3  [-279.40063, 208.5046, -43.03498, -5.360972, -...  Normal\n",
       "4  [-172.24774, 175.08725, -75.93269, 8.99103, -6...  Normal\n",
       "5  [-205.02122, 137.12006, -66.55497, -12.496069,...  Normal\n",
       "6  [-217.24478, 145.07858, -100.58555, 2.7787614,...  Normal\n",
       "7  [-227.11813, 127.75929, -63.862732, -13.961372...  Normal\n",
       "8  [-196.28305, 113.32672, -99.92175, 1.0585632, ...  Normal\n",
       "9  [-207.56131, 135.24808, -61.779488, -17.637135...  Normal"
      ]
     },
     "execution_count": 20,
     "metadata": {},
     "output_type": "execute_result"
    }
   ],
   "source": [
    "extracted_features_df = pd.DataFrame(extracted_features, columns=['feature','class'])\n",
    "extracted_features_df.head(10)"
   ]
  },
  {
   "cell_type": "code",
   "execution_count": 21,
   "id": "c2827c0f",
   "metadata": {},
   "outputs": [
    {
     "data": {
      "text/plain": [
       "(1490, 2)"
      ]
     },
     "execution_count": 21,
     "metadata": {},
     "output_type": "execute_result"
    }
   ],
   "source": [
    "extracted_features_df.shape"
   ]
  },
  {
   "cell_type": "code",
   "execution_count": 22,
   "id": "4bb09498",
   "metadata": {},
   "outputs": [
    {
     "data": {
      "text/plain": [
       "array([-2.61499329e+02,  1.14805534e+02, -7.28409653e+01, -9.31277871e-01,\n",
       "       -6.87778549e+01, -2.90463376e+00,  4.69877529e+00,  7.56695986e+00,\n",
       "       -3.33707962e+01,  1.76828156e+01, -4.03612089e+00, -1.42697287e+01,\n",
       "        9.20465565e+00, -2.80942898e+01, -1.00394077e+01, -1.63144569e+01,\n",
       "       -9.73753095e-01, -4.31138134e+00, -9.75323021e-01, -1.19480648e+01,\n",
       "        4.30604649e+00, -9.05258274e+00,  8.25730264e-02,  4.08039131e+01,\n",
       "        2.39141750e+01,  6.14854851e+01,  3.20326614e+01,  8.02177048e+00,\n",
       "       -2.74810147e+00, -9.03449821e+00,  4.29856348e+00, -1.17523634e+00,\n",
       "        1.33330641e+01, -6.40946245e+00, -1.52622843e+01, -5.44703770e+00,\n",
       "        1.03529129e+01, -3.11023307e+00, -8.39600277e+00, -7.93014669e+00,\n",
       "       -5.57793570e+00,  1.33628864e+01, -4.67780113e+00, -1.73656483e+01,\n",
       "       -1.20797033e+01,  3.30997729e+00, -6.23456812e+00,  1.79914856e+00,\n",
       "        1.81635227e+01,  3.11546078e+01,  3.39731293e+01,  2.36189723e+00,\n",
       "        3.56650442e-01,  1.27379984e-01,  1.96595967e+00, -3.74437380e+00,\n",
       "        3.04778504e+00,  1.17016163e+01, -5.68205357e+00, -1.47768602e+01,\n",
       "       -3.44011617e+00,  1.26787863e+01, -4.54433060e+00, -2.59958076e+00,\n",
       "        4.01505619e-01, -2.27284694e+00, -1.98904479e+00, -1.24807763e+00,\n",
       "        6.69117212e+00, -1.67640018e+01, -8.95553780e+00,  8.15494537e+00,\n",
       "        3.47363853e+00,  7.22138739e+00,  7.14855003e+00,  5.03738308e+00,\n",
       "       -2.05320191e+00,  6.38020706e+00,  3.56900358e+00, -1.01759024e+01],\n",
       "      dtype=float32)"
      ]
     },
     "execution_count": 22,
     "metadata": {},
     "output_type": "execute_result"
    }
   ],
   "source": [
    "extracted_features_df[\"feature\"][0]"
   ]
  },
  {
   "cell_type": "code",
   "execution_count": 23,
   "id": "85fff3b1",
   "metadata": {},
   "outputs": [],
   "source": [
    "## Label Encoding\n",
    "dummy_data = pd.get_dummies(extracted_features_df['class'])"
   ]
  },
  {
   "cell_type": "code",
   "execution_count": 24,
   "id": "4758d3a8",
   "metadata": {},
   "outputs": [
    {
     "data": {
      "text/html": [
       "<div>\n",
       "<style scoped>\n",
       "    .dataframe tbody tr th:only-of-type {\n",
       "        vertical-align: middle;\n",
       "    }\n",
       "\n",
       "    .dataframe tbody tr th {\n",
       "        vertical-align: top;\n",
       "    }\n",
       "\n",
       "    .dataframe thead th {\n",
       "        text-align: right;\n",
       "    }\n",
       "</style>\n",
       "<table border=\"1\" class=\"dataframe\">\n",
       "  <thead>\n",
       "    <tr style=\"text-align: right;\">\n",
       "      <th></th>\n",
       "      <th>Dysphonia</th>\n",
       "      <th>Laryngitis</th>\n",
       "      <th>Normal</th>\n",
       "      <th>Recurrent palsy</th>\n",
       "    </tr>\n",
       "  </thead>\n",
       "  <tbody>\n",
       "    <tr>\n",
       "      <th>0</th>\n",
       "      <td>False</td>\n",
       "      <td>False</td>\n",
       "      <td>True</td>\n",
       "      <td>False</td>\n",
       "    </tr>\n",
       "    <tr>\n",
       "      <th>1</th>\n",
       "      <td>False</td>\n",
       "      <td>False</td>\n",
       "      <td>True</td>\n",
       "      <td>False</td>\n",
       "    </tr>\n",
       "    <tr>\n",
       "      <th>2</th>\n",
       "      <td>False</td>\n",
       "      <td>False</td>\n",
       "      <td>True</td>\n",
       "      <td>False</td>\n",
       "    </tr>\n",
       "    <tr>\n",
       "      <th>3</th>\n",
       "      <td>False</td>\n",
       "      <td>False</td>\n",
       "      <td>True</td>\n",
       "      <td>False</td>\n",
       "    </tr>\n",
       "    <tr>\n",
       "      <th>4</th>\n",
       "      <td>False</td>\n",
       "      <td>False</td>\n",
       "      <td>True</td>\n",
       "      <td>False</td>\n",
       "    </tr>\n",
       "    <tr>\n",
       "      <th>...</th>\n",
       "      <td>...</td>\n",
       "      <td>...</td>\n",
       "      <td>...</td>\n",
       "      <td>...</td>\n",
       "    </tr>\n",
       "    <tr>\n",
       "      <th>1485</th>\n",
       "      <td>False</td>\n",
       "      <td>False</td>\n",
       "      <td>False</td>\n",
       "      <td>True</td>\n",
       "    </tr>\n",
       "    <tr>\n",
       "      <th>1486</th>\n",
       "      <td>False</td>\n",
       "      <td>False</td>\n",
       "      <td>False</td>\n",
       "      <td>True</td>\n",
       "    </tr>\n",
       "    <tr>\n",
       "      <th>1487</th>\n",
       "      <td>False</td>\n",
       "      <td>False</td>\n",
       "      <td>False</td>\n",
       "      <td>True</td>\n",
       "    </tr>\n",
       "    <tr>\n",
       "      <th>1488</th>\n",
       "      <td>False</td>\n",
       "      <td>False</td>\n",
       "      <td>False</td>\n",
       "      <td>True</td>\n",
       "    </tr>\n",
       "    <tr>\n",
       "      <th>1489</th>\n",
       "      <td>False</td>\n",
       "      <td>False</td>\n",
       "      <td>False</td>\n",
       "      <td>True</td>\n",
       "    </tr>\n",
       "  </tbody>\n",
       "</table>\n",
       "<p>1490 rows × 4 columns</p>\n",
       "</div>"
      ],
      "text/plain": [
       "      Dysphonia  Laryngitis  Normal  Recurrent palsy\n",
       "0         False       False    True            False\n",
       "1         False       False    True            False\n",
       "2         False       False    True            False\n",
       "3         False       False    True            False\n",
       "4         False       False    True            False\n",
       "...         ...         ...     ...              ...\n",
       "1485      False       False   False             True\n",
       "1486      False       False   False             True\n",
       "1487      False       False   False             True\n",
       "1488      False       False   False             True\n",
       "1489      False       False   False             True\n",
       "\n",
       "[1490 rows x 4 columns]"
      ]
     },
     "execution_count": 24,
     "metadata": {},
     "output_type": "execute_result"
    }
   ],
   "source": [
    "dummy_data"
   ]
  },
  {
   "cell_type": "code",
   "execution_count": 25,
   "id": "b543b91c",
   "metadata": {},
   "outputs": [],
   "source": [
    "x=np.array(extracted_features_df['feature'].values.tolist())\n",
    "y=dummy_data"
   ]
  },
  {
   "cell_type": "code",
   "execution_count": 26,
   "id": "302d1f82",
   "metadata": {},
   "outputs": [
    {
     "data": {
      "text/plain": [
       "(1490, 80)"
      ]
     },
     "execution_count": 26,
     "metadata": {},
     "output_type": "execute_result"
    }
   ],
   "source": [
    "x.shape"
   ]
  },
  {
   "cell_type": "code",
   "execution_count": 27,
   "id": "faca9110",
   "metadata": {
    "scrolled": true
   },
   "outputs": [
    {
     "data": {
      "text/plain": [
       "(1490, 4)"
      ]
     },
     "execution_count": 27,
     "metadata": {},
     "output_type": "execute_result"
    }
   ],
   "source": [
    "y.shape"
   ]
  },
  {
   "cell_type": "code",
   "execution_count": 28,
   "id": "7262660d",
   "metadata": {},
   "outputs": [],
   "source": [
    "### Train Test Split\n",
    "from sklearn.model_selection import train_test_split\n",
    "x_train,x_test,y_train,y_test=train_test_split(x,y,stratify= y, test_size=0.2,random_state=0)"
   ]
  },
  {
   "cell_type": "code",
   "execution_count": 29,
   "id": "8e1d6d1a",
   "metadata": {},
   "outputs": [
    {
     "data": {
      "text/plain": [
       "(1192, 80)"
      ]
     },
     "execution_count": 29,
     "metadata": {},
     "output_type": "execute_result"
    }
   ],
   "source": [
    "x_train.shape"
   ]
  },
  {
   "cell_type": "code",
   "execution_count": 30,
   "id": "81e0a1ba",
   "metadata": {},
   "outputs": [
    {
     "data": {
      "text/plain": [
       "(298, 80)"
      ]
     },
     "execution_count": 30,
     "metadata": {},
     "output_type": "execute_result"
    }
   ],
   "source": [
    "x_test.shape"
   ]
  },
  {
   "cell_type": "code",
   "execution_count": 31,
   "id": "70ec852f",
   "metadata": {},
   "outputs": [
    {
     "data": {
      "text/plain": [
       "(1192, 4)"
      ]
     },
     "execution_count": 31,
     "metadata": {},
     "output_type": "execute_result"
    }
   ],
   "source": [
    "y_train.shape"
   ]
  },
  {
   "cell_type": "code",
   "execution_count": 32,
   "id": "48321029",
   "metadata": {},
   "outputs": [
    {
     "data": {
      "text/plain": [
       "(298, 4)"
      ]
     },
     "execution_count": 32,
     "metadata": {},
     "output_type": "execute_result"
    }
   ],
   "source": [
    "y_test.shape"
   ]
  },
  {
   "cell_type": "markdown",
   "id": "5ff207eb",
   "metadata": {},
   "source": [
    "## Model Training"
   ]
  },
  {
   "cell_type": "code",
   "execution_count": 33,
   "id": "d59d97d4",
   "metadata": {},
   "outputs": [
    {
     "name": "stdout",
     "output_type": "stream",
     "text": [
      "2.13.0\n"
     ]
    }
   ],
   "source": [
    "import tensorflow as tf\n",
    "print(tf.__version__)"
   ]
  },
  {
   "cell_type": "code",
   "execution_count": 34,
   "id": "d3c49c7e",
   "metadata": {},
   "outputs": [],
   "source": [
    "from tensorflow.keras.models import Sequential\n",
    "from tensorflow.keras.layers import Dense,Dropout,Activation,Flatten\n",
    "from tensorflow.keras.optimizers import Adam\n",
    "from sklearn import metrics"
   ]
  },
  {
   "cell_type": "code",
   "execution_count": 35,
   "id": "b0586ea5",
   "metadata": {},
   "outputs": [
    {
     "data": {
      "text/plain": [
       "4"
      ]
     },
     "execution_count": 35,
     "metadata": {},
     "output_type": "execute_result"
    }
   ],
   "source": [
    "## No. of classes\n",
    "num_labels=y.shape[1]\n",
    "num_labels"
   ]
  },
  {
   "cell_type": "code",
   "execution_count": 36,
   "id": "06adc7ce",
   "metadata": {},
   "outputs": [],
   "source": [
    "model=Sequential()\n",
    "## first layer\n",
    "model.add(Dense(256,input_shape=(80,)))\n",
    "model.add(Activation('relu'))\n",
    "model.add(Dropout(0.5))\n",
    "## second layer\n",
    "model.add(Dense(256))\n",
    "model.add(Activation('relu'))\n",
    "model.add(Dropout(0.5))\n",
    "## third layer\n",
    "model.add(Dense(512))\n",
    "model.add(Activation('relu'))\n",
    "model.add(Dropout(0.5))\n",
    "## final Layer\n",
    "model.add(Dense(num_labels))\n",
    "model.add(Activation('softmax'))"
   ]
  },
  {
   "cell_type": "code",
   "execution_count": 37,
   "id": "1e79dd29",
   "metadata": {},
   "outputs": [],
   "source": [
    "model.compile(loss='categorical_crossentropy',metrics=['accuracy'],optimizer='adam')"
   ]
  },
  {
   "cell_type": "code",
   "execution_count": 38,
   "id": "94095501",
   "metadata": {
    "scrolled": true
   },
   "outputs": [
    {
     "name": "stdout",
     "output_type": "stream",
     "text": [
      "Model: \"sequential\"\n",
      "_________________________________________________________________\n",
      " Layer (type)                Output Shape              Param #   \n",
      "=================================================================\n",
      " dense (Dense)               (None, 256)               20736     \n",
      "                                                                 \n",
      " activation (Activation)     (None, 256)               0         \n",
      "                                                                 \n",
      " dropout (Dropout)           (None, 256)               0         \n",
      "                                                                 \n",
      " dense_1 (Dense)             (None, 256)               65792     \n",
      "                                                                 \n",
      " activation_1 (Activation)   (None, 256)               0         \n",
      "                                                                 \n",
      " dropout_1 (Dropout)         (None, 256)               0         \n",
      "                                                                 \n",
      " dense_2 (Dense)             (None, 512)               131584    \n",
      "                                                                 \n",
      " activation_2 (Activation)   (None, 512)               0         \n",
      "                                                                 \n",
      " dropout_2 (Dropout)         (None, 512)               0         \n",
      "                                                                 \n",
      " dense_3 (Dense)             (None, 4)                 2052      \n",
      "                                                                 \n",
      " activation_3 (Activation)   (None, 4)                 0         \n",
      "                                                                 \n",
      "=================================================================\n",
      "Total params: 220164 (860.02 KB)\n",
      "Trainable params: 220164 (860.02 KB)\n",
      "Non-trainable params: 0 (0.00 Byte)\n",
      "_________________________________________________________________\n"
     ]
    }
   ],
   "source": [
    "model.summary()"
   ]
  },
  {
   "cell_type": "code",
   "execution_count": 39,
   "id": "727a1c2e",
   "metadata": {},
   "outputs": [
    {
     "name": "stdout",
     "output_type": "stream",
     "text": [
      "Epoch 1/150\n",
      "33/38 [=========================>....] - ETA: 0s - loss: 16.5500 - accuracy: 0.3494\n",
      "Epoch 1: val_loss improved from inf to 2.03768, saving model to /audio_classification.hdf5\n",
      "38/38 [==============================] - 3s 37ms/step - loss: 15.8937 - accuracy: 0.3465 - val_loss: 2.0377 - val_accuracy: 0.4530\n",
      "Epoch 2/150\n",
      "19/38 [==============>...............] - ETA: 0s - loss: 7.2520 - accuracy: 0.4243"
     ]
    },
    {
     "name": "stderr",
     "output_type": "stream",
     "text": [
      "C:\\Anaconda\\lib\\site-packages\\keras\\src\\engine\\training.py:3000: UserWarning: You are saving your model as an HDF5 file via `model.save()`. This file format is considered legacy. We recommend using instead the native Keras format, e.g. `model.save('my_model.keras')`.\n",
      "  saving_api.save_model(\n"
     ]
    },
    {
     "name": "stdout",
     "output_type": "stream",
     "text": [
      "31/38 [=======================>......] - ETA: 0s - loss: 7.1050 - accuracy: 0.3931\n",
      "Epoch 2: val_loss improved from 2.03768 to 1.40622, saving model to /audio_classification.hdf5\n",
      "38/38 [==============================] - 0s 8ms/step - loss: 6.8568 - accuracy: 0.3867 - val_loss: 1.4062 - val_accuracy: 0.3389\n",
      "Epoch 3/150\n",
      "38/38 [==============================] - ETA: 0s - loss: 4.1896 - accuracy: 0.3532\n",
      "Epoch 3: val_loss improved from 1.40622 to 1.18190, saving model to /audio_classification.hdf5\n",
      "38/38 [==============================] - 0s 9ms/step - loss: 4.1896 - accuracy: 0.3532 - val_loss: 1.1819 - val_accuracy: 0.4597\n",
      "Epoch 4/150\n",
      "32/38 [========================>.....] - ETA: 0s - loss: 2.9394 - accuracy: 0.3643\n",
      "Epoch 4: val_loss did not improve from 1.18190\n",
      "38/38 [==============================] - 0s 7ms/step - loss: 2.8934 - accuracy: 0.3633 - val_loss: 1.2306 - val_accuracy: 0.4597\n",
      "Epoch 5/150\n",
      "36/38 [===========================>..] - ETA: 0s - loss: 2.1420 - accuracy: 0.3976\n",
      "Epoch 5: val_loss did not improve from 1.18190\n",
      "38/38 [==============================] - 0s 8ms/step - loss: 2.1546 - accuracy: 0.3977 - val_loss: 1.3137 - val_accuracy: 0.3960\n",
      "Epoch 6/150\n",
      "38/38 [==============================] - ETA: 0s - loss: 1.9148 - accuracy: 0.3599\n",
      "Epoch 6: val_loss did not improve from 1.18190\n",
      "38/38 [==============================] - 0s 7ms/step - loss: 1.9148 - accuracy: 0.3599 - val_loss: 1.3306 - val_accuracy: 0.4329\n",
      "Epoch 7/150\n",
      "38/38 [==============================] - ETA: 0s - loss: 1.6106 - accuracy: 0.3775\n",
      "Epoch 7: val_loss did not improve from 1.18190\n",
      "38/38 [==============================] - 0s 7ms/step - loss: 1.6106 - accuracy: 0.3775 - val_loss: 1.3550 - val_accuracy: 0.3859\n",
      "Epoch 8/150\n",
      "37/38 [============================>.] - ETA: 0s - loss: 1.5269 - accuracy: 0.3598\n",
      "Epoch 8: val_loss did not improve from 1.18190\n",
      "38/38 [==============================] - 0s 8ms/step - loss: 1.5269 - accuracy: 0.3599 - val_loss: 1.3513 - val_accuracy: 0.3859\n",
      "Epoch 9/150\n",
      "37/38 [============================>.] - ETA: 0s - loss: 1.4436 - accuracy: 0.4172\n",
      "Epoch 9: val_loss did not improve from 1.18190\n",
      "38/38 [==============================] - 0s 8ms/step - loss: 1.4493 - accuracy: 0.4153 - val_loss: 1.3470 - val_accuracy: 0.3792\n",
      "Epoch 10/150\n",
      "33/38 [=========================>....] - ETA: 0s - loss: 1.3883 - accuracy: 0.4034\n",
      "Epoch 10: val_loss did not improve from 1.18190\n",
      "38/38 [==============================] - 0s 7ms/step - loss: 1.3847 - accuracy: 0.4044 - val_loss: 1.3380 - val_accuracy: 0.3725\n",
      "Epoch 11/150\n",
      "34/38 [=========================>....] - ETA: 0s - loss: 1.2846 - accuracy: 0.4329\n",
      "Epoch 11: val_loss did not improve from 1.18190\n",
      "38/38 [==============================] - 0s 6ms/step - loss: 1.2942 - accuracy: 0.4287 - val_loss: 1.3263 - val_accuracy: 0.3725\n",
      "Epoch 12/150\n",
      "31/38 [=======================>......] - ETA: 0s - loss: 1.3312 - accuracy: 0.4183\n",
      "Epoch 12: val_loss did not improve from 1.18190\n",
      "38/38 [==============================] - 0s 10ms/step - loss: 1.3230 - accuracy: 0.4245 - val_loss: 1.3139 - val_accuracy: 0.4060\n",
      "Epoch 13/150\n",
      "30/38 [======================>.......] - ETA: 0s - loss: 1.2879 - accuracy: 0.4292\n",
      "Epoch 13: val_loss did not improve from 1.18190\n",
      "38/38 [==============================] - 0s 7ms/step - loss: 1.2898 - accuracy: 0.4228 - val_loss: 1.3028 - val_accuracy: 0.4564\n",
      "Epoch 14/150\n",
      "38/38 [==============================] - ETA: 0s - loss: 1.2909 - accuracy: 0.4144\n",
      "Epoch 14: val_loss did not improve from 1.18190\n",
      "38/38 [==============================] - 0s 7ms/step - loss: 1.2909 - accuracy: 0.4144 - val_loss: 1.2897 - val_accuracy: 0.4497\n",
      "Epoch 15/150\n",
      "37/38 [============================>.] - ETA: 0s - loss: 1.2655 - accuracy: 0.4434\n",
      "Epoch 15: val_loss did not improve from 1.18190\n",
      "38/38 [==============================] - 0s 6ms/step - loss: 1.2674 - accuracy: 0.4438 - val_loss: 1.2728 - val_accuracy: 0.4530\n",
      "Epoch 16/150\n",
      "34/38 [=========================>....] - ETA: 0s - loss: 1.2567 - accuracy: 0.4357\n",
      "Epoch 16: val_loss did not improve from 1.18190\n",
      "38/38 [==============================] - 0s 7ms/step - loss: 1.2492 - accuracy: 0.4346 - val_loss: 1.2591 - val_accuracy: 0.4597\n",
      "Epoch 17/150\n",
      "32/38 [========================>.....] - ETA: 0s - loss: 1.2186 - accuracy: 0.4619\n",
      "Epoch 17: val_loss did not improve from 1.18190\n",
      "38/38 [==============================] - 0s 7ms/step - loss: 1.2292 - accuracy: 0.4581 - val_loss: 1.2541 - val_accuracy: 0.4597\n",
      "Epoch 18/150\n",
      "31/38 [=======================>......] - ETA: 0s - loss: 1.2570 - accuracy: 0.4304\n",
      "Epoch 18: val_loss did not improve from 1.18190\n",
      "38/38 [==============================] - 0s 7ms/step - loss: 1.2477 - accuracy: 0.4337 - val_loss: 1.2404 - val_accuracy: 0.4597\n",
      "Epoch 19/150\n",
      "38/38 [==============================] - ETA: 0s - loss: 1.2170 - accuracy: 0.4346\n",
      "Epoch 19: val_loss did not improve from 1.18190\n",
      "38/38 [==============================] - 0s 7ms/step - loss: 1.2170 - accuracy: 0.4346 - val_loss: 1.2317 - val_accuracy: 0.4597\n",
      "Epoch 20/150\n",
      "38/38 [==============================] - ETA: 0s - loss: 1.2367 - accuracy: 0.4371\n",
      "Epoch 20: val_loss did not improve from 1.18190\n",
      "38/38 [==============================] - 0s 8ms/step - loss: 1.2367 - accuracy: 0.4371 - val_loss: 1.2183 - val_accuracy: 0.4597\n",
      "Epoch 21/150\n",
      "30/38 [======================>.......] - ETA: 0s - loss: 1.2121 - accuracy: 0.4469\n",
      "Epoch 21: val_loss did not improve from 1.18190\n",
      "38/38 [==============================] - 0s 7ms/step - loss: 1.2173 - accuracy: 0.4455 - val_loss: 1.2202 - val_accuracy: 0.4597\n",
      "Epoch 22/150\n",
      "31/38 [=======================>......] - ETA: 0s - loss: 1.1904 - accuracy: 0.4456\n",
      "Epoch 22: val_loss did not improve from 1.18190\n",
      "38/38 [==============================] - 0s 7ms/step - loss: 1.1905 - accuracy: 0.4455 - val_loss: 1.2065 - val_accuracy: 0.4597\n",
      "Epoch 23/150\n",
      "33/38 [=========================>....] - ETA: 0s - loss: 1.2100 - accuracy: 0.4517\n",
      "Epoch 23: val_loss did not improve from 1.18190\n",
      "38/38 [==============================] - 0s 7ms/step - loss: 1.2035 - accuracy: 0.4530 - val_loss: 1.2078 - val_accuracy: 0.4597\n",
      "Epoch 24/150\n",
      "37/38 [============================>.] - ETA: 0s - loss: 1.2053 - accuracy: 0.4341\n",
      "Epoch 24: val_loss did not improve from 1.18190\n",
      "38/38 [==============================] - 0s 8ms/step - loss: 1.2054 - accuracy: 0.4346 - val_loss: 1.2088 - val_accuracy: 0.4597\n",
      "Epoch 25/150\n",
      "34/38 [=========================>....] - ETA: 0s - loss: 1.1771 - accuracy: 0.4586\n",
      "Epoch 25: val_loss did not improve from 1.18190\n",
      "38/38 [==============================] - 0s 8ms/step - loss: 1.1694 - accuracy: 0.4614 - val_loss: 1.1888 - val_accuracy: 0.4597\n",
      "Epoch 26/150\n",
      "38/38 [==============================] - ETA: 0s - loss: 1.2031 - accuracy: 0.4463\n",
      "Epoch 26: val_loss did not improve from 1.18190\n",
      "38/38 [==============================] - 0s 8ms/step - loss: 1.2031 - accuracy: 0.4463 - val_loss: 1.1958 - val_accuracy: 0.4597\n",
      "Epoch 27/150\n",
      "38/38 [==============================] - ETA: 0s - loss: 1.2120 - accuracy: 0.4354\n",
      "Epoch 27: val_loss did not improve from 1.18190\n",
      "38/38 [==============================] - 0s 7ms/step - loss: 1.2120 - accuracy: 0.4354 - val_loss: 1.1971 - val_accuracy: 0.4597\n",
      "Epoch 28/150\n",
      "37/38 [============================>.] - ETA: 0s - loss: 1.2049 - accuracy: 0.4527\n",
      "Epoch 28: val_loss did not improve from 1.18190\n",
      "38/38 [==============================] - 0s 8ms/step - loss: 1.2037 - accuracy: 0.4522 - val_loss: 1.1963 - val_accuracy: 0.4597\n",
      "Epoch 29/150\n",
      "38/38 [==============================] - ETA: 0s - loss: 1.2032 - accuracy: 0.4505\n",
      "Epoch 29: val_loss did not improve from 1.18190\n",
      "38/38 [==============================] - 0s 8ms/step - loss: 1.2032 - accuracy: 0.4505 - val_loss: 1.2008 - val_accuracy: 0.4597\n",
      "Epoch 30/150\n",
      "28/38 [=====================>........] - ETA: 0s - loss: 1.1898 - accuracy: 0.4286\n",
      "Epoch 30: val_loss did not improve from 1.18190\n",
      "38/38 [==============================] - 0s 7ms/step - loss: 1.1807 - accuracy: 0.4455 - val_loss: 1.2066 - val_accuracy: 0.4597\n",
      "Epoch 31/150\n",
      "30/38 [======================>.......] - ETA: 0s - loss: 1.1554 - accuracy: 0.4656\n",
      "Epoch 31: val_loss did not improve from 1.18190\n",
      "38/38 [==============================] - 0s 7ms/step - loss: 1.1829 - accuracy: 0.4547 - val_loss: 1.1967 - val_accuracy: 0.4597\n"
     ]
    },
    {
     "name": "stdout",
     "output_type": "stream",
     "text": [
      "Epoch 32/150\n",
      "37/38 [============================>.] - ETA: 0s - loss: 1.1934 - accuracy: 0.4544\n",
      "Epoch 32: val_loss did not improve from 1.18190\n",
      "38/38 [==============================] - 0s 8ms/step - loss: 1.1944 - accuracy: 0.4539 - val_loss: 1.2064 - val_accuracy: 0.4597\n",
      "Epoch 33/150\n",
      "34/38 [=========================>....] - ETA: 0s - loss: 1.1814 - accuracy: 0.4449\n",
      "Epoch 33: val_loss did not improve from 1.18190\n",
      "38/38 [==============================] - 0s 6ms/step - loss: 1.1855 - accuracy: 0.4505 - val_loss: 1.1976 - val_accuracy: 0.4597\n",
      "Epoch 34/150\n",
      "35/38 [==========================>...] - ETA: 0s - loss: 1.1643 - accuracy: 0.4670\n",
      "Epoch 34: val_loss did not improve from 1.18190\n",
      "38/38 [==============================] - 0s 6ms/step - loss: 1.1710 - accuracy: 0.4606 - val_loss: 1.1949 - val_accuracy: 0.4597\n",
      "Epoch 35/150\n",
      "35/38 [==========================>...] - ETA: 0s - loss: 1.1708 - accuracy: 0.4518\n",
      "Epoch 35: val_loss did not improve from 1.18190\n",
      "38/38 [==============================] - 0s 8ms/step - loss: 1.1678 - accuracy: 0.4564 - val_loss: 1.1979 - val_accuracy: 0.4597\n",
      "Epoch 36/150\n",
      "33/38 [=========================>....] - ETA: 0s - loss: 1.1711 - accuracy: 0.4593\n",
      "Epoch 36: val_loss did not improve from 1.18190\n",
      "38/38 [==============================] - 0s 7ms/step - loss: 1.1756 - accuracy: 0.4547 - val_loss: 1.1961 - val_accuracy: 0.4597\n",
      "Epoch 37/150\n",
      "34/38 [=========================>....] - ETA: 0s - loss: 1.1812 - accuracy: 0.4467\n",
      "Epoch 37: val_loss did not improve from 1.18190\n",
      "38/38 [==============================] - 0s 6ms/step - loss: 1.1782 - accuracy: 0.4505 - val_loss: 1.1886 - val_accuracy: 0.4597\n",
      "Epoch 38/150\n",
      "36/38 [===========================>..] - ETA: 0s - loss: 1.1708 - accuracy: 0.4540\n",
      "Epoch 38: val_loss improved from 1.18190 to 1.17796, saving model to /audio_classification.hdf5\n",
      "38/38 [==============================] - 0s 7ms/step - loss: 1.1681 - accuracy: 0.4547 - val_loss: 1.1780 - val_accuracy: 0.4597\n",
      "Epoch 39/150\n",
      "36/38 [===========================>..] - ETA: 0s - loss: 1.1645 - accuracy: 0.4592\n",
      "Epoch 39: val_loss did not improve from 1.17796\n",
      "38/38 [==============================] - 0s 6ms/step - loss: 1.1649 - accuracy: 0.4589 - val_loss: 1.1807 - val_accuracy: 0.4597\n",
      "Epoch 40/150\n",
      "36/38 [===========================>..] - ETA: 0s - loss: 1.1632 - accuracy: 0.4557\n",
      "Epoch 40: val_loss did not improve from 1.17796\n",
      "38/38 [==============================] - 0s 6ms/step - loss: 1.1617 - accuracy: 0.4547 - val_loss: 1.1854 - val_accuracy: 0.4597\n",
      "Epoch 41/150\n",
      "34/38 [=========================>....] - ETA: 0s - loss: 1.1607 - accuracy: 0.4724\n",
      "Epoch 41: val_loss improved from 1.17796 to 1.17146, saving model to /audio_classification.hdf5\n",
      "38/38 [==============================] - 0s 8ms/step - loss: 1.1611 - accuracy: 0.4656 - val_loss: 1.1715 - val_accuracy: 0.4664\n",
      "Epoch 42/150\n",
      "32/38 [========================>.....] - ETA: 0s - loss: 1.1738 - accuracy: 0.4443\n",
      "Epoch 42: val_loss did not improve from 1.17146\n",
      "38/38 [==============================] - 0s 7ms/step - loss: 1.1690 - accuracy: 0.4488 - val_loss: 1.1833 - val_accuracy: 0.4597\n",
      "Epoch 43/150\n",
      "32/38 [========================>.....] - ETA: 0s - loss: 1.1589 - accuracy: 0.4795\n",
      "Epoch 43: val_loss did not improve from 1.17146\n",
      "38/38 [==============================] - 0s 7ms/step - loss: 1.1634 - accuracy: 0.4673 - val_loss: 1.1734 - val_accuracy: 0.4698\n",
      "Epoch 44/150\n",
      "35/38 [==========================>...] - ETA: 0s - loss: 1.1630 - accuracy: 0.4464\n",
      "Epoch 44: val_loss did not improve from 1.17146\n",
      "38/38 [==============================] - 0s 6ms/step - loss: 1.1627 - accuracy: 0.4455 - val_loss: 1.1797 - val_accuracy: 0.4597\n",
      "Epoch 45/150\n",
      "33/38 [=========================>....] - ETA: 0s - loss: 1.1581 - accuracy: 0.4527\n",
      "Epoch 45: val_loss did not improve from 1.17146\n",
      "38/38 [==============================] - 0s 6ms/step - loss: 1.1505 - accuracy: 0.4547 - val_loss: 1.1804 - val_accuracy: 0.4597\n",
      "Epoch 46/150\n",
      "38/38 [==============================] - ETA: 0s - loss: 1.1668 - accuracy: 0.4555\n",
      "Epoch 46: val_loss did not improve from 1.17146\n",
      "38/38 [==============================] - 0s 6ms/step - loss: 1.1668 - accuracy: 0.4555 - val_loss: 1.1862 - val_accuracy: 0.4597\n",
      "Epoch 47/150\n",
      "37/38 [============================>.] - ETA: 0s - loss: 1.1625 - accuracy: 0.4595\n",
      "Epoch 47: val_loss did not improve from 1.17146\n",
      "38/38 [==============================] - 0s 6ms/step - loss: 1.1596 - accuracy: 0.4614 - val_loss: 1.1914 - val_accuracy: 0.4597\n",
      "Epoch 48/150\n",
      "30/38 [======================>.......] - ETA: 0s - loss: 1.1463 - accuracy: 0.4625\n",
      "Epoch 48: val_loss improved from 1.17146 to 1.16620, saving model to /audio_classification.hdf5\n",
      "38/38 [==============================] - 0s 9ms/step - loss: 1.1441 - accuracy: 0.4589 - val_loss: 1.1662 - val_accuracy: 0.4597\n",
      "Epoch 49/150\n",
      "32/38 [========================>.....] - ETA: 0s - loss: 1.1497 - accuracy: 0.4922\n",
      "Epoch 49: val_loss did not improve from 1.16620\n",
      "38/38 [==============================] - 0s 7ms/step - loss: 1.1535 - accuracy: 0.4899 - val_loss: 1.1791 - val_accuracy: 0.4463\n",
      "Epoch 50/150\n",
      "33/38 [=========================>....] - ETA: 0s - loss: 1.1611 - accuracy: 0.4716\n",
      "Epoch 50: val_loss did not improve from 1.16620\n",
      "38/38 [==============================] - 0s 8ms/step - loss: 1.1518 - accuracy: 0.4782 - val_loss: 1.1730 - val_accuracy: 0.4664\n",
      "Epoch 51/150\n",
      "33/38 [=========================>....] - ETA: 0s - loss: 1.1448 - accuracy: 0.4678\n",
      "Epoch 51: val_loss did not improve from 1.16620\n",
      "38/38 [==============================] - 0s 6ms/step - loss: 1.1477 - accuracy: 0.4698 - val_loss: 1.1845 - val_accuracy: 0.4530\n",
      "Epoch 52/150\n",
      "31/38 [=======================>......] - ETA: 0s - loss: 1.1378 - accuracy: 0.4960\n",
      "Epoch 52: val_loss did not improve from 1.16620\n",
      "38/38 [==============================] - 0s 7ms/step - loss: 1.1475 - accuracy: 0.4874 - val_loss: 1.1905 - val_accuracy: 0.4329\n",
      "Epoch 53/150\n",
      "31/38 [=======================>......] - ETA: 0s - loss: 1.1579 - accuracy: 0.4667\n",
      "Epoch 53: val_loss did not improve from 1.16620\n",
      "38/38 [==============================] - 0s 8ms/step - loss: 1.1556 - accuracy: 0.4631 - val_loss: 1.1902 - val_accuracy: 0.4295\n",
      "Epoch 54/150\n",
      "33/38 [=========================>....] - ETA: 0s - loss: 1.1372 - accuracy: 0.4782\n",
      "Epoch 54: val_loss did not improve from 1.16620\n",
      "38/38 [==============================] - 0s 7ms/step - loss: 1.1434 - accuracy: 0.4757 - val_loss: 1.1702 - val_accuracy: 0.4597\n",
      "Epoch 55/150\n",
      "36/38 [===========================>..] - ETA: 0s - loss: 1.1415 - accuracy: 0.4714\n",
      "Epoch 55: val_loss did not improve from 1.16620\n",
      "38/38 [==============================] - 0s 6ms/step - loss: 1.1440 - accuracy: 0.4732 - val_loss: 1.1757 - val_accuracy: 0.4463\n",
      "Epoch 56/150\n",
      "35/38 [==========================>...] - ETA: 0s - loss: 1.1376 - accuracy: 0.4589\n",
      "Epoch 56: val_loss improved from 1.16620 to 1.15542, saving model to /audio_classification.hdf5\n",
      "38/38 [==============================] - 0s 7ms/step - loss: 1.1354 - accuracy: 0.4597 - val_loss: 1.1554 - val_accuracy: 0.4530\n",
      "Epoch 57/150\n",
      "31/38 [=======================>......] - ETA: 0s - loss: 1.1675 - accuracy: 0.4617\n",
      "Epoch 57: val_loss did not improve from 1.15542\n",
      "38/38 [==============================] - 0s 7ms/step - loss: 1.1493 - accuracy: 0.4673 - val_loss: 1.1651 - val_accuracy: 0.4664\n",
      "Epoch 58/150\n",
      "37/38 [============================>.] - ETA: 0s - loss: 1.1366 - accuracy: 0.4949\n",
      "Epoch 58: val_loss did not improve from 1.15542\n",
      "38/38 [==============================] - 0s 8ms/step - loss: 1.1364 - accuracy: 0.4941 - val_loss: 1.1713 - val_accuracy: 0.4631\n",
      "Epoch 59/150\n",
      "34/38 [=========================>....] - ETA: 0s - loss: 1.1273 - accuracy: 0.4862\n",
      "Epoch 59: val_loss improved from 1.15542 to 1.15445, saving model to /audio_classification.hdf5\n",
      "38/38 [==============================] - 0s 9ms/step - loss: 1.1292 - accuracy: 0.4807 - val_loss: 1.1545 - val_accuracy: 0.4698\n",
      "Epoch 60/150\n",
      "31/38 [=======================>......] - ETA: 0s - loss: 1.1195 - accuracy: 0.4849\n",
      "Epoch 60: val_loss improved from 1.15445 to 1.15292, saving model to /audio_classification.hdf5\n",
      "38/38 [==============================] - 0s 8ms/step - loss: 1.1137 - accuracy: 0.4899 - val_loss: 1.1529 - val_accuracy: 0.4698\n"
     ]
    },
    {
     "name": "stdout",
     "output_type": "stream",
     "text": [
      "Epoch 61/150\n",
      "35/38 [==========================>...] - ETA: 0s - loss: 1.1173 - accuracy: 0.4955\n",
      "Epoch 61: val_loss did not improve from 1.15292\n",
      "38/38 [==============================] - 0s 7ms/step - loss: 1.1170 - accuracy: 0.4975 - val_loss: 1.1607 - val_accuracy: 0.4597\n",
      "Epoch 62/150\n",
      "35/38 [==========================>...] - ETA: 0s - loss: 1.1178 - accuracy: 0.4964\n",
      "Epoch 62: val_loss did not improve from 1.15292\n",
      "38/38 [==============================] - 0s 6ms/step - loss: 1.1137 - accuracy: 0.4933 - val_loss: 1.1622 - val_accuracy: 0.4698\n",
      "Epoch 63/150\n",
      "35/38 [==========================>...] - ETA: 0s - loss: 1.1163 - accuracy: 0.5000\n",
      "Epoch 63: val_loss did not improve from 1.15292\n",
      "38/38 [==============================] - 0s 6ms/step - loss: 1.1212 - accuracy: 0.5017 - val_loss: 1.1628 - val_accuracy: 0.4866\n",
      "Epoch 64/150\n",
      "35/38 [==========================>...] - ETA: 0s - loss: 1.0973 - accuracy: 0.5000\n",
      "Epoch 64: val_loss did not improve from 1.15292\n",
      "38/38 [==============================] - 0s 7ms/step - loss: 1.1016 - accuracy: 0.4966 - val_loss: 1.1546 - val_accuracy: 0.4732\n",
      "Epoch 65/150\n",
      "33/38 [=========================>....] - ETA: 0s - loss: 1.1014 - accuracy: 0.5000\n",
      "Epoch 65: val_loss did not improve from 1.15292\n",
      "38/38 [==============================] - 0s 6ms/step - loss: 1.1059 - accuracy: 0.4958 - val_loss: 1.1676 - val_accuracy: 0.4832\n",
      "Epoch 66/150\n",
      "35/38 [==========================>...] - ETA: 0s - loss: 1.1249 - accuracy: 0.5045\n",
      "Epoch 66: val_loss did not improve from 1.15292\n",
      "38/38 [==============================] - 0s 6ms/step - loss: 1.1246 - accuracy: 0.5034 - val_loss: 1.1713 - val_accuracy: 0.4530\n",
      "Epoch 67/150\n",
      "32/38 [========================>.....] - ETA: 0s - loss: 1.1038 - accuracy: 0.5234\n",
      "Epoch 67: val_loss improved from 1.15292 to 1.15211, saving model to /audio_classification.hdf5\n",
      "38/38 [==============================] - 0s 8ms/step - loss: 1.1146 - accuracy: 0.5159 - val_loss: 1.1521 - val_accuracy: 0.4698\n",
      "Epoch 68/150\n",
      "34/38 [=========================>....] - ETA: 0s - loss: 1.0882 - accuracy: 0.5138\n",
      "Epoch 68: val_loss improved from 1.15211 to 1.14438, saving model to /audio_classification.hdf5\n",
      "38/38 [==============================] - 0s 8ms/step - loss: 1.0902 - accuracy: 0.5126 - val_loss: 1.1444 - val_accuracy: 0.4765\n",
      "Epoch 69/150\n",
      "35/38 [==========================>...] - ETA: 0s - loss: 1.0838 - accuracy: 0.5143\n",
      "Epoch 69: val_loss did not improve from 1.14438\n",
      "38/38 [==============================] - 0s 6ms/step - loss: 1.0819 - accuracy: 0.5185 - val_loss: 1.1515 - val_accuracy: 0.4832\n",
      "Epoch 70/150\n",
      "34/38 [=========================>....] - ETA: 0s - loss: 1.0875 - accuracy: 0.5110\n",
      "Epoch 70: val_loss did not improve from 1.14438\n",
      "38/38 [==============================] - 0s 6ms/step - loss: 1.0874 - accuracy: 0.5109 - val_loss: 1.1589 - val_accuracy: 0.4631\n",
      "Epoch 71/150\n",
      "38/38 [==============================] - ETA: 0s - loss: 1.0848 - accuracy: 0.5084\n",
      "Epoch 71: val_loss improved from 1.14438 to 1.14188, saving model to /audio_classification.hdf5\n",
      "38/38 [==============================] - 1s 27ms/step - loss: 1.0848 - accuracy: 0.5084 - val_loss: 1.1419 - val_accuracy: 0.4899\n",
      "Epoch 72/150\n",
      "35/38 [==========================>...] - ETA: 0s - loss: 1.0954 - accuracy: 0.5152\n",
      "Epoch 72: val_loss improved from 1.14188 to 1.12911, saving model to /audio_classification.hdf5\n",
      "38/38 [==============================] - 0s 8ms/step - loss: 1.0889 - accuracy: 0.5201 - val_loss: 1.1291 - val_accuracy: 0.5302\n",
      "Epoch 73/150\n",
      "37/38 [============================>.] - ETA: 0s - loss: 1.0830 - accuracy: 0.5110\n",
      "Epoch 73: val_loss improved from 1.12911 to 1.12844, saving model to /audio_classification.hdf5\n",
      "38/38 [==============================] - 0s 7ms/step - loss: 1.0831 - accuracy: 0.5117 - val_loss: 1.1284 - val_accuracy: 0.4966\n",
      "Epoch 74/150\n",
      "34/38 [=========================>....] - ETA: 0s - loss: 1.0974 - accuracy: 0.5294\n",
      "Epoch 74: val_loss did not improve from 1.12844\n",
      "38/38 [==============================] - 0s 6ms/step - loss: 1.1030 - accuracy: 0.5294 - val_loss: 1.1407 - val_accuracy: 0.4966\n",
      "Epoch 75/150\n",
      "33/38 [=========================>....] - ETA: 0s - loss: 1.0703 - accuracy: 0.5312\n",
      "Epoch 75: val_loss did not improve from 1.12844\n",
      "38/38 [==============================] - 0s 7ms/step - loss: 1.0639 - accuracy: 0.5344 - val_loss: 1.1406 - val_accuracy: 0.5302\n",
      "Epoch 76/150\n",
      "32/38 [========================>.....] - ETA: 0s - loss: 1.0737 - accuracy: 0.5156\n",
      "Epoch 76: val_loss did not improve from 1.12844\n",
      "38/38 [==============================] - 0s 7ms/step - loss: 1.0804 - accuracy: 0.5143 - val_loss: 1.1490 - val_accuracy: 0.4966\n",
      "Epoch 77/150\n",
      "34/38 [=========================>....] - ETA: 0s - loss: 1.0871 - accuracy: 0.5055\n",
      "Epoch 77: val_loss did not improve from 1.12844\n",
      "38/38 [==============================] - 0s 8ms/step - loss: 1.0763 - accuracy: 0.5109 - val_loss: 1.1493 - val_accuracy: 0.4832\n",
      "Epoch 78/150\n",
      "38/38 [==============================] - ETA: 0s - loss: 1.0675 - accuracy: 0.5411\n",
      "Epoch 78: val_loss did not improve from 1.12844\n",
      "38/38 [==============================] - 0s 7ms/step - loss: 1.0675 - accuracy: 0.5411 - val_loss: 1.1487 - val_accuracy: 0.5268\n",
      "Epoch 79/150\n",
      "30/38 [======================>.......] - ETA: 0s - loss: 1.0626 - accuracy: 0.5312\n",
      "Epoch 79: val_loss improved from 1.12844 to 1.11765, saving model to /audio_classification.hdf5\n",
      "38/38 [==============================] - 0s 8ms/step - loss: 1.0567 - accuracy: 0.5369 - val_loss: 1.1176 - val_accuracy: 0.5201\n",
      "Epoch 80/150\n",
      "34/38 [=========================>....] - ETA: 0s - loss: 1.0618 - accuracy: 0.5221\n",
      "Epoch 80: val_loss did not improve from 1.11765\n",
      "38/38 [==============================] - 0s 6ms/step - loss: 1.0649 - accuracy: 0.5277 - val_loss: 1.1282 - val_accuracy: 0.5067\n",
      "Epoch 81/150\n",
      "33/38 [=========================>....] - ETA: 0s - loss: 1.0714 - accuracy: 0.5398\n",
      "Epoch 81: val_loss did not improve from 1.11765\n",
      "38/38 [==============================] - 0s 6ms/step - loss: 1.0676 - accuracy: 0.5378 - val_loss: 1.1401 - val_accuracy: 0.5101\n",
      "Epoch 82/150\n",
      "33/38 [=========================>....] - ETA: 0s - loss: 1.0575 - accuracy: 0.5587\n",
      "Epoch 82: val_loss did not improve from 1.11765\n",
      "38/38 [==============================] - 0s 7ms/step - loss: 1.0424 - accuracy: 0.5554 - val_loss: 1.1423 - val_accuracy: 0.5134\n",
      "Epoch 83/150\n",
      "32/38 [========================>.....] - ETA: 0s - loss: 1.0573 - accuracy: 0.5479\n",
      "Epoch 83: val_loss improved from 1.11765 to 1.10871, saving model to /audio_classification.hdf5\n",
      "38/38 [==============================] - 0s 11ms/step - loss: 1.0368 - accuracy: 0.5562 - val_loss: 1.1087 - val_accuracy: 0.5403\n",
      "Epoch 84/150\n",
      "33/38 [=========================>....] - ETA: 0s - loss: 1.0639 - accuracy: 0.5492\n",
      "Epoch 84: val_loss improved from 1.10871 to 1.10654, saving model to /audio_classification.hdf5\n",
      "38/38 [==============================] - 0s 8ms/step - loss: 1.0583 - accuracy: 0.5487 - val_loss: 1.1065 - val_accuracy: 0.5369\n",
      "Epoch 85/150\n",
      "33/38 [=========================>....] - ETA: 0s - loss: 1.0269 - accuracy: 0.5691\n",
      "Epoch 85: val_loss did not improve from 1.10654\n",
      "38/38 [==============================] - 0s 7ms/step - loss: 1.0241 - accuracy: 0.5738 - val_loss: 1.1345 - val_accuracy: 0.5034\n",
      "Epoch 86/150\n",
      "31/38 [=======================>......] - ETA: 0s - loss: 1.0302 - accuracy: 0.5423\n",
      "Epoch 86: val_loss did not improve from 1.10654\n",
      "38/38 [==============================] - 0s 7ms/step - loss: 1.0269 - accuracy: 0.5520 - val_loss: 1.1220 - val_accuracy: 0.5067\n",
      "Epoch 87/150\n",
      "31/38 [=======================>......] - ETA: 0s - loss: 1.0191 - accuracy: 0.5514\n",
      "Epoch 87: val_loss improved from 1.10654 to 1.10547, saving model to /audio_classification.hdf5\n",
      "38/38 [==============================] - 0s 8ms/step - loss: 1.0118 - accuracy: 0.5604 - val_loss: 1.1055 - val_accuracy: 0.5268\n",
      "Epoch 88/150\n",
      "33/38 [=========================>....] - ETA: 0s - loss: 1.0225 - accuracy: 0.5597\n",
      "Epoch 88: val_loss did not improve from 1.10547\n",
      "38/38 [==============================] - 0s 6ms/step - loss: 1.0134 - accuracy: 0.5646 - val_loss: 1.1272 - val_accuracy: 0.5201\n",
      "Epoch 89/150\n",
      "32/38 [========================>.....] - ETA: 0s - loss: 1.0086 - accuracy: 0.5762\n",
      "Epoch 89: val_loss did not improve from 1.10547\n"
     ]
    },
    {
     "name": "stdout",
     "output_type": "stream",
     "text": [
      "38/38 [==============================] - 0s 7ms/step - loss: 1.0282 - accuracy: 0.5680 - val_loss: 1.1458 - val_accuracy: 0.4966\n",
      "Epoch 90/150\n",
      "34/38 [=========================>....] - ETA: 0s - loss: 1.0296 - accuracy: 0.5754\n",
      "Epoch 90: val_loss did not improve from 1.10547\n",
      "38/38 [==============================] - 0s 6ms/step - loss: 1.0221 - accuracy: 0.5755 - val_loss: 1.1317 - val_accuracy: 0.5201\n",
      "Epoch 91/150\n",
      "33/38 [=========================>....] - ETA: 0s - loss: 0.9915 - accuracy: 0.5682\n",
      "Epoch 91: val_loss did not improve from 1.10547\n",
      "38/38 [==============================] - 0s 7ms/step - loss: 0.9837 - accuracy: 0.5755 - val_loss: 1.1283 - val_accuracy: 0.5436\n",
      "Epoch 92/150\n",
      "33/38 [=========================>....] - ETA: 0s - loss: 0.9708 - accuracy: 0.5748\n",
      "Epoch 92: val_loss did not improve from 1.10547\n",
      "38/38 [==============================] - 0s 6ms/step - loss: 0.9710 - accuracy: 0.5789 - val_loss: 1.1352 - val_accuracy: 0.5436\n",
      "Epoch 93/150\n",
      "36/38 [===========================>..] - ETA: 0s - loss: 0.9982 - accuracy: 0.5816\n",
      "Epoch 93: val_loss did not improve from 1.10547\n",
      "38/38 [==============================] - 0s 6ms/step - loss: 0.9962 - accuracy: 0.5839 - val_loss: 1.1270 - val_accuracy: 0.5369\n",
      "Epoch 94/150\n",
      "32/38 [========================>.....] - ETA: 0s - loss: 1.0120 - accuracy: 0.5713\n",
      "Epoch 94: val_loss did not improve from 1.10547\n",
      "38/38 [==============================] - 0s 7ms/step - loss: 1.0052 - accuracy: 0.5763 - val_loss: 1.1315 - val_accuracy: 0.5168\n",
      "Epoch 95/150\n",
      "33/38 [=========================>....] - ETA: 0s - loss: 0.9842 - accuracy: 0.5824\n",
      "Epoch 95: val_loss did not improve from 1.10547\n",
      "38/38 [==============================] - 0s 7ms/step - loss: 0.9743 - accuracy: 0.5847 - val_loss: 1.1385 - val_accuracy: 0.5369\n",
      "Epoch 96/150\n",
      "32/38 [========================>.....] - ETA: 0s - loss: 0.9932 - accuracy: 0.5664\n",
      "Epoch 96: val_loss did not improve from 1.10547\n",
      "38/38 [==============================] - 0s 6ms/step - loss: 0.9809 - accuracy: 0.5780 - val_loss: 1.1368 - val_accuracy: 0.5336\n",
      "Epoch 97/150\n",
      "35/38 [==========================>...] - ETA: 0s - loss: 0.9679 - accuracy: 0.5804\n",
      "Epoch 97: val_loss did not improve from 1.10547\n",
      "38/38 [==============================] - 0s 6ms/step - loss: 0.9722 - accuracy: 0.5755 - val_loss: 1.1413 - val_accuracy: 0.5268\n",
      "Epoch 98/150\n",
      "35/38 [==========================>...] - ETA: 0s - loss: 0.9524 - accuracy: 0.5911\n",
      "Epoch 98: val_loss did not improve from 1.10547\n",
      "38/38 [==============================] - 0s 6ms/step - loss: 0.9547 - accuracy: 0.5898 - val_loss: 1.1512 - val_accuracy: 0.5201\n",
      "Epoch 99/150\n",
      "34/38 [=========================>....] - ETA: 0s - loss: 0.9632 - accuracy: 0.5754\n",
      "Epoch 99: val_loss did not improve from 1.10547\n",
      "38/38 [==============================] - 0s 7ms/step - loss: 0.9554 - accuracy: 0.5856 - val_loss: 1.1207 - val_accuracy: 0.5134\n",
      "Epoch 100/150\n",
      "32/38 [========================>.....] - ETA: 0s - loss: 0.9155 - accuracy: 0.6064\n",
      "Epoch 100: val_loss did not improve from 1.10547\n",
      "38/38 [==============================] - 0s 7ms/step - loss: 0.9238 - accuracy: 0.6015 - val_loss: 1.1368 - val_accuracy: 0.5168\n",
      "Epoch 101/150\n",
      "31/38 [=======================>......] - ETA: 0s - loss: 0.9445 - accuracy: 0.5857\n",
      "Epoch 101: val_loss did not improve from 1.10547\n",
      "38/38 [==============================] - 0s 8ms/step - loss: 0.9376 - accuracy: 0.5914 - val_loss: 1.1317 - val_accuracy: 0.5268\n",
      "Epoch 102/150\n",
      "36/38 [===========================>..] - ETA: 0s - loss: 0.9274 - accuracy: 0.6128\n",
      "Epoch 102: val_loss did not improve from 1.10547\n",
      "38/38 [==============================] - 0s 8ms/step - loss: 0.9261 - accuracy: 0.6149 - val_loss: 1.1237 - val_accuracy: 0.5268\n",
      "Epoch 103/150\n",
      "31/38 [=======================>......] - ETA: 0s - loss: 0.9355 - accuracy: 0.6058\n",
      "Epoch 103: val_loss did not improve from 1.10547\n",
      "38/38 [==============================] - 0s 8ms/step - loss: 0.9377 - accuracy: 0.5998 - val_loss: 1.1234 - val_accuracy: 0.5235\n",
      "Epoch 104/150\n",
      "31/38 [=======================>......] - ETA: 0s - loss: 0.9324 - accuracy: 0.5917\n",
      "Epoch 104: val_loss did not improve from 1.10547\n",
      "38/38 [==============================] - 0s 7ms/step - loss: 0.9445 - accuracy: 0.5956 - val_loss: 1.1143 - val_accuracy: 0.5503\n",
      "Epoch 105/150\n",
      "31/38 [=======================>......] - ETA: 0s - loss: 0.9393 - accuracy: 0.6048\n",
      "Epoch 105: val_loss did not improve from 1.10547\n",
      "38/38 [==============================] - 0s 7ms/step - loss: 0.9283 - accuracy: 0.6099 - val_loss: 1.1209 - val_accuracy: 0.5503\n",
      "Epoch 106/150\n",
      "34/38 [=========================>....] - ETA: 0s - loss: 0.9288 - accuracy: 0.5974\n",
      "Epoch 106: val_loss did not improve from 1.10547\n",
      "38/38 [==============================] - 0s 7ms/step - loss: 0.9238 - accuracy: 0.6074 - val_loss: 1.1268 - val_accuracy: 0.5436\n",
      "Epoch 107/150\n",
      "29/38 [=====================>........] - ETA: 0s - loss: 0.9199 - accuracy: 0.6228\n",
      "Epoch 107: val_loss did not improve from 1.10547\n",
      "38/38 [==============================] - 0s 7ms/step - loss: 0.9263 - accuracy: 0.6166 - val_loss: 1.1528 - val_accuracy: 0.5201\n",
      "Epoch 108/150\n",
      "29/38 [=====================>........] - ETA: 0s - loss: 0.8822 - accuracy: 0.6153\n",
      "Epoch 108: val_loss did not improve from 1.10547\n",
      "38/38 [==============================] - 0s 7ms/step - loss: 0.9081 - accuracy: 0.6032 - val_loss: 1.1349 - val_accuracy: 0.5268\n",
      "Epoch 109/150\n",
      "35/38 [==========================>...] - ETA: 0s - loss: 0.9158 - accuracy: 0.6027\n",
      "Epoch 109: val_loss did not improve from 1.10547\n",
      "38/38 [==============================] - 0s 8ms/step - loss: 0.9184 - accuracy: 0.6057 - val_loss: 1.1426 - val_accuracy: 0.5403\n",
      "Epoch 110/150\n",
      "35/38 [==========================>...] - ETA: 0s - loss: 0.9321 - accuracy: 0.5804\n",
      "Epoch 110: val_loss did not improve from 1.10547\n",
      "38/38 [==============================] - 0s 6ms/step - loss: 0.9296 - accuracy: 0.5797 - val_loss: 1.1414 - val_accuracy: 0.5369\n",
      "Epoch 111/150\n",
      "33/38 [=========================>....] - ETA: 0s - loss: 0.8792 - accuracy: 0.6316\n",
      "Epoch 111: val_loss did not improve from 1.10547\n",
      "38/38 [==============================] - 0s 6ms/step - loss: 0.8836 - accuracy: 0.6309 - val_loss: 1.1189 - val_accuracy: 0.5503\n",
      "Epoch 112/150\n",
      "34/38 [=========================>....] - ETA: 0s - loss: 0.8741 - accuracy: 0.6232\n",
      "Epoch 112: val_loss did not improve from 1.10547\n",
      "38/38 [==============================] - 0s 6ms/step - loss: 0.8708 - accuracy: 0.6191 - val_loss: 1.1635 - val_accuracy: 0.5537\n",
      "Epoch 113/150\n",
      "31/38 [=======================>......] - ETA: 0s - loss: 0.8652 - accuracy: 0.6431\n",
      "Epoch 113: val_loss did not improve from 1.10547\n",
      "38/38 [==============================] - 0s 7ms/step - loss: 0.8835 - accuracy: 0.6275 - val_loss: 1.1788 - val_accuracy: 0.5470\n",
      "Epoch 114/150\n",
      "33/38 [=========================>....] - ETA: 0s - loss: 0.8488 - accuracy: 0.6354\n",
      "Epoch 114: val_loss did not improve from 1.10547\n",
      "38/38 [==============================] - 0s 6ms/step - loss: 0.8531 - accuracy: 0.6359 - val_loss: 1.2037 - val_accuracy: 0.5369\n",
      "Epoch 115/150\n",
      "34/38 [=========================>....] - ETA: 0s - loss: 0.8861 - accuracy: 0.6351\n",
      "Epoch 115: val_loss did not improve from 1.10547\n",
      "38/38 [==============================] - 0s 8ms/step - loss: 0.8847 - accuracy: 0.6334 - val_loss: 1.1728 - val_accuracy: 0.5403\n",
      "Epoch 116/150\n",
      "31/38 [=======================>......] - ETA: 0s - loss: 0.8819 - accuracy: 0.6280\n",
      "Epoch 116: val_loss did not improve from 1.10547\n",
      "38/38 [==============================] - 0s 7ms/step - loss: 0.8829 - accuracy: 0.6284 - val_loss: 1.1906 - val_accuracy: 0.5168\n",
      "Epoch 117/150\n",
      "36/38 [===========================>..] - ETA: 0s - loss: 0.8621 - accuracy: 0.6215\n",
      "Epoch 117: val_loss did not improve from 1.10547\n",
      "38/38 [==============================] - 0s 7ms/step - loss: 0.8553 - accuracy: 0.6250 - val_loss: 1.1615 - val_accuracy: 0.5336\n",
      "Epoch 118/150\n",
      "30/38 [======================>.......] - ETA: 0s - loss: 0.8601 - accuracy: 0.6365\n",
      "Epoch 118: val_loss did not improve from 1.10547\n",
      "38/38 [==============================] - 0s 7ms/step - loss: 0.8690 - accuracy: 0.6401 - val_loss: 1.1775 - val_accuracy: 0.5436\n",
      "Epoch 119/150\n",
      "36/38 [===========================>..] - ETA: 0s - loss: 0.8920 - accuracy: 0.6311\n",
      "Epoch 119: val_loss did not improve from 1.10547\n"
     ]
    },
    {
     "name": "stdout",
     "output_type": "stream",
     "text": [
      "38/38 [==============================] - 0s 8ms/step - loss: 0.8821 - accuracy: 0.6342 - val_loss: 1.1718 - val_accuracy: 0.5537\n",
      "Epoch 120/150\n",
      "30/38 [======================>.......] - ETA: 0s - loss: 0.8171 - accuracy: 0.6552\n",
      "Epoch 120: val_loss did not improve from 1.10547\n",
      "38/38 [==============================] - 0s 7ms/step - loss: 0.8364 - accuracy: 0.6460 - val_loss: 1.1775 - val_accuracy: 0.5470\n",
      "Epoch 121/150\n",
      "34/38 [=========================>....] - ETA: 0s - loss: 0.8040 - accuracy: 0.6645\n",
      "Epoch 121: val_loss did not improve from 1.10547\n",
      "38/38 [==============================] - 0s 7ms/step - loss: 0.8086 - accuracy: 0.6628 - val_loss: 1.2022 - val_accuracy: 0.5570\n",
      "Epoch 122/150\n",
      "31/38 [=======================>......] - ETA: 0s - loss: 0.8165 - accuracy: 0.6552\n",
      "Epoch 122: val_loss did not improve from 1.10547\n",
      "38/38 [==============================] - 0s 7ms/step - loss: 0.8190 - accuracy: 0.6577 - val_loss: 1.1432 - val_accuracy: 0.5503\n",
      "Epoch 123/150\n",
      "35/38 [==========================>...] - ETA: 0s - loss: 0.8098 - accuracy: 0.6643\n",
      "Epoch 123: val_loss did not improve from 1.10547\n",
      "38/38 [==============================] - 0s 6ms/step - loss: 0.8098 - accuracy: 0.6661 - val_loss: 1.1582 - val_accuracy: 0.5772\n",
      "Epoch 124/150\n",
      "35/38 [==========================>...] - ETA: 0s - loss: 0.8051 - accuracy: 0.6723\n",
      "Epoch 124: val_loss did not improve from 1.10547\n",
      "38/38 [==============================] - 0s 7ms/step - loss: 0.8101 - accuracy: 0.6703 - val_loss: 1.1755 - val_accuracy: 0.5638\n",
      "Epoch 125/150\n",
      "38/38 [==============================] - ETA: 0s - loss: 0.7871 - accuracy: 0.6745\n",
      "Epoch 125: val_loss did not improve from 1.10547\n",
      "38/38 [==============================] - 0s 6ms/step - loss: 0.7871 - accuracy: 0.6745 - val_loss: 1.1574 - val_accuracy: 0.5537\n",
      "Epoch 126/150\n",
      "34/38 [=========================>....] - ETA: 0s - loss: 0.7955 - accuracy: 0.6461\n",
      "Epoch 126: val_loss did not improve from 1.10547\n",
      "38/38 [==============================] - 0s 6ms/step - loss: 0.7908 - accuracy: 0.6468 - val_loss: 1.1825 - val_accuracy: 0.5537\n",
      "Epoch 127/150\n",
      "37/38 [============================>.] - ETA: 0s - loss: 0.7867 - accuracy: 0.6681\n",
      "Epoch 127: val_loss did not improve from 1.10547\n",
      "38/38 [==============================] - 0s 6ms/step - loss: 0.7893 - accuracy: 0.6661 - val_loss: 1.2234 - val_accuracy: 0.5470\n",
      "Epoch 128/150\n",
      "33/38 [=========================>....] - ETA: 0s - loss: 0.7782 - accuracy: 0.6657\n",
      "Epoch 128: val_loss did not improve from 1.10547\n",
      "38/38 [==============================] - 0s 6ms/step - loss: 0.7755 - accuracy: 0.6678 - val_loss: 1.2249 - val_accuracy: 0.5235\n",
      "Epoch 129/150\n",
      "34/38 [=========================>....] - ETA: 0s - loss: 0.7672 - accuracy: 0.6783\n",
      "Epoch 129: val_loss did not improve from 1.10547\n",
      "38/38 [==============================] - 0s 7ms/step - loss: 0.7613 - accuracy: 0.6804 - val_loss: 1.2358 - val_accuracy: 0.5503\n",
      "Epoch 130/150\n",
      "33/38 [=========================>....] - ETA: 0s - loss: 0.7848 - accuracy: 0.6780\n",
      "Epoch 130: val_loss did not improve from 1.10547\n",
      "38/38 [==============================] - 0s 6ms/step - loss: 0.7922 - accuracy: 0.6762 - val_loss: 1.1794 - val_accuracy: 0.5503\n",
      "Epoch 131/150\n",
      "33/38 [=========================>....] - ETA: 0s - loss: 0.7746 - accuracy: 0.6733\n",
      "Epoch 131: val_loss did not improve from 1.10547\n",
      "38/38 [==============================] - 0s 6ms/step - loss: 0.7748 - accuracy: 0.6720 - val_loss: 1.1750 - val_accuracy: 0.5302\n",
      "Epoch 132/150\n",
      "34/38 [=========================>....] - ETA: 0s - loss: 0.7867 - accuracy: 0.6710\n",
      "Epoch 132: val_loss did not improve from 1.10547\n",
      "38/38 [==============================] - 0s 8ms/step - loss: 0.7856 - accuracy: 0.6703 - val_loss: 1.2170 - val_accuracy: 0.5369\n",
      "Epoch 133/150\n",
      "35/38 [==========================>...] - ETA: 0s - loss: 0.7743 - accuracy: 0.6759\n",
      "Epoch 133: val_loss did not improve from 1.10547\n",
      "38/38 [==============================] - 0s 8ms/step - loss: 0.7708 - accuracy: 0.6770 - val_loss: 1.2015 - val_accuracy: 0.5470\n",
      "Epoch 134/150\n",
      "30/38 [======================>.......] - ETA: 0s - loss: 0.7482 - accuracy: 0.7094\n",
      "Epoch 134: val_loss did not improve from 1.10547\n",
      "38/38 [==============================] - 0s 7ms/step - loss: 0.7457 - accuracy: 0.7081 - val_loss: 1.2322 - val_accuracy: 0.5503\n",
      "Epoch 135/150\n",
      "37/38 [============================>.] - ETA: 0s - loss: 0.7423 - accuracy: 0.6875\n",
      "Epoch 135: val_loss did not improve from 1.10547\n",
      "38/38 [==============================] - 0s 6ms/step - loss: 0.7474 - accuracy: 0.6879 - val_loss: 1.2665 - val_accuracy: 0.5738\n",
      "Epoch 136/150\n",
      "34/38 [=========================>....] - ETA: 0s - loss: 0.7819 - accuracy: 0.6719\n",
      "Epoch 136: val_loss did not improve from 1.10547\n",
      "38/38 [==============================] - 0s 6ms/step - loss: 0.7824 - accuracy: 0.6678 - val_loss: 1.1747 - val_accuracy: 0.5436\n",
      "Epoch 137/150\n",
      "36/38 [===========================>..] - ETA: 0s - loss: 0.7345 - accuracy: 0.6997\n",
      "Epoch 137: val_loss did not improve from 1.10547\n",
      "38/38 [==============================] - 0s 8ms/step - loss: 0.7323 - accuracy: 0.7005 - val_loss: 1.2708 - val_accuracy: 0.5369\n",
      "Epoch 138/150\n",
      "29/38 [=====================>........] - ETA: 0s - loss: 0.7468 - accuracy: 0.6940\n",
      "Epoch 138: val_loss did not improve from 1.10547\n",
      "38/38 [==============================] - 0s 7ms/step - loss: 0.7568 - accuracy: 0.6862 - val_loss: 1.2649 - val_accuracy: 0.5671\n",
      "Epoch 139/150\n",
      "31/38 [=======================>......] - ETA: 0s - loss: 0.7428 - accuracy: 0.6835\n",
      "Epoch 139: val_loss did not improve from 1.10547\n",
      "38/38 [==============================] - 0s 7ms/step - loss: 0.7373 - accuracy: 0.6871 - val_loss: 1.2622 - val_accuracy: 0.5671\n",
      "Epoch 140/150\n",
      "38/38 [==============================] - ETA: 0s - loss: 0.7260 - accuracy: 0.7022\n",
      "Epoch 140: val_loss did not improve from 1.10547\n",
      "38/38 [==============================] - 0s 7ms/step - loss: 0.7260 - accuracy: 0.7022 - val_loss: 1.2574 - val_accuracy: 0.5369\n",
      "Epoch 141/150\n",
      "37/38 [============================>.] - ETA: 0s - loss: 0.7042 - accuracy: 0.7103\n",
      "Epoch 141: val_loss did not improve from 1.10547\n",
      "38/38 [==============================] - 0s 7ms/step - loss: 0.7037 - accuracy: 0.7114 - val_loss: 1.3089 - val_accuracy: 0.5705\n",
      "Epoch 142/150\n",
      "35/38 [==========================>...] - ETA: 0s - loss: 0.6785 - accuracy: 0.7107\n",
      "Epoch 142: val_loss did not improve from 1.10547\n",
      "38/38 [==============================] - 0s 8ms/step - loss: 0.6868 - accuracy: 0.7089 - val_loss: 1.2982 - val_accuracy: 0.5201\n",
      "Epoch 143/150\n",
      "31/38 [=======================>......] - ETA: 0s - loss: 0.7040 - accuracy: 0.7026\n",
      "Epoch 143: val_loss did not improve from 1.10547\n",
      "38/38 [==============================] - 0s 7ms/step - loss: 0.6977 - accuracy: 0.7047 - val_loss: 1.3580 - val_accuracy: 0.5369\n",
      "Epoch 144/150\n",
      "29/38 [=====================>........] - ETA: 0s - loss: 0.7149 - accuracy: 0.6961\n",
      "Epoch 144: val_loss did not improve from 1.10547\n",
      "38/38 [==============================] - 0s 7ms/step - loss: 0.7017 - accuracy: 0.7039 - val_loss: 1.3126 - val_accuracy: 0.5201\n",
      "Epoch 145/150\n",
      "32/38 [========================>.....] - ETA: 0s - loss: 0.7025 - accuracy: 0.7051\n",
      "Epoch 145: val_loss did not improve from 1.10547\n",
      "38/38 [==============================] - 0s 7ms/step - loss: 0.7054 - accuracy: 0.6988 - val_loss: 1.3107 - val_accuracy: 0.5201\n",
      "Epoch 146/150\n",
      "33/38 [=========================>....] - ETA: 0s - loss: 0.6646 - accuracy: 0.7377\n",
      "Epoch 146: val_loss did not improve from 1.10547\n",
      "38/38 [==============================] - 0s 8ms/step - loss: 0.6616 - accuracy: 0.7366 - val_loss: 1.3399 - val_accuracy: 0.5503\n",
      "Epoch 147/150\n",
      "31/38 [=======================>......] - ETA: 0s - loss: 0.6578 - accuracy: 0.7298\n",
      "Epoch 147: val_loss did not improve from 1.10547\n",
      "38/38 [==============================] - 0s 7ms/step - loss: 0.6765 - accuracy: 0.7265 - val_loss: 1.3578 - val_accuracy: 0.5638\n",
      "Epoch 148/150\n",
      "30/38 [======================>.......] - ETA: 0s - loss: 0.6711 - accuracy: 0.7260\n",
      "Epoch 148: val_loss did not improve from 1.10547\n",
      "38/38 [==============================] - 0s 7ms/step - loss: 0.6602 - accuracy: 0.7341 - val_loss: 1.4107 - val_accuracy: 0.5503\n",
      "Epoch 149/150\n",
      "33/38 [=========================>....] - ETA: 0s - loss: 0.6857 - accuracy: 0.7206\n",
      "Epoch 149: val_loss did not improve from 1.10547\n",
      "38/38 [==============================] - 0s 7ms/step - loss: 0.6887 - accuracy: 0.7181 - val_loss: 1.3604 - val_accuracy: 0.5671\n",
      "Epoch 150/150\n",
      "36/38 [===========================>..] - ETA: 0s - loss: 0.7177 - accuracy: 0.6892\n",
      "Epoch 150: val_loss did not improve from 1.10547\n",
      "38/38 [==============================] - 0s 6ms/step - loss: 0.7126 - accuracy: 0.6904 - val_loss: 1.3314 - val_accuracy: 0.5537\n",
      "Training completed in time:  0:00:43.789759\n"
     ]
    }
   ],
   "source": [
    "## Training my model\n",
    "from tensorflow.keras.callbacks import ModelCheckpoint\n",
    "from datetime import datetime\n",
    "\n",
    "num_epochs=150\n",
    "num_batch_size=32\n",
    "\n",
    "checkpointer=ModelCheckpoint(filepath='/audio_classification.hdf5', verbose=1, save_best_only=True)\n",
    "start=datetime.now()\n",
    "\n",
    "model.fit(x_train,y_train, batch_size=num_batch_size, epochs=num_epochs, validation_data=(x_test,y_test), callbacks=[checkpointer])\n",
    "duration=datetime.now()-start\n",
    "\n",
    "print(\"Training completed in time: \",duration)"
   ]
  },
  {
   "cell_type": "code",
   "execution_count": 40,
   "id": "dcc371d8",
   "metadata": {},
   "outputs": [
    {
     "name": "stdout",
     "output_type": "stream",
     "text": [
      "0.5536912679672241\n"
     ]
    }
   ],
   "source": [
    "test_accuracy=model.evaluate(x_test,y_test,verbose=0)\n",
    "print(test_accuracy[1])"
   ]
  },
  {
   "cell_type": "code",
   "execution_count": 47,
   "id": "c7ad7de8",
   "metadata": {},
   "outputs": [
    {
     "name": "stdout",
     "output_type": "stream",
     "text": [
      "10/10 [==============================] - 0s 4ms/step\n"
     ]
    },
    {
     "data": {
      "image/png": "[encoded data removed]",
      "text/plain": [
       "<Figure size 640x480 with 2 Axes>"
      ]
     },
     "metadata": {},
     "output_type": "display_data"
    }
   ],
   "source": [
    "from sklearn.metrics import confusion_matrix\n",
    "import seaborn as sns\n",
    "\n",
    "# Get predictions\n",
    "y_pred = model.predict(x_test)\n",
    "y_pred_classes = np.argmax(y_pred, axis=1)\n",
    "\n",
    "#compute confusion matrix\n",
    "conf_matrix = confusion_matrix(np.argmax(y_test, axis=1), y_pred_classes)\n",
    "\n",
    "#Plot confusion matrix\n",
    "sns.heatmap( conf_matrix, annot=True, fmt='d', cmap= 'Blues')\n",
    "plt.xlabel('Prediction')\n",
    "plt.ylabel('True')\n",
    "plt.title('Confusion Matrix')\n",
    "plt.show()"
   ]
  },
  {
   "cell_type": "markdown",
   "id": "25d00d66",
   "metadata": {},
   "source": [
    "## Model Evaluation"
   ]
  },
  {
   "cell_type": "code",
   "execution_count": 41,
   "id": "6a87feeb",
   "metadata": {},
   "outputs": [],
   "source": [
    "filename = 'Audio_Dataset/101-a_n.wav'"
   ]
  },
  {
   "cell_type": "code",
   "execution_count": 42,
   "id": "334d7154",
   "metadata": {},
   "outputs": [],
   "source": [
    "feature_df = pd.DataFrame(features_extraction(filename)).transpose()"
   ]
  },
  {
   "cell_type": "code",
   "execution_count": 43,
   "id": "fe4b49fa",
   "metadata": {},
   "outputs": [
    {
     "data": {
      "text/html": [
       "<div>\n",
       "<style scoped>\n",
       "    .dataframe tbody tr th:only-of-type {\n",
       "        vertical-align: middle;\n",
       "    }\n",
       "\n",
       "    .dataframe tbody tr th {\n",
       "        vertical-align: top;\n",
       "    }\n",
       "\n",
       "    .dataframe thead th {\n",
       "        text-align: right;\n",
       "    }\n",
       "</style>\n",
       "<table border=\"1\" class=\"dataframe\">\n",
       "  <thead>\n",
       "    <tr style=\"text-align: right;\">\n",
       "      <th></th>\n",
       "      <th>0</th>\n",
       "      <th>1</th>\n",
       "      <th>2</th>\n",
       "      <th>3</th>\n",
       "      <th>4</th>\n",
       "      <th>5</th>\n",
       "      <th>6</th>\n",
       "      <th>7</th>\n",
       "      <th>8</th>\n",
       "      <th>9</th>\n",
       "      <th>...</th>\n",
       "      <th>70</th>\n",
       "      <th>71</th>\n",
       "      <th>72</th>\n",
       "      <th>73</th>\n",
       "      <th>74</th>\n",
       "      <th>75</th>\n",
       "      <th>76</th>\n",
       "      <th>77</th>\n",
       "      <th>78</th>\n",
       "      <th>79</th>\n",
       "    </tr>\n",
       "  </thead>\n",
       "  <tbody>\n",
       "    <tr>\n",
       "      <th>0</th>\n",
       "      <td>-182.332748</td>\n",
       "      <td>138.173431</td>\n",
       "      <td>-84.687096</td>\n",
       "      <td>10.047243</td>\n",
       "      <td>-48.317905</td>\n",
       "      <td>9.40225</td>\n",
       "      <td>2.296518</td>\n",
       "      <td>4.65991</td>\n",
       "      <td>-13.330125</td>\n",
       "      <td>9.432405</td>\n",
       "      <td>...</td>\n",
       "      <td>-3.532734</td>\n",
       "      <td>1.599048</td>\n",
       "      <td>2.740876</td>\n",
       "      <td>-0.671063</td>\n",
       "      <td>1.497601</td>\n",
       "      <td>-0.059052</td>\n",
       "      <td>-2.493449</td>\n",
       "      <td>-0.113035</td>\n",
       "      <td>5.037437</td>\n",
       "      <td>-0.590547</td>\n",
       "    </tr>\n",
       "  </tbody>\n",
       "</table>\n",
       "<p>1 rows × 80 columns</p>\n",
       "</div>"
      ],
      "text/plain": [
       "           0           1          2          3          4        5         6   \\\n",
       "0 -182.332748  138.173431 -84.687096  10.047243 -48.317905  9.40225  2.296518   \n",
       "\n",
       "        7          8         9   ...        70        71        72        73  \\\n",
       "0  4.65991 -13.330125  9.432405  ... -3.532734  1.599048  2.740876 -0.671063   \n",
       "\n",
       "         74        75        76        77        78        79  \n",
       "0  1.497601 -0.059052 -2.493449 -0.113035  5.037437 -0.590547  \n",
       "\n",
       "[1 rows x 80 columns]"
      ]
     },
     "execution_count": 43,
     "metadata": {},
     "output_type": "execute_result"
    }
   ],
   "source": [
    "feature_df"
   ]
  },
  {
   "cell_type": "code",
   "execution_count": 44,
   "id": "e7cc1950",
   "metadata": {},
   "outputs": [],
   "source": [
    "features = np.array(feature_df.values.tolist())"
   ]
  },
  {
   "cell_type": "code",
   "execution_count": 45,
   "id": "e27f65b2",
   "metadata": {
    "scrolled": true
   },
   "outputs": [
    {
     "data": {
      "text/plain": [
       "(1, 80)"
      ]
     },
     "execution_count": 45,
     "metadata": {},
     "output_type": "execute_result"
    }
   ],
   "source": [
    "features.shape"
   ]
  },
  {
   "cell_type": "code",
   "execution_count": 46,
   "id": "516b73f2",
   "metadata": {},
   "outputs": [
    {
     "name": "stdout",
     "output_type": "stream",
     "text": [
      "1/1 [==============================] - 0s 95ms/step\n"
     ]
    },
    {
     "data": {
      "text/plain": [
       "array([[0.4223226 , 0.1670914 , 0.23075259, 0.17983349]], dtype=float32)"
      ]
     },
     "execution_count": 46,
     "metadata": {},
     "output_type": "execute_result"
    }
   ],
   "source": [
    "model.predict(features)"
   ]
  }
 ],
 "metadata": {
  "kernelspec": {
   "display_name": "Python 3 (ipykernel)",
   "language": "python",
   "name": "python3"
  },
  "language_info": {
   "codemirror_mode": {
    "name": "ipython",
    "version": 3
   },
   "file_extension": ".py",
   "mimetype": "text/x-python",
   "name": "python",
   "nbconvert_exporter": "python",
   "pygments_lexer": "ipython3",
   "version": "3.8.13"
  }
 },
 "nbformat": 4,
 "nbformat_minor": 5
}
